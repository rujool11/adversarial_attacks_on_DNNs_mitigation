{
 "cells": [
  {
   "cell_type": "code",
   "execution_count": null,
   "metadata": {
    "id": "LKISZ7zDsIfq"
   },
   "outputs": [],
   "source": [
    "import tensorflow as tf\n",
    "import numpy as np\n",
    "import matplotlib.pyplot as plt\n",
    "from tensorflow.keras.applications.mobilenet_v2 import preprocess_input"
   ]
  },
  {
   "cell_type": "code",
   "execution_count": null,
   "metadata": {
    "id": "Sy4_M1gosRt9"
   },
   "outputs": [],
   "source": [
    "# Hyperparameters\n",
    "BATCH_SIZE = 64\n",
    "IMG_SIZE = 96  # Upscale CIFAR-10 images (32x32) to 96x96 for MobileNetV2\n",
    "AUTOTUNE = tf.data.AUTOTUNE"
   ]
  },
  {
   "cell_type": "code",
   "execution_count": null,
   "metadata": {
    "id": "zLvNdS_JsTfq"
   },
   "outputs": [],
   "source": [
    "def resize_and_preprocess(image, label):\n",
    "    image = tf.cast(image, tf.float32)\n",
    "    image = tf.image.resize(image, [IMG_SIZE, IMG_SIZE])\n",
    "    image = preprocess_input(image)\n",
    "    return image, label"
   ]
  },
  {
   "cell_type": "code",
   "execution_count": null,
   "metadata": {
    "id": "9XTqKqHpsWf5"
   },
   "outputs": [],
   "source": [
    "# Load CIFAR-10 test dataset\n",
    "(_, _), (x_test, y_test) = tf.keras.datasets.cifar10.load_data()\n",
    "y_test = np.squeeze(y_test)"
   ]
  },
  {
   "cell_type": "code",
   "execution_count": null,
   "metadata": {
    "id": "FXzQS3pBsaQX"
   },
   "outputs": [],
   "source": [
    "model = tf.keras.models.load_model(\"model.keras\")"
   ]
  },
  {
   "cell_type": "code",
   "execution_count": null,
   "metadata": {
    "id": "1_7LRUhqsdQv"
   },
   "outputs": [],
   "source": [
    "#preprocessing data\n",
    "test_dataset = tf.data.Dataset.from_tensor_slices((x_test, y_test))\n",
    "test_dataset = test_dataset.map(resize_and_preprocess, num_parallel_calls=AUTOTUNE)\n",
    "test_dataset = test_dataset.batch(BATCH_SIZE).prefetch(AUTOTUNE)"
   ]
  },
  {
   "cell_type": "code",
   "execution_count": null,
   "metadata": {
    "id": "ukzT8sUH_NQW"
   },
   "outputs": [],
   "source": [
    "@tf.function\n",
    "def batched_fgsm_attack(images, labels, epsilon=0.01):\n",
    "    with tf.GradientTape() as tape:\n",
    "        tape.watch(images)\n",
    "        predictions = model(images, training=False)\n",
    "        loss = tf.keras.losses.sparse_categorical_crossentropy(labels, predictions)\n",
    "    gradients = tape.gradient(loss, images)\n",
    "    adv_images = images + epsilon * tf.sign(gradients)\n",
    "    adv_images = tf.clip_by_value(adv_images, -1, 1)\n",
    "    return adv_images\n"
   ]
  },
  {
   "cell_type": "code",
   "execution_count": null,
   "metadata": {
    "id": "QZQCzLDw_Or9"
   },
   "outputs": [],
   "source": [
    "@tf.function\n",
    "def batched_pgd_attack(images, labels, epsilon=0.01, alpha=0.005, num_iter=10):\n",
    "    adv_images = tf.identity(images)\n",
    "\n",
    "    for _ in tf.range(num_iter):\n",
    "        with tf.GradientTape() as tape:\n",
    "            tape.watch(adv_images)\n",
    "            predictions = model(adv_images, training=False)\n",
    "            loss = tf.keras.losses.sparse_categorical_crossentropy(labels, predictions)\n",
    "        gradients = tape.gradient(loss, adv_images)\n",
    "        adv_images = adv_images + alpha * tf.sign(gradients)\n",
    "\n",
    "        # Project perturbation\n",
    "        perturbation = tf.clip_by_value(adv_images - images, -epsilon, epsilon)\n",
    "        adv_images = tf.clip_by_value(images + perturbation, -1, 1)\n",
    "\n",
    "    return adv_images\n"
   ]
  },
  {
   "cell_type": "code",
   "execution_count": null,
   "metadata": {
    "id": "WavHpilK8tJM"
   },
   "outputs": [],
   "source": [
    "def deepfool_attack(image, num_classes=10, overshoot=0.0000001, max_iter=1):\n",
    "    image = tf.convert_to_tensor(image, dtype=tf.float32)\n",
    "    perturbed_image = tf.identity(image)\n",
    "\n",
    "    # Get original prediction and label\n",
    "    with tf.GradientTape() as tape:\n",
    "        tape.watch(perturbed_image)\n",
    "        logits = model(tf.expand_dims(perturbed_image, axis=0))[0]\n",
    "    orig_label = tf.argmax(logits)\n",
    "\n",
    "    r_tot = tf.zeros_like(image)\n",
    "    i = 0\n",
    "\n",
    "    while i < max_iter:\n",
    "        with tf.GradientTape(persistent=True) as tape:\n",
    "            tape.watch(perturbed_image)\n",
    "            logits = model(tf.expand_dims(perturbed_image, axis=0))[0]\n",
    "\n",
    "        current_label = tf.argmax(logits)\n",
    "        if current_label != orig_label:\n",
    "            break\n",
    "\n",
    "        # Compute gradients for all class logits\n",
    "        gradients = []\n",
    "        for k in range(num_classes):\n",
    "            with tf.GradientTape() as tape2:\n",
    "                tape2.watch(perturbed_image)\n",
    "                logit_k = model(tf.expand_dims(perturbed_image, axis=0))[0, k]\n",
    "            grad_k = tape2.gradient(logit_k, perturbed_image)\n",
    "            gradients.append(grad_k)\n",
    "        gradients = tf.stack(gradients)\n",
    "\n",
    "        # Compute minimal perturbation\n",
    "        f_orig = logits[orig_label]\n",
    "        perturbs = []\n",
    "        for k in range(num_classes):\n",
    "            if k == orig_label:\n",
    "                continue\n",
    "            w_k = gradients[k] - gradients[orig_label]\n",
    "            f_k = logits[k] - f_orig\n",
    "            norm_w = tf.norm(tf.reshape(w_k, [-1])) + 1e-8\n",
    "            pert_k = tf.abs(f_k) / norm_w\n",
    "            perturbs.append((pert_k, w_k))\n",
    "\n",
    "        # Choose the closest decision boundary\n",
    "        perturbs.sort(key=lambda x: x[0])\n",
    "        pert_k, w_k = perturbs[0]\n",
    "\n",
    "        # Compute minimal directional perturbation (no sign scaling)\n",
    "        r_i = (pert_k * w_k) / (tf.norm(w_k) + 1e-8)\n",
    "        r_tot += r_i\n",
    "\n",
    "        # Apply accumulated perturbation with small overshoot\n",
    "        perturbed_image = image + (1 + overshoot) * r_tot\n",
    "        perturbed_image = tf.clip_by_value(perturbed_image, -1, 1)\n",
    "\n",
    "        i += 1\n",
    "\n",
    "    return perturbed_image\n"
   ]
  },
  {
   "cell_type": "code",
   "execution_count": null,
   "metadata": {
    "id": "HfxOuqcJWUNe"
   },
   "outputs": [],
   "source": [
    "def get_test_dataset():\n",
    "    # Load CIFAR-10 test dataset and preprocess\n",
    "    (_, _), (x_test, y_test) = tf.keras.datasets.cifar10.load_data()\n",
    "    y_test = np.squeeze(y_test)\n",
    "    ds = tf.data.Dataset.from_tensor_slices((x_test, y_test))\n",
    "    ds = ds.map(resize_and_preprocess, num_parallel_calls=AUTOTUNE)\n",
    "    ds = ds.batch(BATCH_SIZE).prefetch(AUTOTUNE)\n",
    "    return ds"
   ]
  },
  {
   "cell_type": "code",
   "execution_count": null,
   "metadata": {
    "id": "RW9NcWS1_ChF"
   },
   "outputs": [],
   "source": [
    "clean_ds = get_test_dataset()\n",
    "model.compile(loss='sparse_categorical_crossentropy', metrics=['accuracy'])\n"
   ]
  },
  {
   "cell_type": "code",
   "execution_count": null,
   "metadata": {
    "id": "80ODgq-P8fdY"
   },
   "outputs": [],
   "source": [
    "def build_adversarial_dataset_fast(dataset, attack_fn, attack_name=\"FGSM\"):\n",
    "    adv_images_all = []\n",
    "    adv_labels_all = []\n",
    "\n",
    "    print(f\"\\nBuilding {attack_name} dataset...\")\n",
    "\n",
    "    for images, labels in dataset:\n",
    "        adv_images = attack_fn(images, labels)\n",
    "        adv_images_all.append(adv_images)\n",
    "        adv_labels_all.append(labels)\n",
    "\n",
    "    adv_images_all = tf.concat(adv_images_all, axis=0)\n",
    "    adv_labels_all = tf.concat(adv_labels_all, axis=0)\n",
    "\n",
    "    adv_ds = tf.data.Dataset.from_tensor_slices((adv_images_all, adv_labels_all))\n",
    "    return adv_ds.batch(BATCH_SIZE).prefetch(AUTOTUNE)\n"
   ]
  },
  {
   "cell_type": "code",
   "execution_count": null,
   "metadata": {
    "id": "PgSvSuAs84Xq"
   },
   "outputs": [],
   "source": [
    "def build_adversarial_dataset_deepfool(attack_fn, name=\"DeepFool\", max_samples=500, num_classes=10):\n",
    "    adv_images = []\n",
    "    adv_labels = []\n",
    "\n",
    "    print(f\"\\nGenerating {name} adversarial dataset (max {max_samples} samples)...\")\n",
    "    sample_count = 0\n",
    "\n",
    "    for images, labels in clean_ds:\n",
    "        for img, label in zip(images, labels):\n",
    "            # Pass a fixed number of classes instead of the label value.\n",
    "            adv_img = attack_fn(img, num_classes)\n",
    "            adv_images.append(adv_img.numpy())\n",
    "            adv_labels.append(int(label.numpy()))\n",
    "            sample_count += 1\n",
    "\n",
    "            if sample_count >= max_samples:\n",
    "                break\n",
    "        if sample_count >= max_samples:\n",
    "            break\n",
    "\n",
    "    adv_images = np.array(adv_images)\n",
    "    adv_labels = np.array(adv_labels)\n",
    "\n",
    "    ds = tf.data.Dataset.from_tensor_slices((adv_images, adv_labels))\n",
    "    ds = ds.batch(BATCH_SIZE).prefetch(AUTOTUNE)\n",
    "    return ds\n"
   ]
  },
  {
   "cell_type": "code",
   "execution_count": null,
   "metadata": {
    "colab": {
     "base_uri": "https://localhost:8080/"
    },
    "id": "5JsoMgov87Dd",
    "outputId": "a0a47408-dcf3-48c4-ebee-65ec78eca6f5"
   },
   "outputs": [
    {
     "name": "stdout",
     "output_type": "stream",
     "text": [
      "\n",
      "Building FGSM dataset...\n",
      "\n",
      "Building PGD dataset...\n",
      "\n",
      "Generating DeepFool adversarial dataset (max 200 samples)...\n"
     ]
    }
   ],
   "source": [
    "fgsm_ds = build_adversarial_dataset_fast(clean_ds, lambda x, y: batched_fgsm_attack(x, y, epsilon=0.01), attack_name=\"FGSM\")\n",
    "pgd_ds = build_adversarial_dataset_fast(clean_ds, lambda x, y: batched_pgd_attack(x, y, epsilon=0.01, alpha=0.005, num_iter=10), attack_name=\"PGD\")\n",
    "deepfool_ds = build_adversarial_dataset_deepfool(deepfool_attack, name=\"DeepFool\", max_samples=200)"
   ]
  },
  {
   "cell_type": "code",
   "execution_count": null,
   "metadata": {
    "id": "J825uX5a0_IC"
   },
   "outputs": [],
   "source": [
    "def cast_labels_to_int64(ds):\n",
    "    return ds.map(lambda x, y: (x, tf.cast(y, tf.int64)), num_parallel_calls=tf.data.AUTOTUNE)\n",
    "\n",
    "fgsm_ds = cast_labels_to_int64(fgsm_ds)\n",
    "pgd_ds = cast_labels_to_int64(pgd_ds)\n",
    "\n",
    "\n"
   ]
  },
  {
   "cell_type": "code",
   "execution_count": null,
   "metadata": {
    "colab": {
     "base_uri": "https://localhost:8080/"
    },
    "id": "y7PV3BOw0ZSl",
    "outputId": "ed821788-093e-4249-9dbd-5cc93dfa2fe4"
   },
   "outputs": [
    {
     "data": {
      "text/plain": [
       "<_ConcatenateDataset element_spec=(TensorSpec(shape=(None, 96, 96, 3), dtype=tf.float32, name=None), TensorSpec(shape=(None,), dtype=tf.int64, name=None))>"
      ]
     },
     "execution_count": 25,
     "metadata": {},
     "output_type": "execute_result"
    }
   ],
   "source": [
    "clean_ds = get_test_dataset()\n",
    "clean_ds = clean_ds.map(lambda x, y: (x, tf.cast(y, tf.int64)), num_parallel_calls=tf.data.AUTOTUNE)\n",
    "\n",
    "combined_ds = clean_ds\n",
    "combined_ds = combined_ds.concatenate(fgsm_ds)\n",
    "combined_ds = combined_ds.concatenate(pgd_ds)"
   ]
  },
  {
   "cell_type": "code",
   "execution_count": null,
   "metadata": {
    "colab": {
     "base_uri": "https://localhost:8080/"
    },
    "id": "1T1jkTju1U2-",
    "outputId": "28508912-c3b0-46b3-ea2b-e5e1d89511d7"
   },
   "outputs": [
    {
     "data": {
      "text/plain": [
       "<_ConcatenateDataset element_spec=(TensorSpec(shape=(None, 96, 96, 3), dtype=tf.float32, name=None), TensorSpec(shape=(None,), dtype=tf.int64, name=None))>"
      ]
     },
     "execution_count": 26,
     "metadata": {},
     "output_type": "execute_result"
    }
   ],
   "source": [
    "combined_ds = combined_ds.concatenate(deepfool_ds)"
   ]
  },
  {
   "cell_type": "code",
   "execution_count": null,
   "metadata": {
    "id": "4H1ECmR9tnRI"
   },
   "outputs": [],
   "source": [
    "model.compile(\n",
    "    optimizer=tf.keras.optimizers.Adam(learning_rate=1e-5),\n",
    "    loss=tf.keras.losses.SparseCategoricalCrossentropy(),\n",
    "    metrics=[\"accuracy\"]\n",
    ")"
   ]
  },
  {
   "cell_type": "code",
   "execution_count": null,
   "metadata": {
    "id": "QSp4XFBw1jto"
   },
   "outputs": [],
   "source": [
    "batch_size = 32\n",
    "combined_ds = combined_ds.shuffle(buffer_size=10000).prefetch(tf.data.AUTOTUNE)\n"
   ]
  },
  {
   "cell_type": "code",
   "execution_count": null,
   "metadata": {
    "id": "xfMgtQck7Aar"
   },
   "outputs": [],
   "source": [
    "combined_ds = combined_ds.shuffle(10000, reshuffle_each_iteration=False)\n",
    "\n",
    "total_batches = combined_ds.cardinality().numpy()\n",
    "if total_batches == tf.data.UNKNOWN_CARDINALITY:\n",
    "    total_batches = sum(1 for _ in combined_ds)\n",
    "\n",
    "train_batches = int(0.8 * total_batches)\n",
    "\n",
    "train_ds = combined_ds.take(train_batches)\n",
    "test_ds = combined_ds.skip(train_batches)"
   ]
  },
  {
   "cell_type": "code",
   "execution_count": null,
   "metadata": {
    "colab": {
     "base_uri": "https://localhost:8080/"
    },
    "id": "3juZGaF_ttKt",
    "outputId": "a361f59e-c3b1-476f-f649-c3d7337c8cc0"
   },
   "outputs": [
    {
     "name": "stdout",
     "output_type": "stream",
     "text": [
      "Epoch 1/10\n",
      "\u001b[1m125/125\u001b[0m \u001b[32m━━━━━━━━━━━━━━━━━━━━\u001b[0m\u001b[37m\u001b[0m \u001b[1m60s\u001b[0m 177ms/step - accuracy: 0.9089 - loss: 0.2787 - val_accuracy: 0.9199 - val_loss: 0.2225\n",
      "Epoch 2/10\n",
      "\u001b[1m125/125\u001b[0m \u001b[32m━━━━━━━━━━━━━━━━━━━━\u001b[0m\u001b[37m\u001b[0m \u001b[1m9s\u001b[0m 41ms/step - accuracy: 0.9289 - loss: 0.2186 - val_accuracy: 0.9287 - val_loss: 0.2187\n",
      "Epoch 3/10\n",
      "\u001b[1m125/125\u001b[0m \u001b[32m━━━━━━━━━━━━━━━━━━━━\u001b[0m\u001b[37m\u001b[0m \u001b[1m6s\u001b[0m 40ms/step - accuracy: 0.9544 - loss: 0.1437 - val_accuracy: 0.9512 - val_loss: 0.1366\n",
      "Epoch 4/10\n",
      "\u001b[1m125/125\u001b[0m \u001b[32m━━━━━━━━━━━━━━━━━━━━\u001b[0m\u001b[37m\u001b[0m \u001b[1m7s\u001b[0m 53ms/step - accuracy: 0.9554 - loss: 0.1413 - val_accuracy: 0.9580 - val_loss: 0.1212\n",
      "Epoch 5/10\n",
      "\u001b[1m125/125\u001b[0m \u001b[32m━━━━━━━━━━━━━━━━━━━━\u001b[0m\u001b[37m\u001b[0m \u001b[1m6s\u001b[0m 39ms/step - accuracy: 0.9679 - loss: 0.1060 - val_accuracy: 0.9575 - val_loss: 0.1163\n",
      "Epoch 6/10\n",
      "\u001b[1m125/125\u001b[0m \u001b[32m━━━━━━━━━━━━━━━━━━━━\u001b[0m\u001b[37m\u001b[0m \u001b[1m6s\u001b[0m 40ms/step - accuracy: 0.9795 - loss: 0.0767 - val_accuracy: 0.9650 - val_loss: 0.0895\n",
      "Epoch 7/10\n",
      "\u001b[1m125/125\u001b[0m \u001b[32m━━━━━━━━━━━━━━━━━━━━\u001b[0m\u001b[37m\u001b[0m \u001b[1m6s\u001b[0m 39ms/step - accuracy: 0.9867 - loss: 0.0615 - val_accuracy: 0.9735 - val_loss: 0.0773\n",
      "Epoch 8/10\n",
      "\u001b[1m125/125\u001b[0m \u001b[32m━━━━━━━━━━━━━━━━━━━━\u001b[0m\u001b[37m\u001b[0m \u001b[1m10s\u001b[0m 40ms/step - accuracy: 0.9925 - loss: 0.0511 - val_accuracy: 0.9790 - val_loss: 0.0593\n",
      "Epoch 9/10\n",
      "\u001b[1m125/125\u001b[0m \u001b[32m━━━━━━━━━━━━━━━━━━━━\u001b[0m\u001b[37m\u001b[0m \u001b[1m10s\u001b[0m 39ms/step - accuracy: 0.9946 - loss: 0.0374 - val_accuracy: 0.9868 - val_loss: 0.0469\n",
      "Epoch 10/10\n",
      "\u001b[1m125/125\u001b[0m \u001b[32m━━━━━━━━━━━━━━━━━━━━\u001b[0m\u001b[37m\u001b[0m \u001b[1m7s\u001b[0m 51ms/step - accuracy: 0.9967 - loss: 0.0328 - val_accuracy: 0.9873 - val_loss: 0.0467\n"
     ]
    },
    {
     "data": {
      "text/plain": [
       "<keras.src.callbacks.history.History at 0x78bba015b690>"
      ]
     },
     "execution_count": 49,
     "metadata": {},
     "output_type": "execute_result"
    }
   ],
   "source": [
    "model.fit(train_ds,\n",
    "          validation_data = test_ds,\n",
    "          epochs=10)"
   ]
  },
  {
   "cell_type": "code",
   "execution_count": null,
   "metadata": {
    "colab": {
     "base_uri": "https://localhost:8080/"
    },
    "id": "Ey5rQCHFuElz",
    "outputId": "4f70ed8d-4a93-4b73-9354-7e6f2537f202"
   },
   "outputs": [
    {
     "name": "stdout",
     "output_type": "stream",
     "text": [
      "\u001b[1m157/157\u001b[0m \u001b[32m━━━━━━━━━━━━━━━━━━━━\u001b[0m\u001b[37m\u001b[0m \u001b[1m3s\u001b[0m 12ms/step - accuracy: 0.9859 - loss: 0.0450\n"
     ]
    },
    {
     "data": {
      "text/plain": [
       "[0.04580977186560631, 0.9868999719619751]"
      ]
     },
     "execution_count": 50,
     "metadata": {},
     "output_type": "execute_result"
    }
   ],
   "source": [
    "model.evaluate(combined_ds)"
   ]
  },
  {
   "cell_type": "code",
   "execution_count": null,
   "metadata": {
    "colab": {
     "base_uri": "https://localhost:8080/"
    },
    "id": "QPMDhlY4uNqX",
    "outputId": "8ff3aae6-c46c-4a20-b919-c4ab7645d655"
   },
   "outputs": [
    {
     "name": "stdout",
     "output_type": "stream",
     "text": [
      "\u001b[1m157/157\u001b[0m \u001b[32m━━━━━━━━━━━━━━━━━━━━\u001b[0m\u001b[37m\u001b[0m \u001b[1m2s\u001b[0m 13ms/step - accuracy: 0.9865 - loss: 0.0487\n"
     ]
    },
    {
     "data": {
      "text/plain": [
       "[0.04580976814031601, 0.9868999719619751]"
      ]
     },
     "execution_count": 51,
     "metadata": {},
     "output_type": "execute_result"
    }
   ],
   "source": [
    "model.evaluate(clean_ds)"
   ]
  },
  {
   "cell_type": "code",
   "execution_count": null,
   "metadata": {
    "colab": {
     "base_uri": "https://localhost:8080/"
    },
    "id": "kZoDhHhiuPTq",
    "outputId": "846b88ff-d23f-4083-9861-3e6761bbbc27"
   },
   "outputs": [
    {
     "name": "stdout",
     "output_type": "stream",
     "text": [
      "\u001b[1m157/157\u001b[0m \u001b[32m━━━━━━━━━━━━━━━━━━━━\u001b[0m\u001b[37m\u001b[0m \u001b[1m2s\u001b[0m 15ms/step - accuracy: 0.2290 - loss: 4.6208\n"
     ]
    },
    {
     "data": {
      "text/plain": [
       "[4.589585304260254, 0.22910000383853912]"
      ]
     },
     "execution_count": 52,
     "metadata": {},
     "output_type": "execute_result"
    }
   ],
   "source": [
    "model.evaluate(fgsm_ds)"
   ]
  },
  {
   "cell_type": "code",
   "execution_count": null,
   "metadata": {
    "colab": {
     "base_uri": "https://localhost:8080/"
    },
    "id": "LK03YCiluSpg",
    "outputId": "8a2ac1fc-2c3b-4aaa-9d02-ca4807585cd7"
   },
   "outputs": [
    {
     "name": "stdout",
     "output_type": "stream",
     "text": [
      "\u001b[1m157/157\u001b[0m \u001b[32m━━━━━━━━━━━━━━━━━━━━\u001b[0m\u001b[37m\u001b[0m \u001b[1m2s\u001b[0m 14ms/step - accuracy: 0.0020 - loss: 18.1072\n"
     ]
    },
    {
     "data": {
      "text/plain": [
       "[18.050321578979492, 0.002400000113993883]"
      ]
     },
     "execution_count": 53,
     "metadata": {},
     "output_type": "execute_result"
    }
   ],
   "source": [
    "model.evaluate(pgd_ds)"
   ]
  },
  {
   "cell_type": "code",
   "execution_count": null,
   "metadata": {
    "colab": {
     "base_uri": "https://localhost:8080/"
    },
    "id": "b3lRjZ53uUty",
    "outputId": "f3ec0c9a-d801-45b9-c7de-010f5e530bc9"
   },
   "outputs": [
    {
     "name": "stdout",
     "output_type": "stream",
     "text": [
      "\u001b[1m4/4\u001b[0m \u001b[32m━━━━━━━━━━━━━━━━━━━━\u001b[0m\u001b[37m\u001b[0m \u001b[1m3s\u001b[0m 922ms/step - accuracy: 0.2802 - loss: 4.7834\n"
     ]
    },
    {
     "data": {
      "text/plain": [
       "[4.804771900177002, 0.2800000011920929]"
      ]
     },
     "execution_count": 54,
     "metadata": {},
     "output_type": "execute_result"
    }
   ],
   "source": [
    "model.evaluate(deepfool_ds)"
   ]
  },
  {
   "cell_type": "code",
   "execution_count": null,
   "metadata": {
    "id": "-3ZmnFtButBB"
   },
   "outputs": [],
   "source": [
    "model.save(\"adversarial_trained_model.keras\")"
   ]
  },
  {
   "cell_type": "code",
   "execution_count": null,
   "metadata": {
    "id": "oq3M3qA082ar"
   },
   "outputs": [],
   "source": []
  }
 ],
 "metadata": {
  "accelerator": "GPU",
  "colab": {
   "gpuType": "T4",
   "provenance": []
  },
  "kernelspec": {
   "display_name": "Python 3 (ipykernel)",
   "language": "python",
   "name": "python3"
  },
  "language_info": {
   "codemirror_mode": {
    "name": "ipython",
    "version": 3
   },
   "file_extension": ".py",
   "mimetype": "text/x-python",
   "name": "python",
   "nbconvert_exporter": "python",
   "pygments_lexer": "ipython3",
   "version": "3.10.12"
  }
 },
 "nbformat": 4,
 "nbformat_minor": 4
}
