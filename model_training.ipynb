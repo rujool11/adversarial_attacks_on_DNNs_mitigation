{
  "nbformat": 4,
  "nbformat_minor": 0,
    "kernelspec": {
      "name": "python3",
      "display_name": "Python 3"
    },
    "language_info": {
      "name": "python"
    },
    "accelerator": "GPU",
    "widgets": {
      "application/vnd.jupyter.widget-state+json": {
        "c723b60c59164e14a1b70c70e0cd978d": {
          "model_module": "@jupyter-widgets/controls",
          "model_name": "HBoxModel",
          "model_module_version": "1.5.0",
          "state": {
            "_dom_classes": [],
            "_model_module": "@jupyter-widgets/controls",
            "_model_module_version": "1.5.0",
            "_model_name": "HBoxModel",
            "_view_count": null,
            "_view_module": "@jupyter-widgets/controls",
            "_view_module_version": "1.5.0",
            "_view_name": "HBoxView",
            "box_style": "",
            "children": [
              "IPY_MODEL_9710bf82b5ee402aabaabfe57790b822",
              "IPY_MODEL_1884666fd4694b8ca780a2842dc76978",
              "IPY_MODEL_c9029dd5f62540a8a2402d48613a43f3"
            ],
            "layout": "IPY_MODEL_d3660f9b2e014a9985ce00d3d406bafb"
          }
        },
        "9710bf82b5ee402aabaabfe57790b822": {
          "model_module": "@jupyter-widgets/controls",
          "model_name": "HTMLModel",
          "model_module_version": "1.5.0",
          "state": {
            "_dom_classes": [],
            "_model_module": "@jupyter-widgets/controls",
            "_model_module_version": "1.5.0",
            "_model_name": "HTMLModel",
            "_view_count": null,
            "_view_module": "@jupyter-widgets/controls",
            "_view_module_version": "1.5.0",
            "_view_name": "HTMLView",
            "description": "",
            "description_tooltip": null,
            "layout": "IPY_MODEL_600ca26f1dab4adc944f86df4156e148",
            "placeholder": "​",
            "style": "IPY_MODEL_fda2e07ba7a44fb7b0da0ccbb8215aa0",
            "value": "Dl Completed...: 100%"
          }
        },
        "1884666fd4694b8ca780a2842dc76978": {
          "model_module": "@jupyter-widgets/controls",
          "model_name": "FloatProgressModel",
          "model_module_version": "1.5.0",
          "state": {
            "_dom_classes": [],
            "_model_module": "@jupyter-widgets/controls",
            "_model_module_version": "1.5.0",
            "_model_name": "FloatProgressModel",
            "_view_count": null,
            "_view_module": "@jupyter-widgets/controls",
            "_view_module_version": "1.5.0",
            "_view_name": "ProgressView",
            "bar_style": "success",
            "description": "",
            "description_tooltip": null,
            "layout": "IPY_MODEL_1d2dbbedf87d4892be6a489758cb9c2c",
            "max": 1,
            "min": 0,
            "orientation": "horizontal",
            "style": "IPY_MODEL_7ce5cbec44d3459487ac7808f00e3829",
            "value": 1
          }
        },
        "c9029dd5f62540a8a2402d48613a43f3": {
          "model_module": "@jupyter-widgets/controls",
          "model_name": "HTMLModel",
          "model_module_version": "1.5.0",
          "state": {
            "_dom_classes": [],
            "_model_module": "@jupyter-widgets/controls",
            "_model_module_version": "1.5.0",
            "_model_name": "HTMLModel",
            "_view_count": null,
            "_view_module": "@jupyter-widgets/controls",
            "_view_module_version": "1.5.0",
            "_view_name": "HTMLView",
            "description": "",
            "description_tooltip": null,
            "layout": "IPY_MODEL_05c7dd4da7674bc89781534912cddc4c",
            "placeholder": "​",
            "style": "IPY_MODEL_fcb432de1c454126aa4005f60b38809f",
            "value": " 1/1 [00:06&lt;00:00,  3.87s/ url]"
          }
        },
        "d3660f9b2e014a9985ce00d3d406bafb": {
          "model_module": "@jupyter-widgets/base",
          "model_name": "LayoutModel",
          "model_module_version": "1.2.0",
          "state": {
            "_model_module": "@jupyter-widgets/base",
            "_model_module_version": "1.2.0",
            "_model_name": "LayoutModel",
            "_view_count": null,
            "_view_module": "@jupyter-widgets/base",
            "_view_module_version": "1.2.0",
            "_view_name": "LayoutView",
            "align_content": null,
            "align_items": null,
            "align_self": null,
            "border": null,
            "bottom": null,
            "display": null,
            "flex": null,
            "flex_flow": null,
            "grid_area": null,
            "grid_auto_columns": null,
            "grid_auto_flow": null,
            "grid_auto_rows": null,
            "grid_column": null,
            "grid_gap": null,
            "grid_row": null,
            "grid_template_areas": null,
            "grid_template_columns": null,
            "grid_template_rows": null,
            "height": null,
            "justify_content": null,
            "justify_items": null,
            "left": null,
            "margin": null,
            "max_height": null,
            "max_width": null,
            "min_height": null,
            "min_width": null,
            "object_fit": null,
            "object_position": null,
            "order": null,
            "overflow": null,
            "overflow_x": null,
            "overflow_y": null,
            "padding": null,
            "right": null,
            "top": null,
            "visibility": null,
            "width": null
          }
        },
        "600ca26f1dab4adc944f86df4156e148": {
          "model_module": "@jupyter-widgets/base",
          "model_name": "LayoutModel",
          "model_module_version": "1.2.0",
          "state": {
            "_model_module": "@jupyter-widgets/base",
            "_model_module_version": "1.2.0",
            "_model_name": "LayoutModel",
            "_view_count": null,
            "_view_module": "@jupyter-widgets/base",
            "_view_module_version": "1.2.0",
            "_view_name": "LayoutView",
            "align_content": null,
            "align_items": null,
            "align_self": null,
            "border": null,
            "bottom": null,
            "display": null,
            "flex": null,
            "flex_flow": null,
            "grid_area": null,
            "grid_auto_columns": null,
            "grid_auto_flow": null,
            "grid_auto_rows": null,
            "grid_column": null,
            "grid_gap": null,
            "grid_row": null,
            "grid_template_areas": null,
            "grid_template_columns": null,
            "grid_template_rows": null,
            "height": null,
            "justify_content": null,
            "justify_items": null,
            "left": null,
            "margin": null,
            "max_height": null,
            "max_width": null,
            "min_height": null,
            "min_width": null,
            "object_fit": null,
            "object_position": null,
            "order": null,
            "overflow": null,
            "overflow_x": null,
            "overflow_y": null,
            "padding": null,
            "right": null,
            "top": null,
            "visibility": null,
            "width": null
          }
        },
        "fda2e07ba7a44fb7b0da0ccbb8215aa0": {
          "model_module": "@jupyter-widgets/controls",
          "model_name": "DescriptionStyleModel",
          "model_module_version": "1.5.0",
          "state": {
            "_model_module": "@jupyter-widgets/controls",
            "_model_module_version": "1.5.0",
            "_model_name": "DescriptionStyleModel",
            "_view_count": null,
            "_view_module": "@jupyter-widgets/base",
            "_view_module_version": "1.2.0",
            "_view_name": "StyleView",
            "description_width": ""
          }
        },
        "1d2dbbedf87d4892be6a489758cb9c2c": {
          "model_module": "@jupyter-widgets/base",
          "model_name": "LayoutModel",
          "model_module_version": "1.2.0",
          "state": {
            "_model_module": "@jupyter-widgets/base",
            "_model_module_version": "1.2.0",
            "_model_name": "LayoutModel",
            "_view_count": null,
            "_view_module": "@jupyter-widgets/base",
            "_view_module_version": "1.2.0",
            "_view_name": "LayoutView",
            "align_content": null,
            "align_items": null,
            "align_self": null,
            "border": null,
            "bottom": null,
            "display": null,
            "flex": null,
            "flex_flow": null,
            "grid_area": null,
            "grid_auto_columns": null,
            "grid_auto_flow": null,
            "grid_auto_rows": null,
            "grid_column": null,
            "grid_gap": null,
            "grid_row": null,
            "grid_template_areas": null,
            "grid_template_columns": null,
            "grid_template_rows": null,
            "height": null,
            "justify_content": null,
            "justify_items": null,
            "left": null,
            "margin": null,
            "max_height": null,
            "max_width": null,
            "min_height": null,
            "min_width": null,
            "object_fit": null,
            "object_position": null,
            "order": null,
            "overflow": null,
            "overflow_x": null,
            "overflow_y": null,
            "padding": null,
            "right": null,
            "top": null,
            "visibility": null,
            "width": "20px"
          }
        },
        "7ce5cbec44d3459487ac7808f00e3829": {
          "model_module": "@jupyter-widgets/controls",
          "model_name": "ProgressStyleModel",
          "model_module_version": "1.5.0",
          "state": {
            "_model_module": "@jupyter-widgets/controls",
            "_model_module_version": "1.5.0",
            "_model_name": "ProgressStyleModel",
            "_view_count": null,
            "_view_module": "@jupyter-widgets/base",
            "_view_module_version": "1.2.0",
            "_view_name": "StyleView",
            "bar_color": null,
            "description_width": ""
          }
        },
        "05c7dd4da7674bc89781534912cddc4c": {
          "model_module": "@jupyter-widgets/base",
          "model_name": "LayoutModel",
          "model_module_version": "1.2.0",
          "state": {
            "_model_module": "@jupyter-widgets/base",
            "_model_module_version": "1.2.0",
            "_model_name": "LayoutModel",
            "_view_count": null,
            "_view_module": "@jupyter-widgets/base",
            "_view_module_version": "1.2.0",
            "_view_name": "LayoutView",
            "align_content": null,
            "align_items": null,
            "align_self": null,
            "border": null,
            "bottom": null,
            "display": null,
            "flex": null,
            "flex_flow": null,
            "grid_area": null,
            "grid_auto_columns": null,
            "grid_auto_flow": null,
            "grid_auto_rows": null,
            "grid_column": null,
            "grid_gap": null,
            "grid_row": null,
            "grid_template_areas": null,
            "grid_template_columns": null,
            "grid_template_rows": null,
            "height": null,
            "justify_content": null,
            "justify_items": null,
            "left": null,
            "margin": null,
            "max_height": null,
            "max_width": null,
            "min_height": null,
            "min_width": null,
            "object_fit": null,
            "object_position": null,
            "order": null,
            "overflow": null,
            "overflow_x": null,
            "overflow_y": null,
            "padding": null,
            "right": null,
            "top": null,
            "visibility": null,
            "width": null
          }
        },
        "fcb432de1c454126aa4005f60b38809f": {
          "model_module": "@jupyter-widgets/controls",
          "model_name": "DescriptionStyleModel",
          "model_module_version": "1.5.0",
          "state": {
            "_model_module": "@jupyter-widgets/controls",
            "_model_module_version": "1.5.0",
            "_model_name": "DescriptionStyleModel",
            "_view_count": null,
            "_view_module": "@jupyter-widgets/base",
            "_view_module_version": "1.2.0",
            "_view_name": "StyleView",
            "description_width": ""
          }
        },
        "60193aa443f5430097732ecc06054d99": {
          "model_module": "@jupyter-widgets/controls",
          "model_name": "HBoxModel",
          "model_module_version": "1.5.0",
          "state": {
            "_dom_classes": [],
            "_model_module": "@jupyter-widgets/controls",
            "_model_module_version": "1.5.0",
            "_model_name": "HBoxModel",
            "_view_count": null,
            "_view_module": "@jupyter-widgets/controls",
            "_view_module_version": "1.5.0",
            "_view_name": "HBoxView",
            "box_style": "",
            "children": [
              "IPY_MODEL_10b8162e5dcf4acf810b4acf96ba2a78",
              "IPY_MODEL_2cb7fa651a1143b59db173a2d11962c2",
              "IPY_MODEL_b63117e95d474431a973f1ef9ba6f591"
            ],
            "layout": "IPY_MODEL_624314041af6475e9ce04e28e02dc2bc"
          }
        },
        "10b8162e5dcf4acf810b4acf96ba2a78": {
          "model_module": "@jupyter-widgets/controls",
          "model_name": "HTMLModel",
          "model_module_version": "1.5.0",
          "state": {
            "_dom_classes": [],
            "_model_module": "@jupyter-widgets/controls",
            "_model_module_version": "1.5.0",
            "_model_name": "HTMLModel",
            "_view_count": null,
            "_view_module": "@jupyter-widgets/controls",
            "_view_module_version": "1.5.0",
            "_view_name": "HTMLView",
            "description": "",
            "description_tooltip": null,
            "layout": "IPY_MODEL_64749ec014c4493199c1172a1a3fcfa8",
            "placeholder": "​",
            "style": "IPY_MODEL_af924c2f7573427e862679a33b73ab45",
            "value": "Dl Size...: 100%"
          }
        },
        "2cb7fa651a1143b59db173a2d11962c2": {
          "model_module": "@jupyter-widgets/controls",
          "model_name": "FloatProgressModel",
          "model_module_version": "1.5.0",
          "state": {
            "_dom_classes": [],
            "_model_module": "@jupyter-widgets/controls",
            "_model_module_version": "1.5.0",
            "_model_name": "FloatProgressModel",
            "_view_count": null,
            "_view_module": "@jupyter-widgets/controls",
            "_view_module_version": "1.5.0",
            "_view_name": "ProgressView",
            "bar_style": "success",
            "description": "",
            "description_tooltip": null,
            "layout": "IPY_MODEL_004033d5379b439999cb9af585847317",
            "max": 1,
            "min": 0,
            "orientation": "horizontal",
            "style": "IPY_MODEL_d61d6e485eb742c8a091d471890815df",
            "value": 1
          }
        },
        "b63117e95d474431a973f1ef9ba6f591": {
          "model_module": "@jupyter-widgets/controls",
          "model_name": "HTMLModel",
          "model_module_version": "1.5.0",
          "state": {
            "_dom_classes": [],
            "_model_module": "@jupyter-widgets/controls",
            "_model_module_version": "1.5.0",
            "_model_name": "HTMLModel",
            "_view_count": null,
            "_view_module": "@jupyter-widgets/controls",
            "_view_module_version": "1.5.0",
            "_view_name": "HTMLView",
            "description": "",
            "description_tooltip": null,
            "layout": "IPY_MODEL_deb5c87498b94ef7bf37cd074a6fc9f4",
            "placeholder": "​",
            "style": "IPY_MODEL_cf6deba2dde0407a8d73cbb8f6dd62a1",
            "value": " 162/162 [00:06&lt;00:00, 43.91 MiB/s]"
          }
        },
        "624314041af6475e9ce04e28e02dc2bc": {
          "model_module": "@jupyter-widgets/base",
          "model_name": "LayoutModel",
          "model_module_version": "1.2.0",
          "state": {
            "_model_module": "@jupyter-widgets/base",
            "_model_module_version": "1.2.0",
            "_model_name": "LayoutModel",
            "_view_count": null,
            "_view_module": "@jupyter-widgets/base",
            "_view_module_version": "1.2.0",
            "_view_name": "LayoutView",
            "align_content": null,
            "align_items": null,
            "align_self": null,
            "border": null,
            "bottom": null,
            "display": null,
            "flex": null,
            "flex_flow": null,
            "grid_area": null,
            "grid_auto_columns": null,
            "grid_auto_flow": null,
            "grid_auto_rows": null,
            "grid_column": null,
            "grid_gap": null,
            "grid_row": null,
            "grid_template_areas": null,
            "grid_template_columns": null,
            "grid_template_rows": null,
            "height": null,
            "justify_content": null,
            "justify_items": null,
            "left": null,
            "margin": null,
            "max_height": null,
            "max_width": null,
            "min_height": null,
            "min_width": null,
            "object_fit": null,
            "object_position": null,
            "order": null,
            "overflow": null,
            "overflow_x": null,
            "overflow_y": null,
            "padding": null,
            "right": null,
            "top": null,
            "visibility": null,
            "width": null
          }
        },
        "64749ec014c4493199c1172a1a3fcfa8": {
          "model_module": "@jupyter-widgets/base",
          "model_name": "LayoutModel",
          "model_module_version": "1.2.0",
          "state": {
            "_model_module": "@jupyter-widgets/base",
            "_model_module_version": "1.2.0",
            "_model_name": "LayoutModel",
            "_view_count": null,
            "_view_module": "@jupyter-widgets/base",
            "_view_module_version": "1.2.0",
            "_view_name": "LayoutView",
            "align_content": null,
            "align_items": null,
            "align_self": null,
            "border": null,
            "bottom": null,
            "display": null,
            "flex": null,
            "flex_flow": null,
            "grid_area": null,
            "grid_auto_columns": null,
            "grid_auto_flow": null,
            "grid_auto_rows": null,
            "grid_column": null,
            "grid_gap": null,
            "grid_row": null,
            "grid_template_areas": null,
            "grid_template_columns": null,
            "grid_template_rows": null,
            "height": null,
            "justify_content": null,
            "justify_items": null,
            "left": null,
            "margin": null,
            "max_height": null,
            "max_width": null,
            "min_height": null,
            "min_width": null,
            "object_fit": null,
            "object_position": null,
            "order": null,
            "overflow": null,
            "overflow_x": null,
            "overflow_y": null,
            "padding": null,
            "right": null,
            "top": null,
            "visibility": null,
            "width": null
          }
        },
        "af924c2f7573427e862679a33b73ab45": {
          "model_module": "@jupyter-widgets/controls",
          "model_name": "DescriptionStyleModel",
          "model_module_version": "1.5.0",
          "state": {
            "_model_module": "@jupyter-widgets/controls",
            "_model_module_version": "1.5.0",
            "_model_name": "DescriptionStyleModel",
            "_view_count": null,
            "_view_module": "@jupyter-widgets/base",
            "_view_module_version": "1.2.0",
            "_view_name": "StyleView",
            "description_width": ""
          }
        },
        "004033d5379b439999cb9af585847317": {
          "model_module": "@jupyter-widgets/base",
          "model_name": "LayoutModel",
          "model_module_version": "1.2.0",
          "state": {
            "_model_module": "@jupyter-widgets/base",
            "_model_module_version": "1.2.0",
            "_model_name": "LayoutModel",
            "_view_count": null,
            "_view_module": "@jupyter-widgets/base",
            "_view_module_version": "1.2.0",
            "_view_name": "LayoutView",
            "align_content": null,
            "align_items": null,
            "align_self": null,
            "border": null,
            "bottom": null,
            "display": null,
            "flex": null,
            "flex_flow": null,
            "grid_area": null,
            "grid_auto_columns": null,
            "grid_auto_flow": null,
            "grid_auto_rows": null,
            "grid_column": null,
            "grid_gap": null,
            "grid_row": null,
            "grid_template_areas": null,
            "grid_template_columns": null,
            "grid_template_rows": null,
            "height": null,
            "justify_content": null,
            "justify_items": null,
            "left": null,
            "margin": null,
            "max_height": null,
            "max_width": null,
            "min_height": null,
            "min_width": null,
            "object_fit": null,
            "object_position": null,
            "order": null,
            "overflow": null,
            "overflow_x": null,
            "overflow_y": null,
            "padding": null,
            "right": null,
            "top": null,
            "visibility": null,
            "width": "20px"
          }
        },
        "d61d6e485eb742c8a091d471890815df": {
          "model_module": "@jupyter-widgets/controls",
          "model_name": "ProgressStyleModel",
          "model_module_version": "1.5.0",
          "state": {
            "_model_module": "@jupyter-widgets/controls",
            "_model_module_version": "1.5.0",
            "_model_name": "ProgressStyleModel",
            "_view_count": null,
            "_view_module": "@jupyter-widgets/base",
            "_view_module_version": "1.2.0",
            "_view_name": "StyleView",
            "bar_color": null,
            "description_width": ""
          }
        },
        "deb5c87498b94ef7bf37cd074a6fc9f4": {
          "model_module": "@jupyter-widgets/base",
          "model_name": "LayoutModel",
          "model_module_version": "1.2.0",
          "state": {
            "_model_module": "@jupyter-widgets/base",
            "_model_module_version": "1.2.0",
            "_model_name": "LayoutModel",
            "_view_count": null,
            "_view_module": "@jupyter-widgets/base",
            "_view_module_version": "1.2.0",
            "_view_name": "LayoutView",
            "align_content": null,
            "align_items": null,
            "align_self": null,
            "border": null,
            "bottom": null,
            "display": null,
            "flex": null,
            "flex_flow": null,
            "grid_area": null,
            "grid_auto_columns": null,
            "grid_auto_flow": null,
            "grid_auto_rows": null,
            "grid_column": null,
            "grid_gap": null,
            "grid_row": null,
            "grid_template_areas": null,
            "grid_template_columns": null,
            "grid_template_rows": null,
            "height": null,
            "justify_content": null,
            "justify_items": null,
            "left": null,
            "margin": null,
            "max_height": null,
            "max_width": null,
            "min_height": null,
            "min_width": null,
            "object_fit": null,
            "object_position": null,
            "order": null,
            "overflow": null,
            "overflow_x": null,
            "overflow_y": null,
            "padding": null,
            "right": null,
            "top": null,
            "visibility": null,
            "width": null
          }
        },
        "cf6deba2dde0407a8d73cbb8f6dd62a1": {
          "model_module": "@jupyter-widgets/controls",
          "model_name": "DescriptionStyleModel",
          "model_module_version": "1.5.0",
          "state": {
            "_model_module": "@jupyter-widgets/controls",
            "_model_module_version": "1.5.0",
            "_model_name": "DescriptionStyleModel",
            "_view_count": null,
            "_view_module": "@jupyter-widgets/base",
            "_view_module_version": "1.2.0",
            "_view_name": "StyleView",
            "description_width": ""
          }
        },
        "6afffd2f7fc34ef09c95b34af2125378": {
          "model_module": "@jupyter-widgets/controls",
          "model_name": "HBoxModel",
          "model_module_version": "1.5.0",
          "state": {
            "_dom_classes": [],
            "_model_module": "@jupyter-widgets/controls",
            "_model_module_version": "1.5.0",
            "_model_name": "HBoxModel",
            "_view_count": null,
            "_view_module": "@jupyter-widgets/controls",
            "_view_module_version": "1.5.0",
            "_view_name": "HBoxView",
            "box_style": "",
            "children": [
              "IPY_MODEL_8db3fdc73dc649f89a03700c3e2432ba",
              "IPY_MODEL_6e2cb11977f949f6808cd6ea4a218441",
              "IPY_MODEL_422b9cb0cc204bf9869e528956cedff3"
            ],
            "layout": "IPY_MODEL_ed8acfb49abe404899787b55da6d78b5"
          }
        },
        "8db3fdc73dc649f89a03700c3e2432ba": {
          "model_module": "@jupyter-widgets/controls",
          "model_name": "HTMLModel",
          "model_module_version": "1.5.0",
          "state": {
            "_dom_classes": [],
            "_model_module": "@jupyter-widgets/controls",
            "_model_module_version": "1.5.0",
            "_model_name": "HTMLModel",
            "_view_count": null,
            "_view_module": "@jupyter-widgets/controls",
            "_view_module_version": "1.5.0",
            "_view_name": "HTMLView",
            "description": "",
            "description_tooltip": null,
            "layout": "IPY_MODEL_ee6c308080b24f0b982b659bb3a0ea11",
            "placeholder": "​",
            "style": "IPY_MODEL_69258ae51e8b4e8c92526965b252c4e2",
            "value": "Extraction completed...: 100%"
          }
        },
        "6e2cb11977f949f6808cd6ea4a218441": {
          "model_module": "@jupyter-widgets/controls",
          "model_name": "FloatProgressModel",
          "model_module_version": "1.5.0",
          "state": {
            "_dom_classes": [],
            "_model_module": "@jupyter-widgets/controls",
            "_model_module_version": "1.5.0",
            "_model_name": "FloatProgressModel",
            "_view_count": null,
            "_view_module": "@jupyter-widgets/controls",
            "_view_module_version": "1.5.0",
            "_view_name": "ProgressView",
            "bar_style": "success",
            "description": "",
            "description_tooltip": null,
            "layout": "IPY_MODEL_284b29dee581472e961693b5674a9f4d",
            "max": 1,
            "min": 0,
            "orientation": "horizontal",
            "style": "IPY_MODEL_b1cb9bf034f74becb6bed5a0c9ad0024",
            "value": 1
          }
        },
        "422b9cb0cc204bf9869e528956cedff3": {
          "model_module": "@jupyter-widgets/controls",
          "model_name": "HTMLModel",
          "model_module_version": "1.5.0",
          "state": {
            "_dom_classes": [],
            "_model_module": "@jupyter-widgets/controls",
            "_model_module_version": "1.5.0",
            "_model_name": "HTMLModel",
            "_view_count": null,
            "_view_module": "@jupyter-widgets/controls",
            "_view_module_version": "1.5.0",
            "_view_name": "HTMLView",
            "description": "",
            "description_tooltip": null,
            "layout": "IPY_MODEL_74573ad633bf4f29b50013af71fce01d",
            "placeholder": "​",
            "style": "IPY_MODEL_a7c523d99ba5404b9f92934a3d1c3668",
            "value": " 8/8 [00:06&lt;00:00,  6.41s/ file]"
          }
        },
        "ed8acfb49abe404899787b55da6d78b5": {
          "model_module": "@jupyter-widgets/base",
          "model_name": "LayoutModel",
          "model_module_version": "1.2.0",
          "state": {
            "_model_module": "@jupyter-widgets/base",
            "_model_module_version": "1.2.0",
            "_model_name": "LayoutModel",
            "_view_count": null,
            "_view_module": "@jupyter-widgets/base",
            "_view_module_version": "1.2.0",
            "_view_name": "LayoutView",
            "align_content": null,
            "align_items": null,
            "align_self": null,
            "border": null,
            "bottom": null,
            "display": null,
            "flex": null,
            "flex_flow": null,
            "grid_area": null,
            "grid_auto_columns": null,
            "grid_auto_flow": null,
            "grid_auto_rows": null,
            "grid_column": null,
            "grid_gap": null,
            "grid_row": null,
            "grid_template_areas": null,
            "grid_template_columns": null,
            "grid_template_rows": null,
            "height": null,
            "justify_content": null,
            "justify_items": null,
            "left": null,
            "margin": null,
            "max_height": null,
            "max_width": null,
            "min_height": null,
            "min_width": null,
            "object_fit": null,
            "object_position": null,
            "order": null,
            "overflow": null,
            "overflow_x": null,
            "overflow_y": null,
            "padding": null,
            "right": null,
            "top": null,
            "visibility": null,
            "width": null
          }
        },
        "ee6c308080b24f0b982b659bb3a0ea11": {
          "model_module": "@jupyter-widgets/base",
          "model_name": "LayoutModel",
          "model_module_version": "1.2.0",
          "state": {
            "_model_module": "@jupyter-widgets/base",
            "_model_module_version": "1.2.0",
            "_model_name": "LayoutModel",
            "_view_count": null,
            "_view_module": "@jupyter-widgets/base",
            "_view_module_version": "1.2.0",
            "_view_name": "LayoutView",
            "align_content": null,
            "align_items": null,
            "align_self": null,
            "border": null,
            "bottom": null,
            "display": null,
            "flex": null,
            "flex_flow": null,
            "grid_area": null,
            "grid_auto_columns": null,
            "grid_auto_flow": null,
            "grid_auto_rows": null,
            "grid_column": null,
            "grid_gap": null,
            "grid_row": null,
            "grid_template_areas": null,
            "grid_template_columns": null,
            "grid_template_rows": null,
            "height": null,
            "justify_content": null,
            "justify_items": null,
            "left": null,
            "margin": null,
            "max_height": null,
            "max_width": null,
            "min_height": null,
            "min_width": null,
            "object_fit": null,
            "object_position": null,
            "order": null,
            "overflow": null,
            "overflow_x": null,
            "overflow_y": null,
            "padding": null,
            "right": null,
            "top": null,
            "visibility": null,
            "width": null
          }
        },
        "69258ae51e8b4e8c92526965b252c4e2": {
          "model_module": "@jupyter-widgets/controls",
          "model_name": "DescriptionStyleModel",
          "model_module_version": "1.5.0",
          "state": {
            "_model_module": "@jupyter-widgets/controls",
            "_model_module_version": "1.5.0",
            "_model_name": "DescriptionStyleModel",
            "_view_count": null,
            "_view_module": "@jupyter-widgets/base",
            "_view_module_version": "1.2.0",
            "_view_name": "StyleView",
            "description_width": ""
          }
        },
        "284b29dee581472e961693b5674a9f4d": {
          "model_module": "@jupyter-widgets/base",
          "model_name": "LayoutModel",
          "model_module_version": "1.2.0",
          "state": {
            "_model_module": "@jupyter-widgets/base",
            "_model_module_version": "1.2.0",
            "_model_name": "LayoutModel",
            "_view_count": null,
            "_view_module": "@jupyter-widgets/base",
            "_view_module_version": "1.2.0",
            "_view_name": "LayoutView",
            "align_content": null,
            "align_items": null,
            "align_self": null,
            "border": null,
            "bottom": null,
            "display": null,
            "flex": null,
            "flex_flow": null,
            "grid_area": null,
            "grid_auto_columns": null,
            "grid_auto_flow": null,
            "grid_auto_rows": null,
            "grid_column": null,
            "grid_gap": null,
            "grid_row": null,
            "grid_template_areas": null,
            "grid_template_columns": null,
            "grid_template_rows": null,
            "height": null,
            "justify_content": null,
            "justify_items": null,
            "left": null,
            "margin": null,
            "max_height": null,
            "max_width": null,
            "min_height": null,
            "min_width": null,
            "object_fit": null,
            "object_position": null,
            "order": null,
            "overflow": null,
            "overflow_x": null,
            "overflow_y": null,
            "padding": null,
            "right": null,
            "top": null,
            "visibility": null,
            "width": "20px"
          }
        },
        "b1cb9bf034f74becb6bed5a0c9ad0024": {
          "model_module": "@jupyter-widgets/controls",
          "model_name": "ProgressStyleModel",
          "model_module_version": "1.5.0",
          "state": {
            "_model_module": "@jupyter-widgets/controls",
            "_model_module_version": "1.5.0",
            "_model_name": "ProgressStyleModel",
            "_view_count": null,
            "_view_module": "@jupyter-widgets/base",
            "_view_module_version": "1.2.0",
            "_view_name": "StyleView",
            "bar_color": null,
            "description_width": ""
          }
        },
        "74573ad633bf4f29b50013af71fce01d": {
          "model_module": "@jupyter-widgets/base",
          "model_name": "LayoutModel",
          "model_module_version": "1.2.0",
          "state": {
            "_model_module": "@jupyter-widgets/base",
            "_model_module_version": "1.2.0",
            "_model_name": "LayoutModel",
            "_view_count": null,
            "_view_module": "@jupyter-widgets/base",
            "_view_module_version": "1.2.0",
            "_view_name": "LayoutView",
            "align_content": null,
            "align_items": null,
            "align_self": null,
            "border": null,
            "bottom": null,
            "display": null,
            "flex": null,
            "flex_flow": null,
            "grid_area": null,
            "grid_auto_columns": null,
            "grid_auto_flow": null,
            "grid_auto_rows": null,
            "grid_column": null,
            "grid_gap": null,
            "grid_row": null,
            "grid_template_areas": null,
            "grid_template_columns": null,
            "grid_template_rows": null,
            "height": null,
            "justify_content": null,
            "justify_items": null,
            "left": null,
            "margin": null,
            "max_height": null,
            "max_width": null,
            "min_height": null,
            "min_width": null,
            "object_fit": null,
            "object_position": null,
            "order": null,
            "overflow": null,
            "overflow_x": null,
            "overflow_y": null,
            "padding": null,
            "right": null,
            "top": null,
            "visibility": null,
            "width": null
          }
        },
        "a7c523d99ba5404b9f92934a3d1c3668": {
          "model_module": "@jupyter-widgets/controls",
          "model_name": "DescriptionStyleModel",
          "model_module_version": "1.5.0",
          "state": {
            "_model_module": "@jupyter-widgets/controls",
            "_model_module_version": "1.5.0",
            "_model_name": "DescriptionStyleModel",
            "_view_count": null,
            "_view_module": "@jupyter-widgets/base",
            "_view_module_version": "1.2.0",
            "_view_name": "StyleView",
            "description_width": ""
          }
        },
        "71dbf97618a34eda8169fed0b90f69a7": {
          "model_module": "@jupyter-widgets/controls",
          "model_name": "HBoxModel",
          "model_module_version": "1.5.0",
          "state": {
            "_dom_classes": [],
            "_model_module": "@jupyter-widgets/controls",
            "_model_module_version": "1.5.0",
            "_model_name": "HBoxModel",
            "_view_count": null,
            "_view_module": "@jupyter-widgets/controls",
            "_view_module_version": "1.5.0",
            "_view_name": "HBoxView",
            "box_style": "",
            "children": [
              "IPY_MODEL_d5cfe0774d2c413987c71b14af802fba",
              "IPY_MODEL_a6c525cc4df74166a09cf1cceddd5db4",
              "IPY_MODEL_087a7110e2ba4d149b4470e67e4685e9"
            ],
            "layout": "IPY_MODEL_f3a3cff8f4a84392b5b2f72046f467c9"
          }
        },
        "d5cfe0774d2c413987c71b14af802fba": {
          "model_module": "@jupyter-widgets/controls",
          "model_name": "HTMLModel",
          "model_module_version": "1.5.0",
          "state": {
            "_dom_classes": [],
            "_model_module": "@jupyter-widgets/controls",
            "_model_module_version": "1.5.0",
            "_model_name": "HTMLModel",
            "_view_count": null,
            "_view_module": "@jupyter-widgets/controls",
            "_view_module_version": "1.5.0",
            "_view_name": "HTMLView",
            "description": "",
            "description_tooltip": null,
            "layout": "IPY_MODEL_823f31d363a747be9de1de46fe8c4821",
            "placeholder": "​",
            "style": "IPY_MODEL_603355f0c35041bb815c4e7a5c101966",
            "value": "Generating splits...: 100%"
          }
        },
        "a6c525cc4df74166a09cf1cceddd5db4": {
          "model_module": "@jupyter-widgets/controls",
          "model_name": "FloatProgressModel",
          "model_module_version": "1.5.0",
          "state": {
            "_dom_classes": [],
            "_model_module": "@jupyter-widgets/controls",
            "_model_module_version": "1.5.0",
            "_model_name": "FloatProgressModel",
            "_view_count": null,
            "_view_module": "@jupyter-widgets/controls",
            "_view_module_version": "1.5.0",
            "_view_name": "ProgressView",
            "bar_style": "",
            "description": "",
            "description_tooltip": null,
            "layout": "IPY_MODEL_661b45dee2c64fd9b7e1a016be9070c2",
            "max": 2,
            "min": 0,
            "orientation": "horizontal",
            "style": "IPY_MODEL_fad41752b5d94b2994ba4c60db4d6fff",
            "value": 2
          }
        },
        "087a7110e2ba4d149b4470e67e4685e9": {
          "model_module": "@jupyter-widgets/controls",
          "model_name": "HTMLModel",
          "model_module_version": "1.5.0",
          "state": {
            "_dom_classes": [],
            "_model_module": "@jupyter-widgets/controls",
            "_model_module_version": "1.5.0",
            "_model_name": "HTMLModel",
            "_view_count": null,
            "_view_module": "@jupyter-widgets/controls",
            "_view_module_version": "1.5.0",
            "_view_name": "HTMLView",
            "description": "",
            "description_tooltip": null,
            "layout": "IPY_MODEL_602ecf4f61044da5bb0ea8fab71cbd61",
            "placeholder": "​",
            "style": "IPY_MODEL_7e69f516bf7447b6bdb44c7983492ce8",
            "value": " 2/2 [00:59&lt;00:00, 26.08s/ splits]"
          }
        },
        "f3a3cff8f4a84392b5b2f72046f467c9": {
          "model_module": "@jupyter-widgets/base",
          "model_name": "LayoutModel",
          "model_module_version": "1.2.0",
          "state": {
            "_model_module": "@jupyter-widgets/base",
            "_model_module_version": "1.2.0",
            "_model_name": "LayoutModel",
            "_view_count": null,
            "_view_module": "@jupyter-widgets/base",
            "_view_module_version": "1.2.0",
            "_view_name": "LayoutView",
            "align_content": null,
            "align_items": null,
            "align_self": null,
            "border": null,
            "bottom": null,
            "display": null,
            "flex": null,
            "flex_flow": null,
            "grid_area": null,
            "grid_auto_columns": null,
            "grid_auto_flow": null,
            "grid_auto_rows": null,
            "grid_column": null,
            "grid_gap": null,
            "grid_row": null,
            "grid_template_areas": null,
            "grid_template_columns": null,
            "grid_template_rows": null,
            "height": null,
            "justify_content": null,
            "justify_items": null,
            "left": null,
            "margin": null,
            "max_height": null,
            "max_width": null,
            "min_height": null,
            "min_width": null,
            "object_fit": null,
            "object_position": null,
            "order": null,
            "overflow": null,
            "overflow_x": null,
            "overflow_y": null,
            "padding": null,
            "right": null,
            "top": null,
            "visibility": "hidden",
            "width": null
          }
        },
        "823f31d363a747be9de1de46fe8c4821": {
          "model_module": "@jupyter-widgets/base",
          "model_name": "LayoutModel",
          "model_module_version": "1.2.0",
          "state": {
            "_model_module": "@jupyter-widgets/base",
            "_model_module_version": "1.2.0",
            "_model_name": "LayoutModel",
            "_view_count": null,
            "_view_module": "@jupyter-widgets/base",
            "_view_module_version": "1.2.0",
            "_view_name": "LayoutView",
            "align_content": null,
            "align_items": null,
            "align_self": null,
            "border": null,
            "bottom": null,
            "display": null,
            "flex": null,
            "flex_flow": null,
            "grid_area": null,
            "grid_auto_columns": null,
            "grid_auto_flow": null,
            "grid_auto_rows": null,
            "grid_column": null,
            "grid_gap": null,
            "grid_row": null,
            "grid_template_areas": null,
            "grid_template_columns": null,
            "grid_template_rows": null,
            "height": null,
            "justify_content": null,
            "justify_items": null,
            "left": null,
            "margin": null,
            "max_height": null,
            "max_width": null,
            "min_height": null,
            "min_width": null,
            "object_fit": null,
            "object_position": null,
            "order": null,
            "overflow": null,
            "overflow_x": null,
            "overflow_y": null,
            "padding": null,
            "right": null,
            "top": null,
            "visibility": null,
            "width": null
          }
        },
        "603355f0c35041bb815c4e7a5c101966": {
          "model_module": "@jupyter-widgets/controls",
          "model_name": "DescriptionStyleModel",
          "model_module_version": "1.5.0",
          "state": {
            "_model_module": "@jupyter-widgets/controls",
            "_model_module_version": "1.5.0",
            "_model_name": "DescriptionStyleModel",
            "_view_count": null,
            "_view_module": "@jupyter-widgets/base",
            "_view_module_version": "1.2.0",
            "_view_name": "StyleView",
            "description_width": ""
          }
        },
        "661b45dee2c64fd9b7e1a016be9070c2": {
          "model_module": "@jupyter-widgets/base",
          "model_name": "LayoutModel",
          "model_module_version": "1.2.0",
          "state": {
            "_model_module": "@jupyter-widgets/base",
            "_model_module_version": "1.2.0",
            "_model_name": "LayoutModel",
            "_view_count": null,
            "_view_module": "@jupyter-widgets/base",
            "_view_module_version": "1.2.0",
            "_view_name": "LayoutView",
            "align_content": null,
            "align_items": null,
            "align_self": null,
            "border": null,
            "bottom": null,
            "display": null,
            "flex": null,
            "flex_flow": null,
            "grid_area": null,
            "grid_auto_columns": null,
            "grid_auto_flow": null,
            "grid_auto_rows": null,
            "grid_column": null,
            "grid_gap": null,
            "grid_row": null,
            "grid_template_areas": null,
            "grid_template_columns": null,
            "grid_template_rows": null,
            "height": null,
            "justify_content": null,
            "justify_items": null,
            "left": null,
            "margin": null,
            "max_height": null,
            "max_width": null,
            "min_height": null,
            "min_width": null,
            "object_fit": null,
            "object_position": null,
            "order": null,
            "overflow": null,
            "overflow_x": null,
            "overflow_y": null,
            "padding": null,
            "right": null,
            "top": null,
            "visibility": null,
            "width": null
          }
        },
        "fad41752b5d94b2994ba4c60db4d6fff": {
          "model_module": "@jupyter-widgets/controls",
          "model_name": "ProgressStyleModel",
          "model_module_version": "1.5.0",
          "state": {
            "_model_module": "@jupyter-widgets/controls",
            "_model_module_version": "1.5.0",
            "_model_name": "ProgressStyleModel",
            "_view_count": null,
            "_view_module": "@jupyter-widgets/base",
            "_view_module_version": "1.2.0",
            "_view_name": "StyleView",
            "bar_color": null,
            "description_width": ""
          }
        },
        "602ecf4f61044da5bb0ea8fab71cbd61": {
          "model_module": "@jupyter-widgets/base",
          "model_name": "LayoutModel",
          "model_module_version": "1.2.0",
          "state": {
            "_model_module": "@jupyter-widgets/base",
            "_model_module_version": "1.2.0",
            "_model_name": "LayoutModel",
            "_view_count": null,
            "_view_module": "@jupyter-widgets/base",
            "_view_module_version": "1.2.0",
            "_view_name": "LayoutView",
            "align_content": null,
            "align_items": null,
            "align_self": null,
            "border": null,
            "bottom": null,
            "display": null,
            "flex": null,
            "flex_flow": null,
            "grid_area": null,
            "grid_auto_columns": null,
            "grid_auto_flow": null,
            "grid_auto_rows": null,
            "grid_column": null,
            "grid_gap": null,
            "grid_row": null,
            "grid_template_areas": null,
            "grid_template_columns": null,
            "grid_template_rows": null,
            "height": null,
            "justify_content": null,
            "justify_items": null,
            "left": null,
            "margin": null,
            "max_height": null,
            "max_width": null,
            "min_height": null,
            "min_width": null,
            "object_fit": null,
            "object_position": null,
            "order": null,
            "overflow": null,
            "overflow_x": null,
            "overflow_y": null,
            "padding": null,
            "right": null,
            "top": null,
            "visibility": null,
            "width": null
          }
        },
        "7e69f516bf7447b6bdb44c7983492ce8": {
          "model_module": "@jupyter-widgets/controls",
          "model_name": "DescriptionStyleModel",
          "model_module_version": "1.5.0",
          "state": {
            "_model_module": "@jupyter-widgets/controls",
            "_model_module_version": "1.5.0",
            "_model_name": "DescriptionStyleModel",
            "_view_count": null,
            "_view_module": "@jupyter-widgets/base",
            "_view_module_version": "1.2.0",
            "_view_name": "StyleView",
            "description_width": ""
          }
        },
        "73af50c170f04fa599363d75ab3e78f5": {
          "model_module": "@jupyter-widgets/controls",
          "model_name": "HBoxModel",
          "model_module_version": "1.5.0",
          "state": {
            "_dom_classes": [],
            "_model_module": "@jupyter-widgets/controls",
            "_model_module_version": "1.5.0",
            "_model_name": "HBoxModel",
            "_view_count": null,
            "_view_module": "@jupyter-widgets/controls",
            "_view_module_version": "1.5.0",
            "_view_name": "HBoxView",
            "box_style": "",
            "children": [
              "IPY_MODEL_56f71258ea5f4656bde9a35babf0f287",
              "IPY_MODEL_0e2907e410784a03902945d098560b20",
              "IPY_MODEL_bf90c5abf1a34acea40ff46cab536227"
            ],
            "layout": "IPY_MODEL_f737543378234f2aa1f4e32b2b0135dc"
          }
        },
        "56f71258ea5f4656bde9a35babf0f287": {
          "model_module": "@jupyter-widgets/controls",
          "model_name": "HTMLModel",
          "model_module_version": "1.5.0",
          "state": {
            "_dom_classes": [],
            "_model_module": "@jupyter-widgets/controls",
            "_model_module_version": "1.5.0",
            "_model_name": "HTMLModel",
            "_view_count": null,
            "_view_module": "@jupyter-widgets/controls",
            "_view_module_version": "1.5.0",
            "_view_name": "HTMLView",
            "description": "",
            "description_tooltip": null,
            "layout": "IPY_MODEL_4adf8e2af55a42ae87517569fd90a93c",
            "placeholder": "​",
            "style": "IPY_MODEL_8c549b30650b4c1386919becbdc6e07a",
            "value": "Generating train examples...:  99%"
          }
        },
        "0e2907e410784a03902945d098560b20": {
          "model_module": "@jupyter-widgets/controls",
          "model_name": "FloatProgressModel",
          "model_module_version": "1.5.0",
          "state": {
            "_dom_classes": [],
            "_model_module": "@jupyter-widgets/controls",
            "_model_module_version": "1.5.0",
            "_model_name": "FloatProgressModel",
            "_view_count": null,
            "_view_module": "@jupyter-widgets/controls",
            "_view_module_version": "1.5.0",
            "_view_name": "ProgressView",
            "bar_style": "",
            "description": "",
            "description_tooltip": null,
            "layout": "IPY_MODEL_fe5a343893b44c298a6b53d7f82e8dd4",
            "max": 50000,
            "min": 0,
            "orientation": "horizontal",
            "style": "IPY_MODEL_b6d77683318748aab6b99be71e25cb36",
            "value": 50000
          }
        },
        "bf90c5abf1a34acea40ff46cab536227": {
          "model_module": "@jupyter-widgets/controls",
          "model_name": "HTMLModel",
          "model_module_version": "1.5.0",
          "state": {
            "_dom_classes": [],
            "_model_module": "@jupyter-widgets/controls",
            "_model_module_version": "1.5.0",
            "_model_name": "HTMLModel",
            "_view_count": null,
            "_view_module": "@jupyter-widgets/controls",
            "_view_module_version": "1.5.0",
            "_view_name": "HTMLView",
            "description": "",
            "description_tooltip": null,
            "layout": "IPY_MODEL_4e31c4bf902a4a9eac4ccca19e4e056b",
            "placeholder": "​",
            "style": "IPY_MODEL_f4916a5dafb64aa5ad8cb15d7ce5febd",
            "value": " 49616/50000 [00:48&lt;00:00, 966.16 examples/s]"
          }
        },
        "f737543378234f2aa1f4e32b2b0135dc": {
          "model_module": "@jupyter-widgets/base",
          "model_name": "LayoutModel",
          "model_module_version": "1.2.0",
          "state": {
            "_model_module": "@jupyter-widgets/base",
            "_model_module_version": "1.2.0",
            "_model_name": "LayoutModel",
            "_view_count": null,
            "_view_module": "@jupyter-widgets/base",
            "_view_module_version": "1.2.0",
            "_view_name": "LayoutView",
            "align_content": null,
            "align_items": null,
            "align_self": null,
            "border": null,
            "bottom": null,
            "display": null,
            "flex": null,
            "flex_flow": null,
            "grid_area": null,
            "grid_auto_columns": null,
            "grid_auto_flow": null,
            "grid_auto_rows": null,
            "grid_column": null,
            "grid_gap": null,
            "grid_row": null,
            "grid_template_areas": null,
            "grid_template_columns": null,
            "grid_template_rows": null,
            "height": null,
            "justify_content": null,
            "justify_items": null,
            "left": null,
            "margin": null,
            "max_height": null,
            "max_width": null,
            "min_height": null,
            "min_width": null,
            "object_fit": null,
            "object_position": null,
            "order": null,
            "overflow": null,
            "overflow_x": null,
            "overflow_y": null,
            "padding": null,
            "right": null,
            "top": null,
            "visibility": "hidden",
            "width": null
          }
        },
        "4adf8e2af55a42ae87517569fd90a93c": {
          "model_module": "@jupyter-widgets/base",
          "model_name": "LayoutModel",
          "model_module_version": "1.2.0",
          "state": {
            "_model_module": "@jupyter-widgets/base",
            "_model_module_version": "1.2.0",
            "_model_name": "LayoutModel",
            "_view_count": null,
            "_view_module": "@jupyter-widgets/base",
            "_view_module_version": "1.2.0",
            "_view_name": "LayoutView",
            "align_content": null,
            "align_items": null,
            "align_self": null,
            "border": null,
            "bottom": null,
            "display": null,
            "flex": null,
            "flex_flow": null,
            "grid_area": null,
            "grid_auto_columns": null,
            "grid_auto_flow": null,
            "grid_auto_rows": null,
            "grid_column": null,
            "grid_gap": null,
            "grid_row": null,
            "grid_template_areas": null,
            "grid_template_columns": null,
            "grid_template_rows": null,
            "height": null,
            "justify_content": null,
            "justify_items": null,
            "left": null,
            "margin": null,
            "max_height": null,
            "max_width": null,
            "min_height": null,
            "min_width": null,
            "object_fit": null,
            "object_position": null,
            "order": null,
            "overflow": null,
            "overflow_x": null,
            "overflow_y": null,
            "padding": null,
            "right": null,
            "top": null,
            "visibility": null,
            "width": null
          }
        },
        "8c549b30650b4c1386919becbdc6e07a": {
          "model_module": "@jupyter-widgets/controls",
          "model_name": "DescriptionStyleModel",
          "model_module_version": "1.5.0",
          "state": {
            "_model_module": "@jupyter-widgets/controls",
            "_model_module_version": "1.5.0",
            "_model_name": "DescriptionStyleModel",
            "_view_count": null,
            "_view_module": "@jupyter-widgets/base",
            "_view_module_version": "1.2.0",
            "_view_name": "StyleView",
            "description_width": ""
          }
        },
        "fe5a343893b44c298a6b53d7f82e8dd4": {
          "model_module": "@jupyter-widgets/base",
          "model_name": "LayoutModel",
          "model_module_version": "1.2.0",
          "state": {
            "_model_module": "@jupyter-widgets/base",
            "_model_module_version": "1.2.0",
            "_model_name": "LayoutModel",
            "_view_count": null,
            "_view_module": "@jupyter-widgets/base",
            "_view_module_version": "1.2.0",
            "_view_name": "LayoutView",
            "align_content": null,
            "align_items": null,
            "align_self": null,
            "border": null,
            "bottom": null,
            "display": null,
            "flex": null,
            "flex_flow": null,
            "grid_area": null,
            "grid_auto_columns": null,
            "grid_auto_flow": null,
            "grid_auto_rows": null,
            "grid_column": null,
            "grid_gap": null,
            "grid_row": null,
            "grid_template_areas": null,
            "grid_template_columns": null,
            "grid_template_rows": null,
            "height": null,
            "justify_content": null,
            "justify_items": null,
            "left": null,
            "margin": null,
            "max_height": null,
            "max_width": null,
            "min_height": null,
            "min_width": null,
            "object_fit": null,
            "object_position": null,
            "order": null,
            "overflow": null,
            "overflow_x": null,
            "overflow_y": null,
            "padding": null,
            "right": null,
            "top": null,
            "visibility": null,
            "width": null
          }
        },
        "b6d77683318748aab6b99be71e25cb36": {
          "model_module": "@jupyter-widgets/controls",
          "model_name": "ProgressStyleModel",
          "model_module_version": "1.5.0",
          "state": {
            "_model_module": "@jupyter-widgets/controls",
            "_model_module_version": "1.5.0",
            "_model_name": "ProgressStyleModel",
            "_view_count": null,
            "_view_module": "@jupyter-widgets/base",
            "_view_module_version": "1.2.0",
            "_view_name": "StyleView",
            "bar_color": null,
            "description_width": ""
          }
        },
        "4e31c4bf902a4a9eac4ccca19e4e056b": {
          "model_module": "@jupyter-widgets/base",
          "model_name": "LayoutModel",
          "model_module_version": "1.2.0",
          "state": {
            "_model_module": "@jupyter-widgets/base",
            "_model_module_version": "1.2.0",
            "_model_name": "LayoutModel",
            "_view_count": null,
            "_view_module": "@jupyter-widgets/base",
            "_view_module_version": "1.2.0",
            "_view_name": "LayoutView",
            "align_content": null,
            "align_items": null,
            "align_self": null,
            "border": null,
            "bottom": null,
            "display": null,
            "flex": null,
            "flex_flow": null,
            "grid_area": null,
            "grid_auto_columns": null,
            "grid_auto_flow": null,
            "grid_auto_rows": null,
            "grid_column": null,
            "grid_gap": null,
            "grid_row": null,
            "grid_template_areas": null,
            "grid_template_columns": null,
            "grid_template_rows": null,
            "height": null,
            "justify_content": null,
            "justify_items": null,
            "left": null,
            "margin": null,
            "max_height": null,
            "max_width": null,
            "min_height": null,
            "min_width": null,
            "object_fit": null,
            "object_position": null,
            "order": null,
            "overflow": null,
            "overflow_x": null,
            "overflow_y": null,
            "padding": null,
            "right": null,
            "top": null,
            "visibility": null,
            "width": null
          }
        },
        "f4916a5dafb64aa5ad8cb15d7ce5febd": {
          "model_module": "@jupyter-widgets/controls",
          "model_name": "DescriptionStyleModel",
          "model_module_version": "1.5.0",
          "state": {
            "_model_module": "@jupyter-widgets/controls",
            "_model_module_version": "1.5.0",
            "_model_name": "DescriptionStyleModel",
            "_view_count": null,
            "_view_module": "@jupyter-widgets/base",
            "_view_module_version": "1.2.0",
            "_view_name": "StyleView",
            "description_width": ""
          }
        },
        "e23283024ec045f88cf16a938d8be86d": {
          "model_module": "@jupyter-widgets/controls",
          "model_name": "HBoxModel",
          "model_module_version": "1.5.0",
          "state": {
            "_dom_classes": [],
            "_model_module": "@jupyter-widgets/controls",
            "_model_module_version": "1.5.0",
            "_model_name": "HBoxModel",
            "_view_count": null,
            "_view_module": "@jupyter-widgets/controls",
            "_view_module_version": "1.5.0",
            "_view_name": "HBoxView",
            "box_style": "",
            "children": [
              "IPY_MODEL_05394ae1ef044b7d841a961e685041a9",
              "IPY_MODEL_24bf3eddfb9743be835197cda978bff8",
              "IPY_MODEL_3f076fac352c44b2bc9e425db9c5c54d"
            ],
            "layout": "IPY_MODEL_cd743303d645457b87e0b4cdc071d9e5"
          }
        },
        "05394ae1ef044b7d841a961e685041a9": {
          "model_module": "@jupyter-widgets/controls",
          "model_name": "HTMLModel",
          "model_module_version": "1.5.0",
          "state": {
            "_dom_classes": [],
            "_model_module": "@jupyter-widgets/controls",
            "_model_module_version": "1.5.0",
            "_model_name": "HTMLModel",
            "_view_count": null,
            "_view_module": "@jupyter-widgets/controls",
            "_view_module_version": "1.5.0",
            "_view_name": "HTMLView",
            "description": "",
            "description_tooltip": null,
            "layout": "IPY_MODEL_6de7f2a7b6694e20aa3b74867a73da8f",
            "placeholder": "​",
            "style": "IPY_MODEL_5faa071f7d4d4661a93ec5e582f15525",
            "value": "Shuffling /root/tensorflow_datasets/cifar10/incomplete.ICZA7D_3.0.2/cifar10-train.tfrecord*...:   0%"
          }
        },
        "24bf3eddfb9743be835197cda978bff8": {
          "model_module": "@jupyter-widgets/controls",
          "model_name": "FloatProgressModel",
          "model_module_version": "1.5.0",
          "state": {
            "_dom_classes": [],
            "_model_module": "@jupyter-widgets/controls",
            "_model_module_version": "1.5.0",
            "_model_name": "FloatProgressModel",
            "_view_count": null,
            "_view_module": "@jupyter-widgets/controls",
            "_view_module_version": "1.5.0",
            "_view_name": "ProgressView",
            "bar_style": "",
            "description": "",
            "description_tooltip": null,
            "layout": "IPY_MODEL_43becdfb36324082bbbd25ba0c743cf8",
            "max": 50000,
            "min": 0,
            "orientation": "horizontal",
            "style": "IPY_MODEL_09c96a3641174403a6c4f8d0b16c2ca4",
            "value": 50000
          }
        },
        "3f076fac352c44b2bc9e425db9c5c54d": {
          "model_module": "@jupyter-widgets/controls",
          "model_name": "HTMLModel",
          "model_module_version": "1.5.0",
          "state": {
            "_dom_classes": [],
            "_model_module": "@jupyter-widgets/controls",
            "_model_module_version": "1.5.0",
            "_model_name": "HTMLModel",
            "_view_count": null,
            "_view_module": "@jupyter-widgets/controls",
            "_view_module_version": "1.5.0",
            "_view_name": "HTMLView",
            "description": "",
            "description_tooltip": null,
            "layout": "IPY_MODEL_b642ae0d3ebc4d4bb8236b76a0f2677b",
            "placeholder": "​",
            "style": "IPY_MODEL_88dd109d71a04bad98c364008df25b8b",
            "value": " 0/50000 [00:00&lt;?, ? examples/s]"
          }
        },
        "cd743303d645457b87e0b4cdc071d9e5": {
          "model_module": "@jupyter-widgets/base",
          "model_name": "LayoutModel",
          "model_module_version": "1.2.0",
          "state": {
            "_model_module": "@jupyter-widgets/base",
            "_model_module_version": "1.2.0",
            "_model_name": "LayoutModel",
            "_view_count": null,
            "_view_module": "@jupyter-widgets/base",
            "_view_module_version": "1.2.0",
            "_view_name": "LayoutView",
            "align_content": null,
            "align_items": null,
            "align_self": null,
            "border": null,
            "bottom": null,
            "display": null,
            "flex": null,
            "flex_flow": null,
            "grid_area": null,
            "grid_auto_columns": null,
            "grid_auto_flow": null,
            "grid_auto_rows": null,
            "grid_column": null,
            "grid_gap": null,
            "grid_row": null,
            "grid_template_areas": null,
            "grid_template_columns": null,
            "grid_template_rows": null,
            "height": null,
            "justify_content": null,
            "justify_items": null,
            "left": null,
            "margin": null,
            "max_height": null,
            "max_width": null,
            "min_height": null,
            "min_width": null,
            "object_fit": null,
            "object_position": null,
            "order": null,
            "overflow": null,
            "overflow_x": null,
            "overflow_y": null,
            "padding": null,
            "right": null,
            "top": null,
            "visibility": "hidden",
            "width": null
          }
        },
        "6de7f2a7b6694e20aa3b74867a73da8f": {
          "model_module": "@jupyter-widgets/base",
          "model_name": "LayoutModel",
          "model_module_version": "1.2.0",
          "state": {
            "_model_module": "@jupyter-widgets/base",
            "_model_module_version": "1.2.0",
            "_model_name": "LayoutModel",
            "_view_count": null,
            "_view_module": "@jupyter-widgets/base",
            "_view_module_version": "1.2.0",
            "_view_name": "LayoutView",
            "align_content": null,
            "align_items": null,
            "align_self": null,
            "border": null,
            "bottom": null,
            "display": null,
            "flex": null,
            "flex_flow": null,
            "grid_area": null,
            "grid_auto_columns": null,
            "grid_auto_flow": null,
            "grid_auto_rows": null,
            "grid_column": null,
            "grid_gap": null,
            "grid_row": null,
            "grid_template_areas": null,
            "grid_template_columns": null,
            "grid_template_rows": null,
            "height": null,
            "justify_content": null,
            "justify_items": null,
            "left": null,
            "margin": null,
            "max_height": null,
            "max_width": null,
            "min_height": null,
            "min_width": null,
            "object_fit": null,
            "object_position": null,
            "order": null,
            "overflow": null,
            "overflow_x": null,
            "overflow_y": null,
            "padding": null,
            "right": null,
            "top": null,
            "visibility": null,
            "width": null
          }
        },
        "5faa071f7d4d4661a93ec5e582f15525": {
          "model_module": "@jupyter-widgets/controls",
          "model_name": "DescriptionStyleModel",
          "model_module_version": "1.5.0",
          "state": {
            "_model_module": "@jupyter-widgets/controls",
            "_model_module_version": "1.5.0",
            "_model_name": "DescriptionStyleModel",
            "_view_count": null,
            "_view_module": "@jupyter-widgets/base",
            "_view_module_version": "1.2.0",
            "_view_name": "StyleView",
            "description_width": ""
          }
        },
        "43becdfb36324082bbbd25ba0c743cf8": {
          "model_module": "@jupyter-widgets/base",
          "model_name": "LayoutModel",
          "model_module_version": "1.2.0",
          "state": {
            "_model_module": "@jupyter-widgets/base",
            "_model_module_version": "1.2.0",
            "_model_name": "LayoutModel",
            "_view_count": null,
            "_view_module": "@jupyter-widgets/base",
            "_view_module_version": "1.2.0",
            "_view_name": "LayoutView",
            "align_content": null,
            "align_items": null,
            "align_self": null,
            "border": null,
            "bottom": null,
            "display": null,
            "flex": null,
            "flex_flow": null,
            "grid_area": null,
            "grid_auto_columns": null,
            "grid_auto_flow": null,
            "grid_auto_rows": null,
            "grid_column": null,
            "grid_gap": null,
            "grid_row": null,
            "grid_template_areas": null,
            "grid_template_columns": null,
            "grid_template_rows": null,
            "height": null,
            "justify_content": null,
            "justify_items": null,
            "left": null,
            "margin": null,
            "max_height": null,
            "max_width": null,
            "min_height": null,
            "min_width": null,
            "object_fit": null,
            "object_position": null,
            "order": null,
            "overflow": null,
            "overflow_x": null,
            "overflow_y": null,
            "padding": null,
            "right": null,
            "top": null,
            "visibility": null,
            "width": null
          }
        },
        "09c96a3641174403a6c4f8d0b16c2ca4": {
          "model_module": "@jupyter-widgets/controls",
          "model_name": "ProgressStyleModel",
          "model_module_version": "1.5.0",
          "state": {
            "_model_module": "@jupyter-widgets/controls",
            "_model_module_version": "1.5.0",
            "_model_name": "ProgressStyleModel",
            "_view_count": null,
            "_view_module": "@jupyter-widgets/base",
            "_view_module_version": "1.2.0",
            "_view_name": "StyleView",
            "bar_color": null,
            "description_width": ""
          }
        },
        "b642ae0d3ebc4d4bb8236b76a0f2677b": {
          "model_module": "@jupyter-widgets/base",
          "model_name": "LayoutModel",
          "model_module_version": "1.2.0",
          "state": {
            "_model_module": "@jupyter-widgets/base",
            "_model_module_version": "1.2.0",
            "_model_name": "LayoutModel",
            "_view_count": null,
            "_view_module": "@jupyter-widgets/base",
            "_view_module_version": "1.2.0",
            "_view_name": "LayoutView",
            "align_content": null,
            "align_items": null,
            "align_self": null,
            "border": null,
            "bottom": null,
            "display": null,
            "flex": null,
            "flex_flow": null,
            "grid_area": null,
            "grid_auto_columns": null,
            "grid_auto_flow": null,
            "grid_auto_rows": null,
            "grid_column": null,
            "grid_gap": null,
            "grid_row": null,
            "grid_template_areas": null,
            "grid_template_columns": null,
            "grid_template_rows": null,
            "height": null,
            "justify_content": null,
            "justify_items": null,
            "left": null,
            "margin": null,
            "max_height": null,
            "max_width": null,
            "min_height": null,
            "min_width": null,
            "object_fit": null,
            "object_position": null,
            "order": null,
            "overflow": null,
            "overflow_x": null,
            "overflow_y": null,
            "padding": null,
            "right": null,
            "top": null,
            "visibility": null,
            "width": null
          }
        },
        "88dd109d71a04bad98c364008df25b8b": {
          "model_module": "@jupyter-widgets/controls",
          "model_name": "DescriptionStyleModel",
          "model_module_version": "1.5.0",
          "state": {
            "_model_module": "@jupyter-widgets/controls",
            "_model_module_version": "1.5.0",
            "_model_name": "DescriptionStyleModel",
            "_view_count": null,
            "_view_module": "@jupyter-widgets/base",
            "_view_module_version": "1.2.0",
            "_view_name": "StyleView",
            "description_width": ""
          }
        },
        "6671f0d90ce348898ac6c6959c835f48": {
          "model_module": "@jupyter-widgets/controls",
          "model_name": "HBoxModel",
          "model_module_version": "1.5.0",
          "state": {
            "_dom_classes": [],
            "_model_module": "@jupyter-widgets/controls",
            "_model_module_version": "1.5.0",
            "_model_name": "HBoxModel",
            "_view_count": null,
            "_view_module": "@jupyter-widgets/controls",
            "_view_module_version": "1.5.0",
            "_view_name": "HBoxView",
            "box_style": "",
            "children": [
              "IPY_MODEL_63afaaee6747423cb6a0c7ae2b29b5aa",
              "IPY_MODEL_61b3eb16168c4cb594732c425029d509",
              "IPY_MODEL_a83eea8523584acf93df7114f8338b9c"
            ],
            "layout": "IPY_MODEL_f4e76ce42a6f486984f883bbb10170b9"
          }
        },
        "63afaaee6747423cb6a0c7ae2b29b5aa": {
          "model_module": "@jupyter-widgets/controls",
          "model_name": "HTMLModel",
          "model_module_version": "1.5.0",
          "state": {
            "_dom_classes": [],
            "_model_module": "@jupyter-widgets/controls",
            "_model_module_version": "1.5.0",
            "_model_name": "HTMLModel",
            "_view_count": null,
            "_view_module": "@jupyter-widgets/controls",
            "_view_module_version": "1.5.0",
            "_view_name": "HTMLView",
            "description": "",
            "description_tooltip": null,
            "layout": "IPY_MODEL_fcdb724c2d75455182b35fbbb1a892db",
            "placeholder": "​",
            "style": "IPY_MODEL_b2d56d98f13a44cebc1ba986913e289a",
            "value": "Generating test examples...:  98%"
          }
        },
        "61b3eb16168c4cb594732c425029d509": {
          "model_module": "@jupyter-widgets/controls",
          "model_name": "FloatProgressModel",
          "model_module_version": "1.5.0",
          "state": {
            "_dom_classes": [],
            "_model_module": "@jupyter-widgets/controls",
            "_model_module_version": "1.5.0",
            "_model_name": "FloatProgressModel",
            "_view_count": null,
            "_view_module": "@jupyter-widgets/controls",
            "_view_module_version": "1.5.0",
            "_view_name": "ProgressView",
            "bar_style": "",
            "description": "",
            "description_tooltip": null,
            "layout": "IPY_MODEL_57e6e1c0f79048bb9b9cdfb32a0eda85",
            "max": 10000,
            "min": 0,
            "orientation": "horizontal",
            "style": "IPY_MODEL_2584e61f2d80444ebf07ebb3f22e8284",
            "value": 10000
          }
        },
        "a83eea8523584acf93df7114f8338b9c": {
          "model_module": "@jupyter-widgets/controls",
          "model_name": "HTMLModel",
          "model_module_version": "1.5.0",
          "state": {
            "_dom_classes": [],
            "_model_module": "@jupyter-widgets/controls",
            "_model_module_version": "1.5.0",
            "_model_name": "HTMLModel",
            "_view_count": null,
            "_view_module": "@jupyter-widgets/controls",
            "_view_module_version": "1.5.0",
            "_view_name": "HTMLView",
            "description": "",
            "description_tooltip": null,
            "layout": "IPY_MODEL_aed4a2ea81bb42028d50d7d68a044f63",
            "placeholder": "​",
            "style": "IPY_MODEL_0291c475119144f18f4db508482d8ffa",
            "value": " 9780/10000 [00:09&lt;00:00, 1116.34 examples/s]"
          }
        },
        "f4e76ce42a6f486984f883bbb10170b9": {
          "model_module": "@jupyter-widgets/base",
          "model_name": "LayoutModel",
          "model_module_version": "1.2.0",
          "state": {
            "_model_module": "@jupyter-widgets/base",
            "_model_module_version": "1.2.0",
            "_model_name": "LayoutModel",
            "_view_count": null,
            "_view_module": "@jupyter-widgets/base",
            "_view_module_version": "1.2.0",
            "_view_name": "LayoutView",
            "align_content": null,
            "align_items": null,
            "align_self": null,
            "border": null,
            "bottom": null,
            "display": null,
            "flex": null,
            "flex_flow": null,
            "grid_area": null,
            "grid_auto_columns": null,
            "grid_auto_flow": null,
            "grid_auto_rows": null,
            "grid_column": null,
            "grid_gap": null,
            "grid_row": null,
            "grid_template_areas": null,
            "grid_template_columns": null,
            "grid_template_rows": null,
            "height": null,
            "justify_content": null,
            "justify_items": null,
            "left": null,
            "margin": null,
            "max_height": null,
            "max_width": null,
            "min_height": null,
            "min_width": null,
            "object_fit": null,
            "object_position": null,
            "order": null,
            "overflow": null,
            "overflow_x": null,
            "overflow_y": null,
            "padding": null,
            "right": null,
            "top": null,
            "visibility": "hidden",
            "width": null
          }
        },
        "fcdb724c2d75455182b35fbbb1a892db": {
          "model_module": "@jupyter-widgets/base",
          "model_name": "LayoutModel",
          "model_module_version": "1.2.0",
          "state": {
            "_model_module": "@jupyter-widgets/base",
            "_model_module_version": "1.2.0",
            "_model_name": "LayoutModel",
            "_view_count": null,
            "_view_module": "@jupyter-widgets/base",
            "_view_module_version": "1.2.0",
            "_view_name": "LayoutView",
            "align_content": null,
            "align_items": null,
            "align_self": null,
            "border": null,
            "bottom": null,
            "display": null,
            "flex": null,
            "flex_flow": null,
            "grid_area": null,
            "grid_auto_columns": null,
            "grid_auto_flow": null,
            "grid_auto_rows": null,
            "grid_column": null,
            "grid_gap": null,
            "grid_row": null,
            "grid_template_areas": null,
            "grid_template_columns": null,
            "grid_template_rows": null,
            "height": null,
            "justify_content": null,
            "justify_items": null,
            "left": null,
            "margin": null,
            "max_height": null,
            "max_width": null,
            "min_height": null,
            "min_width": null,
            "object_fit": null,
            "object_position": null,
            "order": null,
            "overflow": null,
            "overflow_x": null,
            "overflow_y": null,
            "padding": null,
            "right": null,
            "top": null,
            "visibility": null,
            "width": null
          }
        },
        "b2d56d98f13a44cebc1ba986913e289a": {
          "model_module": "@jupyter-widgets/controls",
          "model_name": "DescriptionStyleModel",
          "model_module_version": "1.5.0",
          "state": {
            "_model_module": "@jupyter-widgets/controls",
            "_model_module_version": "1.5.0",
            "_model_name": "DescriptionStyleModel",
            "_view_count": null,
            "_view_module": "@jupyter-widgets/base",
            "_view_module_version": "1.2.0",
            "_view_name": "StyleView",
            "description_width": ""
          }
        },
        "57e6e1c0f79048bb9b9cdfb32a0eda85": {
          "model_module": "@jupyter-widgets/base",
          "model_name": "LayoutModel",
          "model_module_version": "1.2.0",
          "state": {
            "_model_module": "@jupyter-widgets/base",
            "_model_module_version": "1.2.0",
            "_model_name": "LayoutModel",
            "_view_count": null,
            "_view_module": "@jupyter-widgets/base",
            "_view_module_version": "1.2.0",
            "_view_name": "LayoutView",
            "align_content": null,
            "align_items": null,
            "align_self": null,
            "border": null,
            "bottom": null,
            "display": null,
            "flex": null,
            "flex_flow": null,
            "grid_area": null,
            "grid_auto_columns": null,
            "grid_auto_flow": null,
            "grid_auto_rows": null,
            "grid_column": null,
            "grid_gap": null,
            "grid_row": null,
            "grid_template_areas": null,
            "grid_template_columns": null,
            "grid_template_rows": null,
            "height": null,
            "justify_content": null,
            "justify_items": null,
            "left": null,
            "margin": null,
            "max_height": null,
            "max_width": null,
            "min_height": null,
            "min_width": null,
            "object_fit": null,
            "object_position": null,
            "order": null,
            "overflow": null,
            "overflow_x": null,
            "overflow_y": null,
            "padding": null,
            "right": null,
            "top": null,
            "visibility": null,
            "width": null
          }
        },
        "2584e61f2d80444ebf07ebb3f22e8284": {
          "model_module": "@jupyter-widgets/controls",
          "model_name": "ProgressStyleModel",
          "model_module_version": "1.5.0",
          "state": {
            "_model_module": "@jupyter-widgets/controls",
            "_model_module_version": "1.5.0",
            "_model_name": "ProgressStyleModel",
            "_view_count": null,
            "_view_module": "@jupyter-widgets/base",
            "_view_module_version": "1.2.0",
            "_view_name": "StyleView",
            "bar_color": null,
            "description_width": ""
          }
        },
        "aed4a2ea81bb42028d50d7d68a044f63": {
          "model_module": "@jupyter-widgets/base",
          "model_name": "LayoutModel",
          "model_module_version": "1.2.0",
          "state": {
            "_model_module": "@jupyter-widgets/base",
            "_model_module_version": "1.2.0",
            "_model_name": "LayoutModel",
            "_view_count": null,
            "_view_module": "@jupyter-widgets/base",
            "_view_module_version": "1.2.0",
            "_view_name": "LayoutView",
            "align_content": null,
            "align_items": null,
            "align_self": null,
            "border": null,
            "bottom": null,
            "display": null,
            "flex": null,
            "flex_flow": null,
            "grid_area": null,
            "grid_auto_columns": null,
            "grid_auto_flow": null,
            "grid_auto_rows": null,
            "grid_column": null,
            "grid_gap": null,
            "grid_row": null,
            "grid_template_areas": null,
            "grid_template_columns": null,
            "grid_template_rows": null,
            "height": null,
            "justify_content": null,
            "justify_items": null,
            "left": null,
            "margin": null,
            "max_height": null,
            "max_width": null,
            "min_height": null,
            "min_width": null,
            "object_fit": null,
            "object_position": null,
            "order": null,
            "overflow": null,
            "overflow_x": null,
            "overflow_y": null,
            "padding": null,
            "right": null,
            "top": null,
            "visibility": null,
            "width": null
          }
        },
        "0291c475119144f18f4db508482d8ffa": {
          "model_module": "@jupyter-widgets/controls",
          "model_name": "DescriptionStyleModel",
          "model_module_version": "1.5.0",
          "state": {
            "_model_module": "@jupyter-widgets/controls",
            "_model_module_version": "1.5.0",
            "_model_name": "DescriptionStyleModel",
            "_view_count": null,
            "_view_module": "@jupyter-widgets/base",
            "_view_module_version": "1.2.0",
            "_view_name": "StyleView",
            "description_width": ""
          }
        },
        "01bde0b4ef3648d884343077a51bd6cc": {
          "model_module": "@jupyter-widgets/controls",
          "model_name": "HBoxModel",
          "model_module_version": "1.5.0",
          "state": {
            "_dom_classes": [],
            "_model_module": "@jupyter-widgets/controls",
            "_model_module_version": "1.5.0",
            "_model_name": "HBoxModel",
            "_view_count": null,
            "_view_module": "@jupyter-widgets/controls",
            "_view_module_version": "1.5.0",
            "_view_name": "HBoxView",
            "box_style": "",
            "children": [
              "IPY_MODEL_e8876d1fa0e54063910324c5e4c0e87b",
              "IPY_MODEL_8ba842ee155f495bbf432b8ef1dcb910",
              "IPY_MODEL_be039ebac8f54460bdd09e4d6c414b8a"
            ],
            "layout": "IPY_MODEL_2afee83646694e569b791d7dd7c33bb8"
          }
        },
        "e8876d1fa0e54063910324c5e4c0e87b": {
          "model_module": "@jupyter-widgets/controls",
          "model_name": "HTMLModel",
          "model_module_version": "1.5.0",
          "state": {
            "_dom_classes": [],
            "_model_module": "@jupyter-widgets/controls",
            "_model_module_version": "1.5.0",
            "_model_name": "HTMLModel",
            "_view_count": null,
            "_view_module": "@jupyter-widgets/controls",
            "_view_module_version": "1.5.0",
            "_view_name": "HTMLView",
            "description": "",
            "description_tooltip": null,
            "layout": "IPY_MODEL_1d94ce25004b4452bed6125c7133db30",
            "placeholder": "​",
            "style": "IPY_MODEL_86cba85ea78740d2b4e606a0f866b1bf",
            "value": "Shuffling /root/tensorflow_datasets/cifar10/incomplete.ICZA7D_3.0.2/cifar10-test.tfrecord*...:   0%"
          }
        },
        "8ba842ee155f495bbf432b8ef1dcb910": {
          "model_module": "@jupyter-widgets/controls",
          "model_name": "FloatProgressModel",
          "model_module_version": "1.5.0",
          "state": {
            "_dom_classes": [],
            "_model_module": "@jupyter-widgets/controls",
            "_model_module_version": "1.5.0",
            "_model_name": "FloatProgressModel",
            "_view_count": null,
            "_view_module": "@jupyter-widgets/controls",
            "_view_module_version": "1.5.0",
            "_view_name": "ProgressView",
            "bar_style": "",
            "description": "",
            "description_tooltip": null,
            "layout": "IPY_MODEL_84c9694b1ef5468ab52569382015148f",
            "max": 10000,
            "min": 0,
            "orientation": "horizontal",
            "style": "IPY_MODEL_d336a97be015459d8161b1b84d66f363",
            "value": 10000
          }
        },
        "be039ebac8f54460bdd09e4d6c414b8a": {
          "model_module": "@jupyter-widgets/controls",
          "model_name": "HTMLModel",
          "model_module_version": "1.5.0",
          "state": {
            "_dom_classes": [],
            "_model_module": "@jupyter-widgets/controls",
            "_model_module_version": "1.5.0",
            "_model_name": "HTMLModel",
            "_view_count": null,
            "_view_module": "@jupyter-widgets/controls",
            "_view_module_version": "1.5.0",
            "_view_name": "HTMLView",
            "description": "",
            "description_tooltip": null,
            "layout": "IPY_MODEL_89deb1e7b69649b49c62eb6acd71a799",
            "placeholder": "​",
            "style": "IPY_MODEL_e651c47bea1249889bdef5b397520816",
            "value": " 0/10000 [00:00&lt;?, ? examples/s]"
          }
        },
        "2afee83646694e569b791d7dd7c33bb8": {
          "model_module": "@jupyter-widgets/base",
          "model_name": "LayoutModel",
          "model_module_version": "1.2.0",
          "state": {
            "_model_module": "@jupyter-widgets/base",
            "_model_module_version": "1.2.0",
            "_model_name": "LayoutModel",
            "_view_count": null,
            "_view_module": "@jupyter-widgets/base",
            "_view_module_version": "1.2.0",
            "_view_name": "LayoutView",
            "align_content": null,
            "align_items": null,
            "align_self": null,
            "border": null,
            "bottom": null,
            "display": null,
            "flex": null,
            "flex_flow": null,
            "grid_area": null,
            "grid_auto_columns": null,
            "grid_auto_flow": null,
            "grid_auto_rows": null,
            "grid_column": null,
            "grid_gap": null,
            "grid_row": null,
            "grid_template_areas": null,
            "grid_template_columns": null,
            "grid_template_rows": null,
            "height": null,
            "justify_content": null,
            "justify_items": null,
            "left": null,
            "margin": null,
            "max_height": null,
            "max_width": null,
            "min_height": null,
            "min_width": null,
            "object_fit": null,
            "object_position": null,
            "order": null,
            "overflow": null,
            "overflow_x": null,
            "overflow_y": null,
            "padding": null,
            "right": null,
            "top": null,
            "visibility": "hidden",
            "width": null
          }
        },
        "1d94ce25004b4452bed6125c7133db30": {
          "model_module": "@jupyter-widgets/base",
          "model_name": "LayoutModel",
          "model_module_version": "1.2.0",
          "state": {
            "_model_module": "@jupyter-widgets/base",
            "_model_module_version": "1.2.0",
            "_model_name": "LayoutModel",
            "_view_count": null,
            "_view_module": "@jupyter-widgets/base",
            "_view_module_version": "1.2.0",
            "_view_name": "LayoutView",
            "align_content": null,
            "align_items": null,
            "align_self": null,
            "border": null,
            "bottom": null,
            "display": null,
            "flex": null,
            "flex_flow": null,
            "grid_area": null,
            "grid_auto_columns": null,
            "grid_auto_flow": null,
            "grid_auto_rows": null,
            "grid_column": null,
            "grid_gap": null,
            "grid_row": null,
            "grid_template_areas": null,
            "grid_template_columns": null,
            "grid_template_rows": null,
            "height": null,
            "justify_content": null,
            "justify_items": null,
            "left": null,
            "margin": null,
            "max_height": null,
            "max_width": null,
            "min_height": null,
            "min_width": null,
            "object_fit": null,
            "object_position": null,
            "order": null,
            "overflow": null,
            "overflow_x": null,
            "overflow_y": null,
            "padding": null,
            "right": null,
            "top": null,
            "visibility": null,
            "width": null
          }
        },
        "86cba85ea78740d2b4e606a0f866b1bf": {
          "model_module": "@jupyter-widgets/controls",
          "model_name": "DescriptionStyleModel",
          "model_module_version": "1.5.0",
          "state": {
            "_model_module": "@jupyter-widgets/controls",
            "_model_module_version": "1.5.0",
            "_model_name": "DescriptionStyleModel",
            "_view_count": null,
            "_view_module": "@jupyter-widgets/base",
            "_view_module_version": "1.2.0",
            "_view_name": "StyleView",
            "description_width": ""
          }
        },
        "84c9694b1ef5468ab52569382015148f": {
          "model_module": "@jupyter-widgets/base",
          "model_name": "LayoutModel",
          "model_module_version": "1.2.0",
          "state": {
            "_model_module": "@jupyter-widgets/base",
            "_model_module_version": "1.2.0",
            "_model_name": "LayoutModel",
            "_view_count": null,
            "_view_module": "@jupyter-widgets/base",
            "_view_module_version": "1.2.0",
            "_view_name": "LayoutView",
            "align_content": null,
            "align_items": null,
            "align_self": null,
            "border": null,
            "bottom": null,
            "display": null,
            "flex": null,
            "flex_flow": null,
            "grid_area": null,
            "grid_auto_columns": null,
            "grid_auto_flow": null,
            "grid_auto_rows": null,
            "grid_column": null,
            "grid_gap": null,
            "grid_row": null,
            "grid_template_areas": null,
            "grid_template_columns": null,
            "grid_template_rows": null,
            "height": null,
            "justify_content": null,
            "justify_items": null,
            "left": null,
            "margin": null,
            "max_height": null,
            "max_width": null,
            "min_height": null,
            "min_width": null,
            "object_fit": null,
            "object_position": null,
            "order": null,
            "overflow": null,
            "overflow_x": null,
            "overflow_y": null,
            "padding": null,
            "right": null,
            "top": null,
            "visibility": null,
            "width": null
          }
        },
        "d336a97be015459d8161b1b84d66f363": {
          "model_module": "@jupyter-widgets/controls",
          "model_name": "ProgressStyleModel",
          "model_module_version": "1.5.0",
          "state": {
            "_model_module": "@jupyter-widgets/controls",
            "_model_module_version": "1.5.0",
            "_model_name": "ProgressStyleModel",
            "_view_count": null,
            "_view_module": "@jupyter-widgets/base",
            "_view_module_version": "1.2.0",
            "_view_name": "StyleView",
            "bar_color": null,
            "description_width": ""
          }
        },
        "89deb1e7b69649b49c62eb6acd71a799": {
          "model_module": "@jupyter-widgets/base",
          "model_name": "LayoutModel",
          "model_module_version": "1.2.0",
          "state": {
            "_model_module": "@jupyter-widgets/base",
            "_model_module_version": "1.2.0",
            "_model_name": "LayoutModel",
            "_view_count": null,
            "_view_module": "@jupyter-widgets/base",
            "_view_module_version": "1.2.0",
            "_view_name": "LayoutView",
            "align_content": null,
            "align_items": null,
            "align_self": null,
            "border": null,
            "bottom": null,
            "display": null,
            "flex": null,
            "flex_flow": null,
            "grid_area": null,
            "grid_auto_columns": null,
            "grid_auto_flow": null,
            "grid_auto_rows": null,
            "grid_column": null,
            "grid_gap": null,
            "grid_row": null,
            "grid_template_areas": null,
            "grid_template_columns": null,
            "grid_template_rows": null,
            "height": null,
            "justify_content": null,
            "justify_items": null,
            "left": null,
            "margin": null,
            "max_height": null,
            "max_width": null,
            "min_height": null,
            "min_width": null,
            "object_fit": null,
            "object_position": null,
            "order": null,
            "overflow": null,
            "overflow_x": null,
            "overflow_y": null,
            "padding": null,
            "right": null,
            "top": null,
            "visibility": null,
            "width": null
          }
        },
        "e651c47bea1249889bdef5b397520816": {
          "model_module": "@jupyter-widgets/controls",
          "model_name": "DescriptionStyleModel",
          "model_module_version": "1.5.0",
          "state": {
            "_model_module": "@jupyter-widgets/controls",
            "_model_module_version": "1.5.0",
            "_model_name": "DescriptionStyleModel",
            "_view_count": null,
            "_view_module": "@jupyter-widgets/base",
            "_view_module_version": "1.2.0",
            "_view_name": "StyleView",
            "description_width": ""
          }
        }
      }
    }
  },
  "cells": [
    {
      "cell_type": "code",
      "execution_count": null,
      "metadata": {
        "id": "ROipxQmxjAgF"
      },
      "outputs": [],
      "source": [
        "import tensorflow as tf\n",
        "import tensorflow_datasets as tfds\n",
        "from tensorflow.keras.applications import MobileNetV2\n",
        "from tensorflow.keras.applications.mobilenet_v2 import preprocess_input\n"
      ]
    },
    {
      "cell_type": "code",
      "source": [
        "!wget https://raw.githubusercontent.com/mrdbourke/tensorflow-deep-learning/main/extras/helper_functions.py\n",
        "from helper_functions import plot_loss_curves, compare_historys"
      ],
      "metadata": {
        "colab": {
          "base_uri": "https://localhost:8080/"
        },
        "id": "xX9bDXwtjXtg",
        "outputId": "978435fc-90b3-4524-9789-f59c6015f95d"
      },
      "execution_count": null,
      "outputs": [
        {
          "output_type": "stream",
          "name": "stdout",
          "text": [
            "--2025-02-15 08:02:21--  https://raw.githubusercontent.com/mrdbourke/tensorflow-deep-learning/main/extras/helper_functions.py\n",
            "Resolving raw.githubusercontent.com (raw.githubusercontent.com)... 185.199.108.133, 185.199.109.133, 185.199.110.133, ...\n",
            "Connecting to raw.githubusercontent.com (raw.githubusercontent.com)|185.199.108.133|:443... connected.\n",
            "HTTP request sent, awaiting response... 200 OK\n",
            "Length: 10246 (10K) [text/plain]\n",
            "Saving to: ‘helper_functions.py’\n",
            "\n",
            "\rhelper_functions.py   0%[                    ]       0  --.-KB/s               \rhelper_functions.py 100%[===================>]  10.01K  --.-KB/s    in 0.001s  \n",
            "\n",
            "2025-02-15 08:02:21 (18.8 MB/s) - ‘helper_functions.py’ saved [10246/10246]\n",
            "\n"
          ]
        }
      ]
    },
    {
      "cell_type": "code",
      "source": [
        "# Set hyperparameters\n",
        "BATCH_SIZE = 64\n",
        "IMG_SIZE = 96  # Upscale CIFAR-10 images (32x32) to a larger size for MobileNetV2\n",
        "AUTOTUNE = tf.data.AUTOTUNE"
      ],
      "metadata": {
        "id": "wKHSSlWDjbqf"
      },
      "execution_count": null,
      "outputs": []
    },
    {
      "cell_type": "code",
      "source": [
        "(ds_train, ds_test), ds_info = tfds.load(\n",
        "    'cifar10',\n",
        "    split=['train', 'test'],\n",
        "    as_supervised=True,\n",
        "    with_info=True\n",
        ")"
      ],
      "metadata": {
        "colab": {
          "base_uri": "https://localhost:8080/",
          "height": 169,
          "referenced_widgets": [
            "c723b60c59164e14a1b70c70e0cd978d",
            "9710bf82b5ee402aabaabfe57790b822",
            "1884666fd4694b8ca780a2842dc76978",
            "c9029dd5f62540a8a2402d48613a43f3",
            "d3660f9b2e014a9985ce00d3d406bafb",
            "600ca26f1dab4adc944f86df4156e148",
            "fda2e07ba7a44fb7b0da0ccbb8215aa0",
            "1d2dbbedf87d4892be6a489758cb9c2c",
            "7ce5cbec44d3459487ac7808f00e3829",
            "05c7dd4da7674bc89781534912cddc4c",
            "fcb432de1c454126aa4005f60b38809f",
            "60193aa443f5430097732ecc06054d99",
            "10b8162e5dcf4acf810b4acf96ba2a78",
            "2cb7fa651a1143b59db173a2d11962c2",
            "b63117e95d474431a973f1ef9ba6f591",
            "624314041af6475e9ce04e28e02dc2bc",
            "64749ec014c4493199c1172a1a3fcfa8",
            "af924c2f7573427e862679a33b73ab45",
            "004033d5379b439999cb9af585847317",
            "d61d6e485eb742c8a091d471890815df",
            "deb5c87498b94ef7bf37cd074a6fc9f4",
            "cf6deba2dde0407a8d73cbb8f6dd62a1",
            "6afffd2f7fc34ef09c95b34af2125378",
            "8db3fdc73dc649f89a03700c3e2432ba",
            "6e2cb11977f949f6808cd6ea4a218441",
            "422b9cb0cc204bf9869e528956cedff3",
            "ed8acfb49abe404899787b55da6d78b5",
            "ee6c308080b24f0b982b659bb3a0ea11",
            "69258ae51e8b4e8c92526965b252c4e2",
            "284b29dee581472e961693b5674a9f4d",
            "b1cb9bf034f74becb6bed5a0c9ad0024",
            "74573ad633bf4f29b50013af71fce01d",
            "a7c523d99ba5404b9f92934a3d1c3668",
            "71dbf97618a34eda8169fed0b90f69a7",
            "d5cfe0774d2c413987c71b14af802fba",
            "a6c525cc4df74166a09cf1cceddd5db4",
            "087a7110e2ba4d149b4470e67e4685e9",
            "f3a3cff8f4a84392b5b2f72046f467c9",
            "823f31d363a747be9de1de46fe8c4821",
            "603355f0c35041bb815c4e7a5c101966",
            "661b45dee2c64fd9b7e1a016be9070c2",
            "fad41752b5d94b2994ba4c60db4d6fff",
            "602ecf4f61044da5bb0ea8fab71cbd61",
            "7e69f516bf7447b6bdb44c7983492ce8",
            "73af50c170f04fa599363d75ab3e78f5",
            "56f71258ea5f4656bde9a35babf0f287",
            "0e2907e410784a03902945d098560b20",
            "bf90c5abf1a34acea40ff46cab536227",
            "f737543378234f2aa1f4e32b2b0135dc",
            "4adf8e2af55a42ae87517569fd90a93c",
            "8c549b30650b4c1386919becbdc6e07a",
            "fe5a343893b44c298a6b53d7f82e8dd4",
            "b6d77683318748aab6b99be71e25cb36",
            "4e31c4bf902a4a9eac4ccca19e4e056b",
            "f4916a5dafb64aa5ad8cb15d7ce5febd",
            "e23283024ec045f88cf16a938d8be86d",
            "05394ae1ef044b7d841a961e685041a9",
            "24bf3eddfb9743be835197cda978bff8",
            "3f076fac352c44b2bc9e425db9c5c54d",
            "cd743303d645457b87e0b4cdc071d9e5",
            "6de7f2a7b6694e20aa3b74867a73da8f",
            "5faa071f7d4d4661a93ec5e582f15525",
            "43becdfb36324082bbbd25ba0c743cf8",
            "09c96a3641174403a6c4f8d0b16c2ca4",
            "b642ae0d3ebc4d4bb8236b76a0f2677b",
            "88dd109d71a04bad98c364008df25b8b",
            "6671f0d90ce348898ac6c6959c835f48",
            "63afaaee6747423cb6a0c7ae2b29b5aa",
            "61b3eb16168c4cb594732c425029d509",
            "a83eea8523584acf93df7114f8338b9c",
            "f4e76ce42a6f486984f883bbb10170b9",
            "fcdb724c2d75455182b35fbbb1a892db",
            "b2d56d98f13a44cebc1ba986913e289a",
            "57e6e1c0f79048bb9b9cdfb32a0eda85",
            "2584e61f2d80444ebf07ebb3f22e8284",
            "aed4a2ea81bb42028d50d7d68a044f63",
            "0291c475119144f18f4db508482d8ffa",
            "01bde0b4ef3648d884343077a51bd6cc",
            "e8876d1fa0e54063910324c5e4c0e87b",
            "8ba842ee155f495bbf432b8ef1dcb910",
            "be039ebac8f54460bdd09e4d6c414b8a",
            "2afee83646694e569b791d7dd7c33bb8",
            "1d94ce25004b4452bed6125c7133db30",
            "86cba85ea78740d2b4e606a0f866b1bf",
            "84c9694b1ef5468ab52569382015148f",
            "d336a97be015459d8161b1b84d66f363",
            "89deb1e7b69649b49c62eb6acd71a799",
            "e651c47bea1249889bdef5b397520816"
          ]
        },
        "id": "Kf449BSEjssi",
        "outputId": "feea011d-37ae-4987-fab5-18f55bda12cc"
      },
      "execution_count": null,
      "outputs": [
        {
          "output_type": "stream",
          "name": "stdout",
          "text": [
            "Downloading and preparing dataset 162.17 MiB (download: 162.17 MiB, generated: 132.40 MiB, total: 294.58 MiB) to /root/tensorflow_datasets/cifar10/3.0.2...\n"
          ]
        },
        {
          "output_type": "display_data",
          "data": {
            "text/plain": [
              "Dl Completed...: 0 url [00:00, ? url/s]"
            ],
            "application/vnd.jupyter.widget-view+json": {
              "version_major": 2,
              "version_minor": 0,
              "model_id": "c723b60c59164e14a1b70c70e0cd978d"
            }
          },
          "metadata": {}
        },
        {
          "output_type": "display_data",
          "data": {
            "text/plain": [
              "Dl Size...: 0 MiB [00:00, ? MiB/s]"
            ],
            "application/vnd.jupyter.widget-view+json": {
              "version_major": 2,
              "version_minor": 0,
              "model_id": "60193aa443f5430097732ecc06054d99"
            }
          },
          "metadata": {}
        },
        {
          "output_type": "display_data",
          "data": {
            "text/plain": [
              "Extraction completed...: 0 file [00:00, ? file/s]"
            ],
            "application/vnd.jupyter.widget-view+json": {
              "version_major": 2,
              "version_minor": 0,
              "model_id": "6afffd2f7fc34ef09c95b34af2125378"
            }
          },
          "metadata": {}
        },
        {
          "output_type": "display_data",
          "data": {
            "text/plain": [
              "Generating splits...:   0%|          | 0/2 [00:00<?, ? splits/s]"
            ],
            "application/vnd.jupyter.widget-view+json": {
              "version_major": 2,
              "version_minor": 0,
              "model_id": "71dbf97618a34eda8169fed0b90f69a7"
            }
          },
          "metadata": {}
        },
        {
          "output_type": "display_data",
          "data": {
            "text/plain": [
              "Generating train examples...:   0%|          | 0/50000 [00:00<?, ? examples/s]"
            ],
            "application/vnd.jupyter.widget-view+json": {
              "version_major": 2,
              "version_minor": 0,
              "model_id": "73af50c170f04fa599363d75ab3e78f5"
            }
          },
          "metadata": {}
        },
        {
          "output_type": "display_data",
          "data": {
            "text/plain": [
              "Shuffling /root/tensorflow_datasets/cifar10/incomplete.ICZA7D_3.0.2/cifar10-train.tfrecord*...:   0%|         …"
            ],
            "application/vnd.jupyter.widget-view+json": {
              "version_major": 2,
              "version_minor": 0,
              "model_id": "e23283024ec045f88cf16a938d8be86d"
            }
          },
          "metadata": {}
        },
        {
          "output_type": "display_data",
          "data": {
            "text/plain": [
              "Generating test examples...:   0%|          | 0/10000 [00:00<?, ? examples/s]"
            ],
            "application/vnd.jupyter.widget-view+json": {
              "version_major": 2,
              "version_minor": 0,
              "model_id": "6671f0d90ce348898ac6c6959c835f48"
            }
          },
          "metadata": {}
        },
        {
          "output_type": "display_data",
          "data": {
            "text/plain": [
              "Shuffling /root/tensorflow_datasets/cifar10/incomplete.ICZA7D_3.0.2/cifar10-test.tfrecord*...:   0%|          …"
            ],
            "application/vnd.jupyter.widget-view+json": {
              "version_major": 2,
              "version_minor": 0,
              "model_id": "01bde0b4ef3648d884343077a51bd6cc"
            }
          },
          "metadata": {}
        },
        {
          "output_type": "stream",
          "name": "stdout",
          "text": [
            "Dataset cifar10 downloaded and prepared to /root/tensorflow_datasets/cifar10/3.0.2. Subsequent calls will reuse this data.\n"
          ]
        }
      ]
    },
    {
      "cell_type": "code",
      "source": [
        "ds_info.features"
      ],
      "metadata": {
        "colab": {
          "base_uri": "https://localhost:8080/"
        },
        "id": "meHOjJ4XjvSb",
        "outputId": "8e5bec52-a344-41f9-a694-0a61e12923e0"
      },
      "execution_count": null,
      "outputs": [
        {
          "output_type": "execute_result",
          "data": {
            "text/plain": [
              "FeaturesDict({\n",
              "    'id': Text(shape=(), dtype=string),\n",
              "    'image': Image(shape=(32, 32, 3), dtype=uint8),\n",
              "    'label': ClassLabel(shape=(), dtype=int64, num_classes=10),\n",
              "})"
            ]
          },
          "metadata": {},
          "execution_count": 5
        }
      ]
    },
    {
      "cell_type": "code",
      "source": [
        "class_names = ds_info.features['label'].names\n",
        "class_names"
      ],
      "metadata": {
        "colab": {
          "base_uri": "https://localhost:8080/"
        },
        "id": "AOYhC-QRj21B",
        "outputId": "8cc2681a-df89-42d6-9943-41a26d269224"
      },
      "execution_count": null,
      "outputs": [
        {
          "output_type": "execute_result",
          "data": {
            "text/plain": [
              "['airplane',\n",
              " 'automobile',\n",
              " 'bird',\n",
              " 'cat',\n",
              " 'deer',\n",
              " 'dog',\n",
              " 'frog',\n",
              " 'horse',\n",
              " 'ship',\n",
              " 'truck']"
            ]
          },
          "metadata": {},
          "execution_count": 6
        }
      ]
    },
    {
      "cell_type": "code",
      "source": [
        "train_sample = ds_train.take(1) # takes one sample from train data\n",
        "train_sample"
      ],
      "metadata": {
        "colab": {
          "base_uri": "https://localhost:8080/"
        },
        "id": "pZwnWmQXkXYy",
        "outputId": "14001a99-63c4-405f-8c83-ba2446c5c8ea"
      },
      "execution_count": null,
      "outputs": [
        {
          "output_type": "execute_result",
          "data": {
            "text/plain": [
              "<_TakeDataset element_spec=(TensorSpec(shape=(32, 32, 3), dtype=tf.uint8, name=None), TensorSpec(shape=(), dtype=tf.int64, name=None))>"
            ]
          },
          "metadata": {},
          "execution_count": 7
        }
      ]
    },
    {
      "cell_type": "code",
      "source": [
        "for image, label in train_sample:\n",
        "  print(f'''\n",
        "  image_shape : {image.shape}\n",
        "  image_datatype : {image.dtype}\n",
        "  target_class : {label}\n",
        "  class_name : {class_names[label.numpy()]}\n",
        "  '''\n",
        "  )"
      ],
      "metadata": {
        "colab": {
          "base_uri": "https://localhost:8080/"
        },
        "id": "o6k1Rgn6kcn_",
        "outputId": "50006925-0b69-4cb9-b826-02bee25a2d32"
      },
      "execution_count": null,
      "outputs": [
        {
          "output_type": "stream",
          "name": "stdout",
          "text": [
            "\n",
            "  image_shape : (32, 32, 3)\n",
            "  image_datatype : <dtype: 'uint8'>\n",
            "  target_class : 7\n",
            "  class_name : horse\n",
            "  \n"
          ]
        }
      ]
    },
    {
      "cell_type": "code",
      "source": [
        "import matplotlib.pyplot as plt\n",
        "plt.figure(figsize=(1.5, 1.5))\n",
        "plt.imshow(image)\n",
        "plt.title(class_names[label.numpy()])\n",
        "plt.axis(False)"
      ],
      "metadata": {
        "colab": {
          "base_uri": "https://localhost:8080/",
          "height": 192
        },
        "id": "fV5O2YrzkjYN",
        "outputId": "81eb1eb9-e036-49d9-b135-fa59c78359f8"
      },
      "execution_count": null,
      "outputs": [
        {
          "output_type": "execute_result",
          "data": {
            "text/plain": [
              "(-0.5, 31.5, 31.5, -0.5)"
            ]
          },
          "metadata": {},
          "execution_count": 9
        },
        {
          "output_type": "display_data",
          "data": {
            "text/plain": [
              "<Figure size 150x150 with 1 Axes>"
            ],
            "image/png": "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\n"
          },
          "metadata": {}
        }
      ]
    },
    {
      "cell_type": "code",
      "source": [
        "len(ds_train), len(ds_test)"
      ],
      "metadata": {
        "colab": {
          "base_uri": "https://localhost:8080/"
        },
        "id": "3zuCe2Bpkrtb",
        "outputId": "8b1ea0e9-5750-4c40-c097-240364b6ae19"
      },
      "execution_count": null,
      "outputs": [
        {
          "output_type": "execute_result",
          "data": {
            "text/plain": [
              "(50000, 10000)"
            ]
          },
          "metadata": {},
          "execution_count": 10
        }
      ]
    },
    {
      "cell_type": "code",
      "source": [
        "#  data augmentation pipeline for training data\n",
        "data_augmentation = tf.keras.Sequential([\n",
        "    # Resize to desired IMG_SIZE\n",
        "    tf.keras.layers.Resizing(IMG_SIZE, IMG_SIZE),\n",
        "    tf.keras.layers.RandomFlip(\"horizontal\"),\n",
        "    tf.keras.layers.RandomRotation(0.1),\n",
        "])"
      ],
      "metadata": {
        "id": "-lh8p9makt67"
      },
      "execution_count": null,
      "outputs": []
    },
    {
      "cell_type": "code",
      "source": [
        "# Preprocessing function using MobileNetV2's preprocess_input\n",
        "def preprocess(image, label):\n",
        "    image = tf.cast(image, tf.float32)\n",
        "    image = preprocess_input(image)\n",
        "    return image, label"
      ],
      "metadata": {
        "id": "Y3qRIIIMk51t"
      },
      "execution_count": null,
      "outputs": []
    },
    {
      "cell_type": "code",
      "source": [
        "# Augmentation function (applied only on training set)\n",
        "def augment(image, label):\n",
        "    image = data_augmentation(image)\n",
        "    return image, label"
      ],
      "metadata": {
        "id": "9RvEvamwk84y"
      },
      "execution_count": null,
      "outputs": []
    },
    {
      "cell_type": "code",
      "source": [
        "# Prepare the training dataset\n",
        "ds_train = ds_train.map(augment, num_parallel_calls=AUTOTUNE)\n",
        "ds_train = ds_train.map(preprocess, num_parallel_calls=AUTOTUNE)\n",
        "ds_train = ds_train.shuffle(1000).batch(BATCH_SIZE).prefetch(AUTOTUNE)"
      ],
      "metadata": {
        "id": "Ikdrk9pElAXQ"
      },
      "execution_count": null,
      "outputs": []
    },
    {
      "cell_type": "code",
      "source": [
        "# For the test dataset, only resize and preprocess (no augmentation)\n",
        "def resize_and_preprocess(image, label):\n",
        "    image = tf.cast(image, tf.float32)\n",
        "    image = tf.image.resize(image, [IMG_SIZE, IMG_SIZE])\n",
        "    image = preprocess_input(image)\n",
        "    return image, label"
      ],
      "metadata": {
        "id": "T2kWzcg7lEa3"
      },
      "execution_count": null,
      "outputs": []
    },
    {
      "cell_type": "code",
      "source": [
        "ds_test = ds_test.map(resize_and_preprocess, num_parallel_calls=AUTOTUNE)\n",
        "ds_test = ds_test.batch(BATCH_SIZE).prefetch(AUTOTUNE)"
      ],
      "metadata": {
        "id": "cxSGyfe7lH7W"
      },
      "execution_count": null,
      "outputs": []
    },
    {
      "cell_type": "code",
      "source": [
        "# Build the model using MobileNetV2 as the base\n",
        "base_model = MobileNetV2(\n",
        "    include_top=False,\n",
        "    weights='imagenet',\n",
        "    input_shape=(IMG_SIZE, IMG_SIZE, 3)\n",
        ")"
      ],
      "metadata": {
        "colab": {
          "base_uri": "https://localhost:8080/"
        },
        "id": "8XGrf5pxlKAU",
        "outputId": "12143321-bad5-48a1-9c53-449664d81bac"
      },
      "execution_count": null,
      "outputs": [
        {
          "output_type": "stream",
          "name": "stdout",
          "text": [
            "Downloading data from https://storage.googleapis.com/tensorflow/keras-applications/mobilenet_v2/mobilenet_v2_weights_tf_dim_ordering_tf_kernels_1.0_96_no_top.h5\n",
            "\u001b[1m9406464/9406464\u001b[0m \u001b[32m━━━━━━━━━━━━━━━━━━━━\u001b[0m\u001b[37m\u001b[0m \u001b[1m0s\u001b[0m 0us/step\n"
          ]
        }
      ]
    },
    {
      "cell_type": "code",
      "source": [
        "base_model.trainable = False"
      ],
      "metadata": {
        "id": "hJFo0G07lOwK"
      },
      "execution_count": null,
      "outputs": []
    },
    {
      "cell_type": "code",
      "source": [
        "inputs = tf.keras.Input(shape=(IMG_SIZE, IMG_SIZE, 3))\n",
        "x = base_model(inputs, training=False)\n",
        "x = tf.keras.layers.GlobalAveragePooling2D()(x)\n",
        "x = tf.keras.layers.Dropout(0.2)(x)\n",
        "outputs = tf.keras.layers.Dense(10, activation='softmax')(x)\n",
        "model = tf.keras.Model(inputs, outputs)"
      ],
      "metadata": {
        "id": "9p60vZ2LlbPe"
      },
      "execution_count": null,
      "outputs": []
    },
    {
      "cell_type": "code",
      "source": [
        "model.compile(optimizer=tf.keras.optimizers.Adam(),\n",
        "              loss='sparse_categorical_crossentropy',\n",
        "              metrics=['accuracy'])"
      ],
      "metadata": {
        "id": "4vtHfwaflhfW"
      },
      "execution_count": null,
      "outputs": []
    },
    {
      "cell_type": "code",
      "source": [
        "model.summary()"
      ],
      "metadata": {
        "colab": {
          "base_uri": "https://localhost:8080/",
          "height": 305
        },
        "id": "AiUwPejNlkSI",
        "outputId": "bffac5eb-e7cf-445f-cd12-d56eacee33e8"
      },
      "execution_count": null,
      "outputs": [
        {
          "output_type": "display_data",
          "data": {
            "text/plain": [
              "\u001b[1mModel: \"functional_1\"\u001b[0m\n"
            ],
            "text/html": [
              "<pre style=\"white-space:pre;overflow-x:auto;line-height:normal;font-family:Menlo,'DejaVu Sans Mono',consolas,'Courier New',monospace\"><span style=\"font-weight: bold\">Model: \"functional_1\"</span>\n",
              "</pre>\n"
            ]
          },
          "metadata": {}
        },
        {
          "output_type": "display_data",
          "data": {
            "text/plain": [
              "┏━━━━━━━━━━━━━━━━━━━━━━━━━━━━━━━━━━━━━━┳━━━━━━━━━━━━━━━━━━━━━━━━━━━━━┳━━━━━━━━━━━━━━━━━┓\n",
              "┃\u001b[1m \u001b[0m\u001b[1mLayer (type)                        \u001b[0m\u001b[1m \u001b[0m┃\u001b[1m \u001b[0m\u001b[1mOutput Shape               \u001b[0m\u001b[1m \u001b[0m┃\u001b[1m \u001b[0m\u001b[1m        Param #\u001b[0m\u001b[1m \u001b[0m┃\n",
              "┡━━━━━━━━━━━━━━━━━━━━━━━━━━━━━━━━━━━━━━╇━━━━━━━━━━━━━━━━━━━━━━━━━━━━━╇━━━━━━━━━━━━━━━━━┩\n",
              "│ input_layer_2 (\u001b[38;5;33mInputLayer\u001b[0m)           │ (\u001b[38;5;45mNone\u001b[0m, \u001b[38;5;34m96\u001b[0m, \u001b[38;5;34m96\u001b[0m, \u001b[38;5;34m3\u001b[0m)           │               \u001b[38;5;34m0\u001b[0m │\n",
              "├──────────────────────────────────────┼─────────────────────────────┼─────────────────┤\n",
              "│ mobilenetv2_1.00_96 (\u001b[38;5;33mFunctional\u001b[0m)     │ (\u001b[38;5;45mNone\u001b[0m, \u001b[38;5;34m3\u001b[0m, \u001b[38;5;34m3\u001b[0m, \u001b[38;5;34m1280\u001b[0m)          │       \u001b[38;5;34m2,257,984\u001b[0m │\n",
              "├──────────────────────────────────────┼─────────────────────────────┼─────────────────┤\n",
              "│ global_average_pooling2d             │ (\u001b[38;5;45mNone\u001b[0m, \u001b[38;5;34m1280\u001b[0m)                │               \u001b[38;5;34m0\u001b[0m │\n",
              "│ (\u001b[38;5;33mGlobalAveragePooling2D\u001b[0m)             │                             │                 │\n",
              "├──────────────────────────────────────┼─────────────────────────────┼─────────────────┤\n",
              "│ dropout (\u001b[38;5;33mDropout\u001b[0m)                    │ (\u001b[38;5;45mNone\u001b[0m, \u001b[38;5;34m1280\u001b[0m)                │               \u001b[38;5;34m0\u001b[0m │\n",
              "├──────────────────────────────────────┼─────────────────────────────┼─────────────────┤\n",
              "│ dense (\u001b[38;5;33mDense\u001b[0m)                        │ (\u001b[38;5;45mNone\u001b[0m, \u001b[38;5;34m10\u001b[0m)                  │          \u001b[38;5;34m12,810\u001b[0m │\n",
              "└──────────────────────────────────────┴─────────────────────────────┴─────────────────┘\n"
            ],
            "text/html": [
              "<pre style=\"white-space:pre;overflow-x:auto;line-height:normal;font-family:Menlo,'DejaVu Sans Mono',consolas,'Courier New',monospace\">┏━━━━━━━━━━━━━━━━━━━━━━━━━━━━━━━━━━━━━━┳━━━━━━━━━━━━━━━━━━━━━━━━━━━━━┳━━━━━━━━━━━━━━━━━┓\n",
              "┃<span style=\"font-weight: bold\"> Layer (type)                         </span>┃<span style=\"font-weight: bold\"> Output Shape                </span>┃<span style=\"font-weight: bold\">         Param # </span>┃\n",
              "┡━━━━━━━━━━━━━━━━━━━━━━━━━━━━━━━━━━━━━━╇━━━━━━━━━━━━━━━━━━━━━━━━━━━━━╇━━━━━━━━━━━━━━━━━┩\n",
              "│ input_layer_2 (<span style=\"color: #0087ff; text-decoration-color: #0087ff\">InputLayer</span>)           │ (<span style=\"color: #00d7ff; text-decoration-color: #00d7ff\">None</span>, <span style=\"color: #00af00; text-decoration-color: #00af00\">96</span>, <span style=\"color: #00af00; text-decoration-color: #00af00\">96</span>, <span style=\"color: #00af00; text-decoration-color: #00af00\">3</span>)           │               <span style=\"color: #00af00; text-decoration-color: #00af00\">0</span> │\n",
              "├──────────────────────────────────────┼─────────────────────────────┼─────────────────┤\n",
              "│ mobilenetv2_1.00_96 (<span style=\"color: #0087ff; text-decoration-color: #0087ff\">Functional</span>)     │ (<span style=\"color: #00d7ff; text-decoration-color: #00d7ff\">None</span>, <span style=\"color: #00af00; text-decoration-color: #00af00\">3</span>, <span style=\"color: #00af00; text-decoration-color: #00af00\">3</span>, <span style=\"color: #00af00; text-decoration-color: #00af00\">1280</span>)          │       <span style=\"color: #00af00; text-decoration-color: #00af00\">2,257,984</span> │\n",
              "├──────────────────────────────────────┼─────────────────────────────┼─────────────────┤\n",
              "│ global_average_pooling2d             │ (<span style=\"color: #00d7ff; text-decoration-color: #00d7ff\">None</span>, <span style=\"color: #00af00; text-decoration-color: #00af00\">1280</span>)                │               <span style=\"color: #00af00; text-decoration-color: #00af00\">0</span> │\n",
              "│ (<span style=\"color: #0087ff; text-decoration-color: #0087ff\">GlobalAveragePooling2D</span>)             │                             │                 │\n",
              "├──────────────────────────────────────┼─────────────────────────────┼─────────────────┤\n",
              "│ dropout (<span style=\"color: #0087ff; text-decoration-color: #0087ff\">Dropout</span>)                    │ (<span style=\"color: #00d7ff; text-decoration-color: #00d7ff\">None</span>, <span style=\"color: #00af00; text-decoration-color: #00af00\">1280</span>)                │               <span style=\"color: #00af00; text-decoration-color: #00af00\">0</span> │\n",
              "├──────────────────────────────────────┼─────────────────────────────┼─────────────────┤\n",
              "│ dense (<span style=\"color: #0087ff; text-decoration-color: #0087ff\">Dense</span>)                        │ (<span style=\"color: #00d7ff; text-decoration-color: #00d7ff\">None</span>, <span style=\"color: #00af00; text-decoration-color: #00af00\">10</span>)                  │          <span style=\"color: #00af00; text-decoration-color: #00af00\">12,810</span> │\n",
              "└──────────────────────────────────────┴─────────────────────────────┴─────────────────┘\n",
              "</pre>\n"
            ]
          },
          "metadata": {}
        },
        {
          "output_type": "display_data",
          "data": {
            "text/plain": [
              "\u001b[1m Total params: \u001b[0m\u001b[38;5;34m2,270,794\u001b[0m (8.66 MB)\n"
            ],
            "text/html": [
              "<pre style=\"white-space:pre;overflow-x:auto;line-height:normal;font-family:Menlo,'DejaVu Sans Mono',consolas,'Courier New',monospace\"><span style=\"font-weight: bold\"> Total params: </span><span style=\"color: #00af00; text-decoration-color: #00af00\">2,270,794</span> (8.66 MB)\n",
              "</pre>\n"
            ]
          },
          "metadata": {}
        },
        {
          "output_type": "display_data",
          "data": {
            "text/plain": [
              "\u001b[1m Trainable params: \u001b[0m\u001b[38;5;34m12,810\u001b[0m (50.04 KB)\n"
            ],
            "text/html": [
              "<pre style=\"white-space:pre;overflow-x:auto;line-height:normal;font-family:Menlo,'DejaVu Sans Mono',consolas,'Courier New',monospace\"><span style=\"font-weight: bold\"> Trainable params: </span><span style=\"color: #00af00; text-decoration-color: #00af00\">12,810</span> (50.04 KB)\n",
              "</pre>\n"
            ]
          },
          "metadata": {}
        },
        {
          "output_type": "display_data",
          "data": {
            "text/plain": [
              "\u001b[1m Non-trainable params: \u001b[0m\u001b[38;5;34m2,257,984\u001b[0m (8.61 MB)\n"
            ],
            "text/html": [
              "<pre style=\"white-space:pre;overflow-x:auto;line-height:normal;font-family:Menlo,'DejaVu Sans Mono',consolas,'Courier New',monospace\"><span style=\"font-weight: bold\"> Non-trainable params: </span><span style=\"color: #00af00; text-decoration-color: #00af00\">2,257,984</span> (8.61 MB)\n",
              "</pre>\n"
            ]
          },
          "metadata": {}
        }
      ]
    },
    {
      "cell_type": "code",
      "source": [
        "history = model.fit(\n",
        "    ds_train,\n",
        "    epochs=5,\n",
        "    validation_data=ds_test\n",
        ")"
      ],
      "metadata": {
        "colab": {
          "base_uri": "https://localhost:8080/"
        },
        "id": "YFAa1Y1RlmEf",
        "outputId": "f145710c-ad0f-4963-bd61-d7721fef4033"
      },
      "execution_count": null,
      "outputs": [
        {
          "output_type": "stream",
          "name": "stdout",
          "text": [
            "Epoch 1/5\n",
            "\u001b[1m782/782\u001b[0m \u001b[32m━━━━━━━━━━━━━━━━━━━━\u001b[0m\u001b[37m\u001b[0m \u001b[1m129s\u001b[0m 149ms/step - accuracy: 0.5983 - loss: 1.1976 - val_accuracy: 0.8204 - val_loss: 0.5330\n",
            "Epoch 2/5\n",
            "\u001b[1m782/782\u001b[0m \u001b[32m━━━━━━━━━━━━━━━━━━━━\u001b[0m\u001b[37m\u001b[0m \u001b[1m105s\u001b[0m 132ms/step - accuracy: 0.7455 - loss: 0.7420 - val_accuracy: 0.8322 - val_loss: 0.4826\n",
            "Epoch 3/5\n",
            "\u001b[1m782/782\u001b[0m \u001b[32m━━━━━━━━━━━━━━━━━━━━\u001b[0m\u001b[37m\u001b[0m \u001b[1m106s\u001b[0m 133ms/step - accuracy: 0.7520 - loss: 0.7080 - val_accuracy: 0.8306 - val_loss: 0.4913\n",
            "Epoch 4/5\n",
            "\u001b[1m782/782\u001b[0m \u001b[32m━━━━━━━━━━━━━━━━━━━━\u001b[0m\u001b[37m\u001b[0m \u001b[1m104s\u001b[0m 131ms/step - accuracy: 0.7584 - loss: 0.7036 - val_accuracy: 0.8342 - val_loss: 0.4910\n",
            "Epoch 5/5\n",
            "\u001b[1m782/782\u001b[0m \u001b[32m━━━━━━━━━━━━━━━━━━━━\u001b[0m\u001b[37m\u001b[0m \u001b[1m147s\u001b[0m 138ms/step - accuracy: 0.7661 - loss: 0.6819 - val_accuracy: 0.8390 - val_loss: 0.4653\n"
          ]
        }
      ]
    },
    {
      "cell_type": "code",
      "source": [
        "plot_loss_curves(history)"
      ],
      "metadata": {
        "colab": {
          "base_uri": "https://localhost:8080/",
          "height": 927
        },
        "id": "qF9Kx8fvlsJQ",
        "outputId": "a816329b-1084-4646-c076-fd942aba6dec"
      },
      "execution_count": null,
      "outputs": [
        {
          "output_type": "display_data",
          "data": {
            "text/plain": [
              "<Figure size 640x480 with 1 Axes>"
            ],
            "image/png": "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\n"
          },
          "metadata": {}
        },
        {
          "output_type": "display_data",
          "data": {
            "text/plain": [
              "<Figure size 640x480 with 1 Axes>"
            ],
            "image/png": "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\n"
          },
          "metadata": {}
        }
      ]
    },
    {
      "cell_type": "code",
      "source": [
        "base_model.trainable = True\n",
        "fine_tune_at = 25\n",
        "for layer in base_model.layers[:fine_tune_at]:\n",
        "    layer.trainable = False"
      ],
      "metadata": {
        "id": "tfhWt-RKoFT_"
      },
      "execution_count": null,
      "outputs": []
    },
    {
      "cell_type": "code",
      "source": [
        "model.compile(optimizer=tf.keras.optimizers.Adam(1e-5),\n",
        "              loss='sparse_categorical_crossentropy',\n",
        "              metrics=['accuracy'])"
      ],
      "metadata": {
        "id": "x7swR05cq6ja"
      },
      "execution_count": null,
      "outputs": []
    },
    {
      "cell_type": "code",
      "source": [
        "history = model.fit(\n",
        "    ds_train,\n",
        "    epochs=5,\n",
        "    validation_data=ds_test,\n",
        ")"
      ],
      "metadata": {
        "colab": {
          "base_uri": "https://localhost:8080/"
        },
        "id": "4nKLQGLpq9FE",
        "outputId": "ff565d1e-6a3d-4401-82db-019fdf5e8028"
      },
      "execution_count": null,
      "outputs": [
        {
          "output_type": "stream",
          "name": "stdout",
          "text": [
            "Epoch 1/5\n",
            "\u001b[1m782/782\u001b[0m \u001b[32m━━━━━━━━━━━━━━━━━━━━\u001b[0m\u001b[37m\u001b[0m \u001b[1m206s\u001b[0m 197ms/step - accuracy: 0.6337 - loss: 1.2428 - val_accuracy: 0.8408 - val_loss: 0.5099\n",
            "Epoch 2/5\n",
            "\u001b[1m782/782\u001b[0m \u001b[32m━━━━━━━━━━━━━━━━━━━━\u001b[0m\u001b[37m\u001b[0m \u001b[1m129s\u001b[0m 163ms/step - accuracy: 0.7762 - loss: 0.7042 - val_accuracy: 0.8672 - val_loss: 0.4018\n",
            "Epoch 3/5\n",
            "\u001b[1m782/782\u001b[0m \u001b[32m━━━━━━━━━━━━━━━━━━━━\u001b[0m\u001b[37m\u001b[0m \u001b[1m139s\u001b[0m 160ms/step - accuracy: 0.8082 - loss: 0.5913 - val_accuracy: 0.8781 - val_loss: 0.3795\n",
            "Epoch 4/5\n",
            "\u001b[1m782/782\u001b[0m \u001b[32m━━━━━━━━━━━━━━━━━━━━\u001b[0m\u001b[37m\u001b[0m \u001b[1m128s\u001b[0m 162ms/step - accuracy: 0.8330 - loss: 0.5092 - val_accuracy: 0.8806 - val_loss: 0.3760\n",
            "Epoch 5/5\n",
            "\u001b[1m782/782\u001b[0m \u001b[32m━━━━━━━━━━━━━━━━━━━━\u001b[0m\u001b[37m\u001b[0m \u001b[1m128s\u001b[0m 161ms/step - accuracy: 0.8473 - loss: 0.4601 - val_accuracy: 0.8815 - val_loss: 0.3751\n"
          ]
        }
      ]
    },
    {
      "cell_type": "code",
      "source": [
        "plot_loss_curves(history)"
      ],
      "metadata": {
        "colab": {
          "base_uri": "https://localhost:8080/",
          "height": 927
        },
        "id": "2u0D8h74rEAJ",
        "outputId": "bfef52f3-95b9-45fc-81d2-315d92a290ea"
      },
      "execution_count": null,
      "outputs": [
        {
          "output_type": "display_data",
          "data": {
            "text/plain": [
              "<Figure size 640x480 with 1 Axes>"
            ],
            "image/png": "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\n"
          },
          "metadata": {}
        },
        {
          "output_type": "display_data",
          "data": {
            "text/plain": [
              "<Figure size 640x480 with 1 Axes>"
            ],
            "image/png": "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\n"
          },
          "metadata": {}
        }
      ]
    },
    {
      "cell_type": "code",
      "source": [
        "history = model.fit(\n",
        "    ds_train,\n",
        "    epochs=3,\n",
        "    validation_data=ds_test,\n",
        ")"
      ],
      "metadata": {
        "colab": {
          "base_uri": "https://localhost:8080/"
        },
        "id": "M7R-2SqPt7E7",
        "outputId": "6690b6ae-7d39-4348-b733-aa6bf6b7a0d0"
      },
      "execution_count": null,
      "outputs": [
        {
          "output_type": "stream",
          "name": "stdout",
          "text": [
            "Epoch 1/3\n",
            "\u001b[1m782/782\u001b[0m \u001b[32m━━━━━━━━━━━━━━━━━━━━\u001b[0m\u001b[37m\u001b[0m \u001b[1m130s\u001b[0m 164ms/step - accuracy: 0.8579 - loss: 0.4294 - val_accuracy: 0.8893 - val_loss: 0.3529\n",
            "Epoch 2/3\n",
            "\u001b[1m782/782\u001b[0m \u001b[32m━━━━━━━━━━━━━━━━━━━━\u001b[0m\u001b[37m\u001b[0m \u001b[1m142s\u001b[0m 165ms/step - accuracy: 0.8679 - loss: 0.3882 - val_accuracy: 0.8948 - val_loss: 0.3384\n",
            "Epoch 3/3\n",
            "\u001b[1m782/782\u001b[0m \u001b[32m━━━━━━━━━━━━━━━━━━━━\u001b[0m\u001b[37m\u001b[0m \u001b[1m131s\u001b[0m 166ms/step - accuracy: 0.8745 - loss: 0.3712 - val_accuracy: 0.8997 - val_loss: 0.3182\n"
          ]
        }
      ]
    },
    {
      "cell_type": "code",
      "source": [
        "plot_loss_curves(history)"
      ],
      "metadata": {
        "colab": {
          "base_uri": "https://localhost:8080/",
          "height": 927
        },
        "id": "1DTd8OWauBIA",
        "outputId": "583610e8-af44-463e-e917-911bb776f907"
      },
      "execution_count": null,
      "outputs": [
        {
          "output_type": "display_data",
          "data": {
            "text/plain": [
              "<Figure size 640x480 with 1 Axes>"
            ],
            "image/png": "iVBORw0KGgoAAAANSUhEUgAAAiwAAAHHCAYAAACcHAM1AAAAOnRFWHRTb2Z0d2FyZQBNYXRwbG90bGliIHZlcnNpb24zLjEwLjAsIGh0dHBzOi8vbWF0cGxvdGxpYi5vcmcvlHJYcgAAAAlwSFlzAAAPYQAAD2EBqD+naQAAZJhJREFUeJzt3Xd8VFX+//HXTHojIaQXOgmdQBIiKggSCGVZcBXQZQFZy9pQF7Dw27Wtu190ZRXXArvWXRuCYlk6REBEFBJAihCKQBJIQk8lde7vj4GJIzWQZCbJ+/l43Ifk3jM3n8skzNt7zj3HZBiGgYiIiIgTMzu6ABEREZFLUWARERERp6fAIiIiIk5PgUVEREScngKLiIiIOD0FFhEREXF6CiwiIiLi9BRYRERExOkpsIiIiIjTU2ARERERp6fAIiJ17t1338VkMpGWluboUkSkgVJgEREREaenwCIiIiJOT4FFRJzC5s2bGTp0KM2aNcPX15eBAwfy3Xff2bWpqKjgmWeeoUOHDnh6etKiRQuuv/56VqxYYWuTm5vLpEmTiIqKwsPDg/DwcEaOHMmBAwfq+YpEpDa5OroAEZEdO3bQt29fmjVrxqOPPoqbmxv/+te/6N+/P2vWrCEpKQmAp59+mhkzZnDnnXfSu3dvCgoKSEtLY9OmTQwaNAiAm2++mR07djB58mRat27NkSNHWLFiBZmZmbRu3dqBVykiV8NkGIbh6CJEpHF79913mTRpEhs3biQhIeGc4zfddBOLFy9m586dtG3bFoCcnBxiY2Pp2bMna9asASAuLo6oqCgWLlx43u9z6tQpmjdvzgsvvMC0adPq7oJEpN6pS0hEHKqqqorly5czatQoW1gBCA8P57e//S3ffPMNBQUFAAQEBLBjxw727Nlz3nN5eXnh7u7O6tWrOXnyZL3ULyL1Q4FFRBzq6NGjlJSUEBsbe86xTp06YbFYyMrKAuAvf/kLp06dIiYmhm7duvHII4+wdetWW3sPDw+ef/55lixZQmhoKP369ePvf/87ubm59XY9IlI3FFhEpMHo168f+/bt4+2336Zr1668+eab9OrVizfffNPW5uGHH2b37t3MmDEDT09PnnjiCTp16sTmzZsdWLmIXC0FFhFxqODgYLy9vcnIyDjn2K5duzCbzURHR9v2BQYGMmnSJD766COysrLo3r07Tz/9tN3r2rVrx9SpU1m+fDnbt2+nvLycf/zjH3V9KSJShxRYRMShXFxcGDx4MF988YXdo8d5eXl8+OGHXH/99TRr1gyA48eP273W19eX9u3bU1ZWBkBJSQmlpaV2bdq1a4efn5+tjYg0THqsWUTqzdtvv83SpUvP2f/000+zYsUKrr/+eu677z5cXV3517/+RVlZGX//+99t7Tp37kz//v2Jj48nMDCQtLQ0PvnkEx544AEAdu/ezcCBAxkzZgydO3fG1dWVzz77jLy8PG699dZ6u04RqX16rFlE6tzZx5ovJCsri6NHjzJ9+nTWrVuHxWIhKSmJv/3tb/Tp08fW7m9/+xtffvklu3fvpqysjFatWjF+/HgeeeQR3NzcOH78OE899RSpqalkZWXh6upKx44dmTp1KqNHj66PSxWROqLAIiIiIk5PY1hERETE6SmwiIiIiNNTYBERERGnp8AiIiIiTk+BRURERJyeAouIiIg4vSuaOO61117jhRdeIDc3lx49evDKK6/Qu3fvS75u7ty53HbbbYwcOZLPP/8cgIqKCv785z+zePFifvrpJ/z9/UlOTua5554jIiLisuqxWCwcPnwYPz8/TCbTlVySiIiI1DPDMCgsLCQiIgKz+RL3UIwamjt3ruHu7m68/fbbxo4dO4y77rrLCAgIMPLy8i76uv379xuRkZFG3759jZEjR9r2nzp1ykhOTjY+/vhjY9euXcb69euN3r17G/Hx8ZddU1ZWlgFo06ZNmzZt2hrglpWVdcnP+hpPHJeUlERiYiKvvvoqYL27ER0dzeTJk3n88cfP+5qqqir69evH73//e9auXcupU6dsd1jOZ+PGjfTu3ZuDBw/SsmXLS9aUn59PQEAAWVlZtjVHRERExLkVFBQQHR3NqVOn8Pf3v2jbGnUJlZeXk56ezvTp0237zGYzycnJrF+//oKv+8tf/kJISAh33HEHa9euveT3yc/Px2QyERAQcN7jZWVldguZFRYWAtCsWTMFFhERkQbmcoZz1GjQ7bFjx6iqqiI0NNRuf2hoKLm5ued9zTfffMNbb73FG2+8cVnfo7S0lMcee4zbbrvtguFjxowZ+Pv727afLz0vIiIijU+dPiVUWFjI+PHjeeONNwgKCrpk+4qKCsaMGYNhGMyePfuC7aZPn05+fr5ty8rKqs2yRURExMnUqEsoKCgIFxcX8vLy7Pbn5eURFhZ2Tvt9+/Zx4MABRowYYdtnsVis39jVlYyMDNq1awdUh5WDBw/y1VdfXbRrx8PDAw8Pj5qULiIiIg1YjQKLu7s78fHxpKamMmrUKMAaQFJTU3nggQfOad+xY0e2bdtmt+/Pf/4zhYWFvPzyy7aunLNhZc+ePaxatYoWLVpc4eWIiIijVFVVUVFR4egyxMm4ubnh4uJy1eep8TwsU6ZMYeLEiSQkJNC7d29mzZpFcXExkyZNAmDChAlERkYyY8YMPD096dq1q93rzw6kPbu/oqKCW265hU2bNrFw4UKqqqps42ECAwNxd3e/musTEZE6ZhgGubm5nDp1ytGliJMKCAggLCzsquZKq3FgGTt2LEePHuXJJ58kNzeXuLg4li5dahuIm5mZeenJX37m0KFDfPnllwDExcXZHVu1ahX9+/evaYkiIlKPzoaVkJAQvL29NYGn2BiGQUlJCUeOHAEgPDz8is9V43lYnFFBQQH+/v7k5+frsWYRkXpUVVXF7t27CQkJUXe+XNDx48c5cuQIMTExdt1DNfn81lpCIiJyxc6OWfH29nZwJeLMzv58XM0YJwUWERG5auoGkoupjZ8PBRYRERFxegosIiIiV6l169bMmjXrstuvXr0ak8lUr09W9e/fn4cffrjevl9tq/FTQiIiIo1B//79iYuLq1HQuJCNGzfi4+Nz2e2vvfZacnJyLrngn1TTHZZLSD94klMl5Y4uQ0RE6plhGFRWVl5W2+Dg4BoNPHZ3d7/qeUmaGgWWizhdXsU976fT9++reCV1D0Vll/eDKyIizu32229nzZo1vPzyy5hMJkwmE++++y4mk4klS5YQHx+Ph4cH33zzDfv27WPkyJGEhobi6+tLYmIiK1eutDvfL7uETCYTb775JjfddBPe3t506NDBNucYnNsl9O677xIQEMCyZcvo1KkTvr6+DBkyhJycHNtrKisrefDBBwkICKBFixY89thjTJw40TbzfE2dPHmSCRMm0Lx5c7y9vRk6dCh79uyxHT948CAjRoygefPm+Pj40KVLFxYvXmx77bhx4wgODsbLy4sOHTrwzjvvXFEdl0uB5SJy8k/TwsedwtJK/rFiNzf8fRVvrv2J0ooqR5cmIuKUDMOgpLzSIVtNphV7+eWX6dOnD3fddRc5OTnk5OTYlot5/PHHee6559i5cyfdu3enqKiIYcOGkZqayubNmxkyZAgjRowgMzPzot/jmWeeYcyYMWzdupVhw4Yxbtw4Tpw4ccH2JSUlzJw5k/fee4+vv/6azMxMpk2bZjv+/PPP88EHH/DOO++wbt06CgoK+Pzzzy/7mn/p9ttvJy0tjS+//JL169djGAbDhg2zPXp8//33U1ZWxtdff822bdt4/vnn8fX1BeCJJ57gxx9/ZMmSJezcuZPZs2df1iLHV0NjWC6ibbAvix/sy/+2HmbWyj3sP1bMXxft5M21+3lwYAdGJ0Th5qLMJyJy1umKKjo/ucwh3/vHv6Tg7X55H2v+/v64u7vj7e1tW7x3165dAPzlL39h0KBBtraBgYH06NHD9vWzzz7LZ599xpdffnnedfTOuv3227ntttsA+L//+z/++c9/smHDBoYMGXLe9hUVFcyZM8e2KPADDzzAX/7yF9vxV155henTp3PTTTcB8Oqrr9rueNTUnj17+PLLL1m3bh3XXnstAB988AHR0dF8/vnnjB49mszMTG6++Wa6desGQNu2bW2vz8zMpGfPniQkJADWO0x1TZ+2l2A2mxgZF8mKP/bj+Zu7EeHvSW5BKf/vs20kv7iGzzcfosrS4CcLFhGRM85+CJ9VVFTEtGnT6NSpEwEBAfj6+rJz585L3mHp3r277c8+Pj40a9bMNkX9+Xh7e9vCClinsT/bPj8/n7y8PHr37m077uLiQnx8fI2u7aydO3fi6upKUlKSbV+LFi2IjY1l586dADz44IP89a9/5brrruOpp55i69attrb33nsvc+fOJS4ujkcffZRvv/32iuqoCd1huUyuLmbGJrZkZFwkH23I5LVVezl4vISHP97C66v3MmVQLCldQjWASkSaNC83F378S4rDvndt+OXTPtOmTWPFihXMnDmT9u3b4+XlxS233EJ5+cUfyHBzc7P72mQyYbFYatTekavn3HnnnaSkpLBo0SKWL1/OjBkz+Mc//sHkyZMZOnQoBw8eZPHixaxYsYKBAwdy//33M3PmzDqrR3dYasjTzYVJ17Xh60cH8EhKLM08XdmdV8Q976cz8rV1fL37qEN/wEREHMlkMuHt7uqQrab/w+ju7k5V1aXHJK5bt47bb7+dm266iW7duhEWFsaBAweu8G/oyvj7+xMaGsrGjRtt+6qqqti0adMVna9Tp05UVlby/fff2/YdP36cjIwMOnfubNsXHR3NPffcw4IFC5g6dSpvvPGG7VhwcDATJ07k/fffZ9asWfz73/++oloul+6wXCFvd1fuH9Ce313Tije+/om31+1na3Y+E97eQO82gTySEkti60BHlykiIhfQunVrvv/+ew4cOICvr+8F73506NCBBQsWMGLECEwmE0888cRF75TUlcmTJzNjxgzat29Px44deeWVVzh58uQV3dnv0KEDI0eO5K677uJf//oXfn5+PP7440RGRjJy5EgAHn74YYYOHUpMTAwnT55k1apVdOrUCYAnn3yS+Ph4unTpQllZGQsXLrQdqyu6w3KV/L3cmJYSy9ePDuCO69vg7mpmw/4TjJ6zntvf2cD2Q/mOLlFERM5j2rRpuLi40LlzZ4KDgy84JuXFF1+kefPmXHvttYwYMYKUlBR69epVz9XCY489xm233caECRPo06cPvr6+pKSk4OnpeUXne+edd4iPj+dXv/oVffr0wTAMFi9ebOuaqqqq4v7776dTp04MGTKEmJgYXn/9dcB6d2r69Ol0796dfv364eLiwty5c2vtWs/HZDSC/ouaLE9d13LyT/PP1L3MS8uyDcYd1i2MKYNiaB/i59DaRERqW2lpKfv376dNmzZX/MEpV8ZisdCpUyfGjBnDs88+6+hyLupCPyc1+fzWHZZaFu7vxYzfdCN1yg2MiovAZILF23IZ/NLXTJm3hawTJY4uUUREGqCDBw/yxhtvsHv3brZt28a9997L/v37+e1vf+vo0uqFAksdaR3kw6xbe7L0oX6kdAnFYsCCTYe48R+r+fPn28grKHV0iSIi0oCYzWbeffddEhMTue6669i2bRsrV66kU6dOZGZm4uvre8HtUo9gNwTqEqonP2SdYubyDNbuOQaAh6uZide25p4b2hHo4+7g6kREroy6hJxDZWXlRZ9cat26Na6ujnvOpja6hPSUUD3pER3Ae3ck8d1Px5m5LIO0gyf599c/8eH3mfz++jbc2bcNzTzdLn0iERGRX3B1daV9+/aOLqNOqUuonl3TtgXz7+nDO5MS6RLRjKKySv6Zuod+f1/FnDX7OF2udYpERER+SYHFAUwmEwNiQ/jfA9fz+rhetAv24VRJBc8t2UW/F1bx3/UHKK+s/2f8RUREnJUCiwOZzSaGdQtn+R9vYOboHkQ19+JoYRlPfrGDATNXMz8ti8oqBRcREREFFifgYjZxS3wUX03tz7MjuxDi58GhU6d55JOtDJ71NQu3HsaiBRZFRKQJU2BxIu6uZsb3ac2aRwbw/4Z1JMDbjZ+OFvPAh5v51Svf8NWuPK1TJCIiTZICixPycnfh7n7tWPvoAB5O7oCvhys/5hTw+3fTuGXOetbvO+7oEkVEmrzWrVsza9asy2prMpn4/PPP67Sexk6BxYn5ebrxcHIMax8dwB/6tcXTzUz6wZPc9sZ3/O7N79mSdcrRJYqIiNQLBZYGoLmPO9OHdeLrRwYwoU8r3FxMfLP3GKNeW8dd/01jV26Bo0sUERGpUwosDUhIM0/+MrIrX03tzy3xUZhNsOLHPIa+vJaH5m7mwLFiR5coItIg/Pvf/yYiIgKLxf5JzJEjR/L73/+effv2MXLkSEJDQ/H19SUxMZGVK1fW2vfftm0bN954I15eXrRo0YK7776boqIi2/HVq1fTu3dvfHx8CAgI4LrrruPgwYMA/PDDDwwYMAA/Pz+aNWtGfHw8aWlptVabs1JgaYCiA72ZOboHy//Yj+HdwjEM+GLLYQa+uIbHP93K4VOnHV2iiDRVhgHlxY7ZavBQwujRozl+/DirVq2y7Ttx4gRLly5l3LhxFBUVMWzYMFJTU9m8eTNDhgxhxIgRtbImT3FxMSkpKTRv3pyNGzcyf/58Vq5cyQMPPABYp9kfNWoUN9xwA1u3bmX9+vXcfffdmEwmAMaNG0dUVBQbN24kPT2dxx9/HDe3xj9Tuqbmb8Dah/jx2rhe3Hson38sz2BVxlHmbsxiwaZDjLumJfcPaE+Qr4ejyxSRpqSiBP4vwjHf+/8dBnefy2ravHlzhg4dyocffsjAgQMB+OSTTwgKCmLAgAGYzWZ69Ohha//ss8/y2Wef8eWXX9qCxZX68MMPKS0t5b///S8+PtZ6X331VUaMGMHzzz+Pm5sb+fn5/OpXv6Jdu3YAdOrUyfb6zMxMHnnkETp27AhAhw4drqqehkJ3WBqBrpH+vDOpN5/c04ekNoGUV1l4Z90B+v19FS8s20V+SYWjSxQRcTrjxo3j008/paysDIAPPviAW2+9FbPZTFFREdOmTaNTp04EBATg6+vLzp07a+UOy86dO+nRo4ctrABcd911WCwWMjIyCAwM5PbbbyclJYURI0bw8ssvk5OTY2s7ZcoU7rzzTpKTk3nuuefYt2/fVdfUEOgOSyOS0DqQuXdfwzd7jzFzWQY/ZOfz2qp9vLf+IH+4oR23X9saHw+95SJSh9y8rXc6HPW9a2DEiBEYhsGiRYtITExk7dq1vPTSSwBMmzaNFStWMHPmTNq3b4+Xlxe33HIL5eXldVH5Od555x0efPBBli5dyscff8yf//xnVqxYwTXXXMPTTz/Nb3/7WxYtWsSSJUt46qmnmDt3LjfddFO91OYo+vRqZEwmE307BHN9+yCW/5jHi8t3k5FXyAvLMnhn3X7u7d+ecUkt8XRzcXSpItIYmUyX3S3jaJ6envzmN7/hgw8+YO/evcTGxtKrVy8A1q1bx+23324LAUVFRRw4cKBWvm+nTp149913KS4utt1lWbduHWazmdjYWFu7nj170rNnT6ZPn06fPn348MMPueaaawCIiYkhJiaGP/7xj9x222288847jT6wqEuokTKZTKR0CWPxQ315+dY4WrXw5lhROc8u/JEBM1fz0YZMKrROkYg0cePGjWPRokW8/fbbjBs3zra/Q4cOLFiwgC1btvDDDz/w29/+9pwniq7me3p6ejJx4kS2b9/OqlWrmDx5MuPHjyc0NJT9+/czffp01q9fz8GDB1m+fDl79uyhU6dOnD59mgceeIDVq1dz8OBB1q1bx8aNG+3GuDRWusPSyLmYTYyMi2RYt3A+Sc/mn6l7yMkvZfqCbfxrzT7+OCiGEd0jMJtNji5VRKTe3XjjjQQGBpKRkcFvf/tb2/4XX3yR3//+91x77bUEBQXx2GOPUVBQO3NeeXt7s2zZMh566CESExPx9vbm5ptv5sUXX7Qd37VrF//5z384fvw44eHh3H///fzhD3+gsrKS48ePM2HCBPLy8ggKCuI3v/kNzzzzTK3U5sxMRiNYnKagoAB/f3/y8/Np1qyZo8txaqUVVXzwfSavr9rL8WJrX2xsqB9TB8cwqHOo7bE5EZHLUVpayv79+2nTpg2enp6OLkec1IV+Tmry+a0uoSbG082FO65vw9ePDuCRlFj8PF3JyCvk7vfSGfX6t6zdc1QLLIqIiNNRYGmifDxcuX9Ae7559EbuH9AOLzcXfsg6xfi3NnDbG9+RfvCEo0sUEWkQPvjgA3x9fc+7denSxdHlNRrqEhIAjhaW8frqvXzwXSblZwbjDogNZurgWLpG+ju4OhFxVuoSgsLCQvLy8s57zM3NjVatWtVzRc6nNrqENOhWAAj28+CpEV24s29bXkndw/z0bFZlHGVVxlGGdwvnj4NiaB/i6+gyRUScjp+fH35+fo4uo9FTl5DYiQzw4rmbu7Nyyg2MjIvAZIJF23IY/NIaps3/gawTJY4uUUREmiAFFjmvNkE+vHxrT5Y81JdBnUOxGPBJejY3/mM1T36xnSMFpY4uUUScSG3NUSKNU238fGgMi1yWzZkn+cfy3Xyz9xgAnm5mJvZpzT03tKO5j7uDqxMRR7FYLOzZswcXFxeCg4Nxd3fX9AhiYxgG5eXlHD16lKqqKjp06IDZXH2vpCaf3wosUiPr9x1n5vIM0g+eBMDXw5U7+7bhjuvb4OfZ+Jc3F5FzlZeXk5OTQ0mJuozl/Ly9vQkPD8fd3f5/cBVYpE4ZhsGqjCPMXLabH3OsMz8293bj3v7tmNCntdYpEmmCDMOgsrKSqqoqR5ciTsbFxQVXV9fz3nlTYJF6YbEYLN6ew4srdvPT0WIAQvw8mHxje8YmtsTdVUOkRETkwhRYpF5VVln4bPMhZq3cw6FTpwGIau7Fw8kx3NQzEhetUyQiIuehwCIOUVZZxccbs3jlq70cLSwDoF2wD1MHxzKkS5gWWBQRETsKLOJQp8ur+M/6A8xZs49TJRUAdIloxrSUWPrHBOsJAhERARRYHF2OnFFQWsGba/fz1tqfKC63DsRLaNWcaSmxXNO2hYOrExERR1NgEadyoricOWv28Z9vD1BWaZ08qG+HIKYNjqVHdIBjixMREYdRYBGnlFdQyitf7WHuhiwqLdYfu8GdQ5k6OJbYMK3DISLS1CiwiFPLPF7CrNTdfL75EBYDTCYY2SOCh5NjaB3k4+jyRESkniiwSIOw90ghL67YzeJtuQC4mk2MTojmwYHtCff3cnB1IiJS1xRYpEHZfiifmcszWJ1xFAB3VzPjr2nFvf3bEeTr4eDqRESkriiwSIO08cAJXliWwYb9JwDwdnfh99e14a5+bfH30jpFIiKNjQKLNFiGYbB2zzFeWJbBtkP5ADTzdOUPN7Rj0nWt8XZ3dXCFIiJSWxRYpMEzDINlO/J4cUUGu/OKAAjydef+Ae35bVJLPFy1wKKISENXk8/vK1qd7rXXXqN169Z4enqSlJTEhg0bLut1c+fOxWQyMWrUKLv9hmHw5JNPEh4ejpeXF8nJyezZs+dKSpNGwmQyMaRrGEse6sdLY3vQMtCbY0XlPPO/Hxnwwmrmbsikssri6DJFRKSe1DiwfPzxx0yZMoWnnnqKTZs20aNHD1JSUjhy5MhFX3fgwAGmTZtG3759zzn297//nX/+85/MmTOH77//Hh8fH1JSUigtLa1pedLIuJhN3NQzitSpN/B/N3UjrJknh/NLeXzBNga99DVfbDmExdLgbxKKiMgl1LhLKCkpicTERF599VUALBYL0dHRTJ48mccff/y8r6mqqqJfv378/ve/Z+3atZw6dYrPP/8csN5diYiIYOrUqUybNg2A/Px8QkNDeffdd7n11lsvWZO6hJqO0ooq3v/uIK+v3seJ4nIAOob5MXVwLMmdQrROkYhIA1JnXULl5eWkp6eTnJxcfQKzmeTkZNavX3/B1/3lL38hJCSEO+6445xj+/fvJzc31+6c/v7+JCUlXfCcZWVlFBQU2G3SNHi6uXBn37Z8/egApg6Kwc/TlV25hdz13zRuev1b1u095ugSRUSkDtQosBw7doyqqipCQ0Pt9oeGhpKbm3ve13zzzTe89dZbvPHGG+c9fvZ1NTnnjBkz8Pf3t23R0dE1uQxpBHw9XJk8sANrHx3Avf3b4eXmwpasU4x783tu+/d3pB886egSRUSkFl3RoNvLVVhYyPjx43njjTcICgqqtfNOnz6d/Px825aVlVVr55aGJcDbnceGdGTNo/25/drWuLuYWf/TcW6e/S13vLuRHYfzHV2iiIjUghpNahEUFISLiwt5eXl2+/Py8ggLCzun/b59+zhw4AAjRoyw7bNYrE92uLq6kpGRYXtdXl4e4eHhdueMi4s7bx0eHh54eGgGVKkW4ufJ07/uwl392vLPlXv4ZFM2qbuOkLrrCMO7hzNlUAztgn0dXaaIiFyhGt1hcXd3Jz4+ntTUVNs+i8VCamoqffr0Oad9x44d2bZtG1u2bLFtv/71rxkwYABbtmwhOjqaNm3aEBYWZnfOgoICvv/++/OeU+RiIgO8eP6W7qz4Yz9G9IgAYNHWHAa9uIZH5v9A9skSB1coIiJXosbThk6ZMoWJEyeSkJBA7969mTVrFsXFxUyaNAmACRMmEBkZyYwZM/D09KRr1652rw8ICACw2//www/z17/+lQ4dOtCmTRueeOIJIiIizpmvReRytQ325ZXbenLvDe14cUUGK3ceYX56Np9vOcRve7fk/hvbE+Ln6egyRUTkMtU4sIwdO5ajR4/y5JNPkpubS1xcHEuXLrUNms3MzMRsrtnQmEcffZTi4mLuvvtuTp06xfXXX8/SpUvx9NQHilydzhHNeHNiIpsyT/KP5Rms23uc/6w/yMdpWdx+bRvuuaEtAd7uji5TREQuQVPzS5Py7d5jvLA8g82ZpwDw83Dlzr5tuaNvG3w9tE6RiEh90lpCIhdhGAZf7TrCC8sy2JVbCECgjzv33tCO8X1a4emmdYpEROqDAovIZbBYDBZty+GlFbv56VgxAKHNPJh8YwfGJETj7lqnT/2LiDR5CiwiNVBZZWHBpkO8nLqHQ6dOAxAd6MXDA2MY1TMSF7Om+xcRqQsKLCJXoKyyio++z+TVVfs4VlQGQIcQX6YMimFI1zCtUyQiUssUWESuQkl5Jf/59iBz1uwj/3QFAN0i/Zk6OIYbYoIVXEREaokCi0gtyD9dwVtrf+Ktb/ZTXF4FQGLr5jyS0pHebQIdXJ2ISMOnwCJSi44XlTF79T7++91ByiutS0v0iwlm2uAYukcFOLY4EZEGTIFFpA7k5pfyyld7+HhjFpUW66/NkC5hTBkcQ0yon4OrExFpeBRYROrQwePFvLxyD59tOYRhgMkEN8VF8nByDC1beDu6PBGRBkOBRaQe7M4r5MXlu1m6IxcAV7OJMYnRPHhjB8L8tayEiMilKLCI1KOt2aeYuXw3X+8+CoC7q5kJ17Ti3v7taOHr4eDqRESclwKLiAN8/9NxZi7PYOOBkwD4uLtwx/VtuLNfW5p5ujm4OhER56PAIuIghmGwZvdRZi7PYPuhAgD8vdz4ww1tuf3a1ni7a4FFEZGzFFhEHMwwDJZuz+UfK3az90gRAEG+HjwwoB23JbXEw1ULLIqIKLCIOIkqi8EXWw7x0srdZJ2wrlMUGeDFQwM78Jtekbi6aIFFEWm6FFhEnEx5pYV5aVm88tUe8gqs6xS1DfLhj4NiGN4tHLMWWBSRJkiBRcRJlVZU8d76g7y+ei8nS6zrFHUKb8bUQTEM7BSidYpEpElRYBFxckVllbz9zX7e+PonCssqAejZMoBHBsdybfsgB1cnIlI/FFhEGoiTxeX86+ufePfb/ZRWWNcpurZdC6alxNKrZXMHVyciUrcUWEQamCMFpby2ai8fbsikosr6K5ncKYSpg2PpFK6faRFpnBRYRBqorBMl/DN1D59uyubM+oqM6BHBH5M70DbY17HFiYjUMgUWkQZu39EiXlqxm4VbcwBwMZu4pVcUDyZ3IDLAy8HViYjUDgUWkUZix+F8Xly+m9RdRwBwdzHz26SW3DegHSF+WmBRRBo2BRaRRib94ElmLstg/U/HAfByc+H261rzh35tCfB2d3B1IiJXRoFFpJFat/cYLyzLYEvWKQD8PFy5u19bJl3fBl8PrVMkIg2LAotII2YYBit3HuEfyzPYlVsIQKCPO/f1b8fvrmmFp5vWKRKRhkGBRaQJsFgMFm7L4aUVu9l/rBiAsGaeTB7YnjEJ0bhpnSIRcXIKLCJNSGWVhU83ZfPyyj0czi8FoGWgN38c1IFf94jEResUiYiTUmARaYJKK6r4aEMmr63ay7GicgBiQn2ZMiiGlC5hWqdIRJyOAotIE1ZSXsk76w7wrzX7KCi1rlPUPcqfqYNj6dchSMFFRJyGAouIkH+6gje+/om31+2npLwKgN5tAnkkJZbE1oEOrk5ERIHF0eWIOJVjRWXMXr2P9747SHmldYHFG2KCmTY4lm5R/g6uTkSaMgUWETlHTv5p/pm6l3lpWVSdWahoaNcwpgyKoUOon4OrE5GmSIFFRC7owLFiZq3czRc/HMYwwGyCUT0jeXhgDC1beDu6PBFpQhRYROSSMnILeXFFBst25AHgajZxa+9oJt/YgdBmWqdIROqeAouIXLYfsk4xc3kGa/ccA8DD1cyEPq24t397An20TpGI1B0FFhGpse9+Os7MZRmkHTwJgI+7C3f0bcudfdvQzNPNwdWJSGOkwCIiV8QwDFbvPsrMZRnsOFwAQIC3G/fc0I6JfVrj5a51ikSk9iiwiMhVsVgMlu7I5R/LM9h31LpOUbCfBw8MaM+tvaPxcFVwEZGrp8AiIrWiymLw2eZDzFq5m+yTpwGIDPDioeQO/KZnJK5aYFFEroICi4jUqvJKCx9vzOSVr/ZypLAMgLbBPkwZFMOwruGYtcCiiFwBBRYRqROny6t477sDvL56H6dKKgDoFN6MR1JiGBAbonWKRKRGFFhEpE4Vllbw1jf7eXPtforKrAss9moZwLSUWK5tF+Tg6kSkoVBgEZF6cbK4nDlr9vGf9QcorbCuU3R9+yCmpcQSFx3g2OJExOkpsIhIvTpSUMqrq/by0YZMKqqs/6QM6hzK1MExdAzT76SInJ8Ci4g4RNaJEl5O3cOCTdlYDDCZYET3CP44KIY2QT6OLk9EnIwCi4g41N4jRby0YjeLtuUA4GI2MTo+igcHdiAiwMvB1YmIs1BgERGnsP1QPv9YnsGqjKMAuLuY+W1SS+4f0J5gPw8HVycijqbAIiJOJe3ACV5YlsH3+08A4OXmwqTrWvOHfu3w99Y6RSJNlQKLiDgdwzD4Zu8xZi7L4IfsfAD8PF35Q7+2TLquDT4erg6uUETqmwKLiDgtwzBY/mMeLy7fTUZeIQAtfNy5b0B7xiW1xNNN6xSJNBUKLCLi9KosBgu3HualFbs5cLwEgHB/Tx4c2IFb4qNw0zpFIo2eAouINBgVVRY+Sc/mn6l7yMkvBaBVC2/+mBzDiB4RuGidIpFGS4FFRBqc0ooqPvg+k9dX7eV4cTkAsaF+TBkcw+DOoVqnSKQRUmARkQaruKySd789wJw1+ygsta5T1CPKn0nXtWFI1zCNcRFpRBRYRKTByy+p4N9r9/HOugOUlFcB1qeKft0jgtEJ0fSI8tddF5EGToFFRBqNo4VlfPD9QT5Jzyb75Gnb/phQX8YkRDOqZyRBvpqETqQhUmARkUbHYjH47qfjzEvLYsn2XMoqratDu5pN3NgxhDEJ0fSPDcZVTxeJNBg1+fy+ot/s1157jdatW+Pp6UlSUhIbNmy4YNsFCxaQkJBAQEAAPj4+xMXF8d5779m1KSoq4oEHHiAqKgovLy86d+7MnDlzrqQ0EWmkzGYT17YPYtatPdnwp2T+dlNXekQHUGmxzuty53/TuGbGV8xYvJO9RwodXa6I1LIa32H5+OOPmTBhAnPmzCEpKYlZs2Yxf/58MjIyCAkJOaf96tWrOXnyJB07dsTd3Z2FCxcydepUFi1aREpKCgB33303X331FW+++SatW7dm+fLl3HfffSxYsIBf//rXl6xJd1hEmq7deYXMT8tiwaZDtqeLAHq2DGBMQjS/6h6On6em/xdxRnXaJZSUlERiYiKvvvoqABaLhejoaCZPnszjjz9+Wefo1asXw4cP59lnnwWga9eujB07lieeeMLWJj4+nqFDh/LXv/71kudTYBGRiioLX+06wvy0bFZlHKHKYv2nzdPNzLBu4YyOjyapTSBmzesi4jTqrEuovLyc9PR0kpOTq09gNpOcnMz69esv+XrDMEhNTSUjI4N+/frZ9l977bV8+eWXHDp0CMMwWLVqFbt372bw4MHnPU9ZWRkFBQV2m4g0bW4uZlK6hPHmxATWT7+R6UM70i7Yh9IKCws2HeK2N76j/8zVvJK6h8OnTl/6hCLiVGq02tixY8eoqqoiNDTUbn9oaCi7du264Ovy8/OJjIykrKwMFxcXXn/9dQYNGmQ7/sorr3D33XcTFRWFq6srZrOZN954wy7U/NyMGTN45plnalK6iDQhIX6e/OGGdtzdry2bs04xPy2L//2QQ+aJEv6xYjcvrtzN9e2DGJMQzaDOoZrbRaQBqJflUf38/NiyZQtFRUWkpqYyZcoU2rZtS//+/QFrYPnuu+/48ssvadWqFV9//TX3338/ERERdndzzpo+fTpTpkyxfV1QUEB0dHR9XIqINCAmk4leLZvTq2VznvhVZ5Zuz2VeWhbf/XSCtXuOsXbPMfy93BgZF8GYhGi6RDTT3C4iTqpGY1jKy8vx9vbmk08+YdSoUbb9EydO5NSpU3zxxReXdZ4777yTrKwsli1bxunTp/H39+ezzz5j+PDhdm2ys7NZunTpJc+nMSwiUhOZx0v4JD2LT9KzOXxm/SKAjmF+trldAn3cHVihSNNQZ2NY3N3diY+PJzU11bbPYrGQmppKnz59Lvs8FouFsrIyACoqKqioqMBsti/FxcUFi8VSk/JERC5LyxbeTBkcy9rHbuS9O3ozokcE7q5mduUW8peFP5L0fyu59/10Vu06QmWV/h0ScQY17hKaMmUKEydOJCEhgd69ezNr1iyKi4uZNGkSABMmTCAyMpIZM2YA1vEmCQkJtGvXjrKyMhYvXsx7773H7NmzAWjWrBk33HADjzzyCF5eXrRq1Yo1a9bw3//+lxdffLEWL1VExJ6L2UTfDsH07RBMfkkFX/5wiHlp2Ww7lM+S7bks2Z5LaDMPftMritHxUbQN9nV0ySJNVo0Dy9ixYzl69ChPPvkkubm5xMXFsXTpUttA3MzMTLu7JcXFxdx3331kZ2fj5eVFx44def/99xk7dqytzdy5c5k+fTrjxo3jxIkTtGrVir/97W/cc889tXCJIiKX5u/txvg+rRnfpzU7cwqYn5bNZ5uzySsoY/bqfcxevY/E1s0ZHR/NsO7h+HrUyxBAETlDU/OLiFxAeaWF1J15zEvLYs3uo5yZ2gVvdxeGdwtnTGI0Ca2aa6CuyBXSWkIiIrUsr6CUTzdlMz8tm/3Him372wT5cEt8FDf3iiLM39OBFYo0PAosIiJ1xDAM0g+eZF5aFgu35lBSXgWA2QT9YoIZkxDNwE4heLhqbheRS1FgERGpB8VllSzalsMnadlsOHDCtr+5txujekYyOj6azhH6N0nkQhRYRETq2U9Hi/gkPZtPN1kH6p7VNbIZYxKi+XWPCAK8NbeLyM8psIiIOEiVxeDrPUeZn5bFih/zqKiy/hPr7mJmcJdQxiREc137IFy0CKOIAouIiDM4UVzOF1usc7vszKlepDXc35Nb4qO4JT6KVi18HFihiGMpsIiIOJnth/KZn5bF51sOk3+6wrY/qU0gYxKiGdotDG93ze0iTYsCi4iIkyqtqGLlzjzmpWWzds9Rzv4L7Ovhyq+6hzM6IZpeLQM0t4s0CQosIiINwOFTp1mwKZt5adlkniix7W8X7MPohGh+0zOSkGaa20UaLwUWEZEGxGIx2HDgBPPTslm8LYfTFda5XVzMJgbEBjM6IZobO4bg5lKj9WpFnJ4Ci4hIA1VYWsGirTnMT88m/eBJ2/4WPu7c1DOS0QnRxIb5ObBCkdqjwCIi0gjsPVLE/PQsFmw6xNHC6rldekT5MzohmhE9IvD3cnNghSJXR4FFRKQRqayysGb3UealZZG68wiVZ1Zh9HA1M6RrGGMSounTtgVmze0iDYwCi4hII3WsqIzPNx9iXloWu/OKbPsjA7xsc7tEB3o7sEKRy6fAIiLSyBmGwdbsfOanZ/HFlsMUllbajl3XvgWj46MZ0jUMTzctwijOS4FFRKQJKa2oYtmOXOanZfPN3mO2/X6ervy6RwSjE6LpEeWvuV3E6SiwiIg0UVknSvh0UzafpGeTffK0bX9MqC9jEqIZ1TOSIF8PB1YoUk2BRUSkibNYDL776Tjz0rJYsj2XskoLAK5mEzd2DGFMQjT9Y4Nx1dwu4kAKLCIiYpN/uoKFWw8zLy2bH7JO2fYH+Xpwc69IRidE0T5Ec7tI/VNgERGR89qdV8j8NOvcLseLy237e7UMYHRCNL/qHo6fp+Z2kfqhwCIiIhdVUWVh1a4jzEvLZlXGEarOzO3i6WZmWLdwRsdHk9QmUHO7SJ1SYBERkct2pLCUzzZZ53bZd7TYtr9loDej46O4OT6KiAAvB1YojZUCi4iI1JhhGGzOOsX8tCz+90MORWXWuV1MJri+fRBjEqIZ1DlUc7tIrVFgERGRq1JSXsnS7bnMS8viu59O2Pb7e7kxMi6CMQnRdIloprld5KoosIiISK3JPF7CJ+lZfJKezeH8Utv+jmF+trldAn3cHVihNFQKLCIiUuuqLAbf7jvGvLRslu3IpfzM3C5uLiaSO4UyJiGavh2CNLeLXDYFFhERqVP5JRV8+cMh5qVls+1Qvm1/aDMPftMritHxUbQN9nVghdIQKLCIiEi92ZlTwPy0bD7bnM3Jkgrb/sTWzRmdEM3wbuH4eLg6sEJxVgosIiJS78orLaTuzGNeWhZrdh/lzNQueLu7MLxbOGMSo0lo1VwDdcVGgUVERBwqr6CUTzdlMz8tm/3Hqud2aRPkwy3xUdzcK4owf08HVijOQIFFREScgmEYpB88yby0LBZuzaGkvAoAswn6xQQzJiGagZ1C8HDV3C5NkQKLiIg4neKyShZvy2F+WjYbDlTP7dLc241RPSMZHR9N5wj9G96UKLCIiIhT23+s2Da3S15BmW1/18hmjEmI5tc9Igjw1twujZ0Ci4iINAhVFoOv9xxlfloWK37Mo6LK+pHk7mJmcBfr3C7XtQ/CRYswNkoKLCIi0uCcKC7niy3WuV125hTY9of7e3JLfBS3xEfRqoWPAyuU2qbAIiIiDdr2Q/nMT8vi8y2HyT9dPbdLUptAxiREM7RbGN7umtuloVNgERGRRqG0ooqVO/OYl5bN2j1HOfuJ5evhyq+6hzM6IZpeLQM0t0sDpcAiIiKNzuFTp1mwKZt5adlkniix7W8X7MPohGh+0yuSED/N7dKQKLCIiEijZbEYbDhwgvlp2SzelsPpCuvcLi5mEwNigxmdEM2NHUNw0yKMTk+BRUREmoTC0goWbc1hfno26QdP2va38HHnpp6RjE6IJjbMz4EVysUosIiISJOz90gR89OzWLDpEEcLq+d26RHlz+iEaEb0iMDfy82BFcovKbCIiEiTVVllYc3uo8xLyyJ15xEqz6zC6OFqZkjXMMYkRNOnbQvMmtvF4RRYREREgGNFZXy++RDz0rLYnVdk2x8Z4GWb2yU60NuBFTZtCiwiIiI/YxgGW7PzmZ+exRdbDlNYWmk7dl37FoyOj2ZI1zA83bQIY31SYBEREbmA0ooqlu3IZX5aNt/sPWbb7+fpyq97RDA6IZoeUf6a26UeKLCIiIhchqwTJXy6KZtP0rPJPnnatj8m1JcxCdGM6hlJkK+HAyts3BRYREREasBiMfjup+PMS8tiyfZcyiotALiaTdzYMYQxCdH0jw3GVXO71CoFFhERkSuUf7qChVsPMy8tmx+yTtn2B/t58JuekYxOiKJ9iOZ2qQ0KLCIiIrVgd14h89Osc7scLy637e/VMoDRCdH8qns4fp6a2+VKKbCIiIjUoooqC6t2HWFeWjarMo5QdWZuF083M8O6hTM6PpqkNoGa26WGFFhERETqyJHC0jNzu2Sz90j13C4tA70ZHR/FzfFRRAR4ObDChkOBRUREpI4ZhsHmrFPMT8vmfz8cpqjMOreLyQTXtw9iTEI0gzqHam6Xi1BgERERqUeny6tYsj2HeWlZfPfTCdt+fy83RsZFMCYhmi4RzTS3yy8osIiIiDhI5vESPknP4pP0bA7nl9r2dwzzs83tEujj7sAKnYcCi4iIiINVWQy+3XeMeWnZLNuRS/mZuV3cXEwkdwplTEI0fTsENem5XRRYREREnEh+SQVf/mAdqLvtUL5tf2gzD27uFcXohGjaBPk4sELHUGARERFxUjtzCpifls1nm7M5WVJh25/YujmjE6IZ3i0cHw9XB1ZYf2ry+X1F96Fee+01WrdujaenJ0lJSWzYsOGCbRcsWEBCQgIBAQH4+PgQFxfHe++9d067nTt38utf/xp/f398fHxITEwkMzPzSsoTERFxWp3Cm/HkiM58//+SmT2uFwNigzGbYOOBkzz6yVYS/7aSR+b/wMYDJ2gE9xRqTY3vsHz88cdMmDCBOXPmkJSUxKxZs5g/fz4ZGRmEhISc03716tWcPHmSjh074u7uzsKFC5k6dSqLFi0iJSUFgH379tG7d2/uuOMObrvtNpo1a8aOHTu45pprznvOX9IdFhERacjyCkr5dFM289Oy2X+s2La/TZAPt8RHcXOvKML8PR1YYd2o0y6hpKQkEhMTefXVVwGwWCxER0czefJkHn/88cs6R69evRg+fDjPPvssALfeeitubm7nvfNyORRYRESkMTAMg/SDJ5mXlsXCrTmUlFcBYDZBv5hgxiREM7BTCB6ujWNulzrrEiovLyc9PZ3k5OTqE5jNJCcns379+ku+3jAMUlNTycjIoF+/foA18CxatIiYmBhSUlIICQkhKSmJzz//vCaliYiINHgmk4mE1oH8/ZYebPxTMi/c0p3erQOxGLA64yj3fbCJa/4vlWf+t4MfDxc4utx6VaNRPceOHaOqqorQ0FC7/aGhoezateuCr8vPzycyMpKysjJcXFx4/fXXGTRoEABHjhyhqKiI5557jr/+9a88//zzLF26lN/85jesWrWKG2644ZzzlZWVUVZWZvu6oKBpvWkiItL4+Xi4MjohmtEJ0ew/Vmyb2yWvoIx31h3gnXUH6BrZjDEJ0fy6RwQB3o17bpd6GYbs5+fHli1bKCoqIjU1lSlTptC2bVv69++PxWJ9Ln3kyJH88Y9/BCAuLo5vv/2WOXPmnDewzJgxg2eeeaY+ShcREXG4NkE+PJLSkSmDYvl6z1E+Sctm+Y+5bD9UwPZDO/jrwp0M7mKd2+W69kG4NMJFGGsUWIKCgnBxcSEvL89uf15eHmFhYRd8ndlspn379oA1jOzcuZMZM2bQv39/goKCcHV1pXPnznav6dSpE9988815zzd9+nSmTJli+7qgoIDo6OiaXIqIiEiD42I2MSA2hAGxIZwoLueLLda5XXbmFLBwaw4Lt+YQ7u/JLfFR3BIfRasWjWdulxqNYXF3dyc+Pp7U1FTbPovFQmpqKn369Lns81gsFluXjru7O4mJiWRkZNi12b17N61atTrv6z08PGjWrJndJiIi0pQE+rgz6bo2LHmoLwsnX8/EPq3w93IjJ7+UV77ayw0vrGbsv9bzaXo2JeWVji73qtW4S2jKlClMnDiRhIQEevfuzaxZsyguLmbSpEkATJgwgcjISGbMmAFYu28SEhJo164dZWVlLF68mPfee4/Zs2fbzvnII48wduxY+vXrx4ABA1i6dCn/+9//WL16de1cpYiISCPWNdKfrpH+TB/WiZU785iXls3aPUf5fv8Jvt9/gqe+3MGvuoczOiGaXi0DGuQijDUOLGPHjuXo0aM8+eST5ObmEhcXx9KlS20DcTMzMzGbq2/cFBcXc99995GdnY2XlxcdO3bk/fffZ+zYsbY2N910E3PmzGHGjBk8+OCDxMbG8umnn3L99dfXwiWKiIg0DZ5uLvyqewS/6h7B4VOnWbApm3lp2WSeKGHuxizmbsyiXbAPYxKiualXJCF+DWduF03NLyIi0ohZLAYbDpxgflo2i7flcLrCOreLdTxMMKMTormxYwhuDliEUWsJiYiIyDkKSytYtDWH+enZpB88advfwsedm3pGMjohmtgwv3qrR4FFRERELmrvkSLmp2exYNMhjhZWz23WI8qf0QnRjOgRgb+XW53WoMAiIiIil6WyysKa3UeZl5ZF6s4jVFqsscDD1cyQrmGMSYimT9sWmOtgbhcFFhEREamxY0VlfL75EPPTssnIK7Ttjwzw4pb4KH5/fZtaveuiwCIiIiJXzDAMth3KZ15aFl9sOUxhaSXe7i5s+FMyvh61N0l+TT6/62VqfhEREWk4TCYT3aMC6B4VwJ+Hd2bZjlyOFpbValipKQUWERERuSBPNxdGxkU6uoyaTc0vIiIi4ggKLCIiIuL0FFhERETE6SmwiIiIiNNTYBERERGnp8AiIiIiTk+BRURERJyeAouIiIg4PQUWERERcXoKLJdy4ieoqnR0FSIiIk2apua/GIsF/tUfLBUQ0QuiEyEqEaJ6g2+wo6sTERFpMhRYLqbwsPW/FSVw8Bvrdlbz1tXhJSoBwrqBS+0tuS0iIiLVTIZhGI4u4mrVZHnqGrNY4PgeyNoA2RsgOw2O7AR+8dfm6gURPa3hJbq3Ncz4hdVuLSIiIo1ITT6/FViuRGk+HEq3hpesDZC9EUpPndvOv6V9N1JYN3B1r/v6REREGgAFlvpmGHB8b3V4yd4IR34Ew2LfzsUDIuLOBJhE652YZhH1X6+IiIgTUGBxBmWFcGhTdTdS1gY4feLcds0iq8NLVCKE9wBXj/qvV0REpJ4psDgjw7A+Ip29sfpOTN4OMKrs27m4W0PL2bswUYngHwUmk2PqFhERqSMKLA1FWREc3lzdjZS1AUqOndvOL9y+Gyk8Dtw8671cERGR2qTA0lAZBpw8YB9gcredexfG7GYdwHu2GykqEQJa6i6MiIg0KAosjUl5CeRssR/QW5R3bjvfUPtupIie4O5d7+WKiIhcLgWWxsww4FTmL+7CbAXLL5YPMLtCaFf7Ab3NW+sujIiIOA0Flqam4jTk/GA/oLcw59x2PsFn7sAkWOeFiewF7j71X6+IiAgKLI4ux/EMAwoO2Xcj5fwAVeX27UwuENr5zPICZ+7EBLbVXRgREakXCixyrsoyyNlqnRcm68zcMAXZ57bzCjwTXhKr78J4+NV/vSIi0ugpsMjlKThs3410eAtUldm3MZkhpHN1N1J0b2jRXndhRETkqimwyJWpLLc+Rp19JsBkbYT8zHPbeQb8bDBvAkTGg6d/vZcrIiINmwKL1J7C3J/dhUmDw5ugsvQXjUwQ3NF+ocegGDCbHVKyiIg0DAosUneqKs7chUmrvhNz8sC57Tz8ISr+TDdSovUujFfzei9XRESclwKL1K+iIz+bF2aj9S5MRcm57YJi7Qf0BseC2aX+6xUREaegwCKOVVUJR3ZUdyNlb7Au/PhL7n7Vd2HOzg/jHVj/9YqIiEMosIjzKT5m3410aBOUF53brkX76m6kqETrE0q6CyMi0igpsIjzs1TBkR+ru5GyN8LxPee2c/e1rosU3bv6ToxPi/qvV0REap0CizRMJSfO3IXZeOZOTDqUF57bLrDtmfCSYA0yIV3AxbX+6xURkauiwCKNg6UKjmbYzwtzLOPcdm7eENHL/rFq3+D6r1dERGpEgUUar9Mn4VD6mW6kM3dhyvLPbRfQ6mfdSAkQ1g1c3Oq/XhERuSAFFmk6LBY4tru6GylrIxzdBfzix9rVyzoW5mw3UlQi+IU5pGQREbFSYJGmrTTfehcmO616naTSU+e2829p340U1g1c3eu9XBGRpkqBReTnLBY4se9MeDkzN8yRH8Gw2Ldz8YCIuDMB5sxaSc0iHFKyiEhToMAicillhda5YM52I2VvhNMnzm3XLPJnCz0mQngPcPWo/3pFRBohBRaRmjIM62y8toUeN0DejvPchXG3hpazd2GiEsE/Ckwmx9QtItKAKbCI1IayIji8ubobKWsDlBw7t51fuH03UngPcPOq/3pFRBoYBRaRumAY1pWpbXdhNlpXrjaq7NuZ3awDeM92I0UlQkBL3YUREfkFBRaR+lJeAjlbqgNM1gYoPnJuO99Q+26kiJ7g7l3v5YqIOBMFFhFHMQw4lXlmXpgzASZ3K1gq7duZXSG0q/2A3uatdRdGRJoUBRYRZ1JxGnJ+qL4Lk70RCnPObecTfOYOTIJ1XpjIXuDuU//1iojUEwUWEWdmGFBwyD7A5PwAVeX27UwuENq5epXq6N7WhR91F0ZEGgkFFpGGpqLU2nVkG9CbBgXZ57bzCjwTXhKr78J4+NV/vSIitUCBRaQxKDhsfxfm8BaoKrNvYzJDSOfqbqTo3hDYDsxmh5QsIlITCiwijVFlufUx6uyzTyRthPzMc9t5BvxsXphEiIwHT/96L1dE5FIUWESaisJc+3lhDm+GytJfNDJBcEf7hR6DYnQXRkQcToFFpKmqqjhzFybtzDpJG+DUwXPbefhDVPyZbqQzd2G8mtd/vSLSpNXk8/uK/hfrtddeo3Xr1nh6epKUlMSGDRsu2HbBggUkJCQQEBCAj48PcXFxvPfeexdsf88992AymZg1a9aVlCbStLm4WQfiJt0NN78JD2+FaXvg1g/h+j9Cq+vBzRvK8mHfV7DmOXj/Zni+NbzaGz6/H9LfhbwfwVJ1qe8mIlJvXGv6go8//pgpU6YwZ84ckpKSmDVrFikpKWRkZBASEnJO+8DAQP70pz/RsWNH3N3dWbhwIZMmTSIkJISUlBS7tp999hnfffcdERERV35FImLPNwQ6DrduAFWVcGSH/YDeEz/BsQzrtuV9azt3v+q7MGfnh/EOdNx1iEiTVuMuoaSkJBITE3n11VcBsFgsREdHM3nyZB5//PHLOkevXr0YPnw4zz77rG3foUOHSEpKYtmyZQwfPpyHH36Yhx9++LLOpy4hkatUfMy+G+nQJqgoPrddi/bV3UhRidYnlMwu9V+viDQKNfn8rtEdlvLyctLT05k+fbptn9lsJjk5mfXr11/y9YZh8NVXX5GRkcHzzz9v22+xWBg/fjyPPPIIXbp0ueR5ysrKKCurfryzoKCgJpchIr/kEwSxQ6wbWLuDjvxY/TRS9gY4vrd6++FDazt3X+u6SNG9z9yJSbCeS0SkltUosBw7doyqqipCQ0Pt9oeGhrJr164Lvi4/P5/IyEjKyspwcXHh9ddfZ9CgQbbjzz//PK6urjz44IOXVceMGTN45plnalK6iNSE2cW64nRYN0j4vXVfyYnquzDZGyE7HcoL4cBa63ZWYNufPVbdG0K6gEuNe59FROzUy78ifn5+bNmyhaKiIlJTU5kyZQpt27alf//+pKen8/LLL7Np0yZMlznl+PTp05kyZYrt64KCAqKjo+uqfBEB6/iVmMHWDax3YY5mnOlGOjMW5liGdTzMiZ9g68fWdm7eENHL/rFq32DHXYeINEg1CixBQUG4uLiQl5dntz8vL4+wsLALvs5sNtO+fXsA4uLi2LlzJzNmzKB///6sXbuWI0eO0LJlS1v7qqoqpk6dyqxZszhw4MA55/Pw8MDDw6MmpYtIbTOfWesotDPE327dd/qk9c5L9plupOx06xNJB7+xbmcFtLLvRgrrZn3CSUTkAmoUWNzd3YmPjyc1NZVRo0YB1vEnqampPPDAA5d9HovFYhuDMn78eJKTk+2Op6SkMH78eCZNmlST8kTE0byaQ4dk6wZgscCx3faz8x7dZZ0b5tRB2Dbf2s7VyzoWJirhTJBJBL8L/0+QiDQ9Ne4SmjJlChMnTiQhIYHevXsza9YsiouLbeFiwoQJREZGMmPGDMA63iQhIYF27dpRVlbG4sWLee+995g9ezYALVq0oEWLFnbfw83NjbCwMGJjY6/2+kTEkcxmCOlo3XpNsO4rzYdD6dXdSNkbofQUZH5r3c7yb1ndjRTdG8Lj9ESSSBNW48AyduxYjh49ypNPPklubi5xcXEsXbrUNhA3MzMT88+m/C4uLua+++4jOzsbLy8vOnbsyPvvv8/YsWNr7ypEpOHw9Id2N1o3sN6FOb73Z91IadYnlPIzrdv2T63tvIMgZgjEDoV2A8Ddx3HXICL1TlPzi4jzKSu03oU5242U+Z11LMxZrp7Qtr81vMQMBb/QC55KRJyX1hISkcalqgIy18OuxZCxCE79YpXqyAToOAxih1kXerzMJw5FxLEUWESk8TIMa5dRxmLIWGK9E/NzzdtYg0vsUGjZR3PAiDgxBRYRaToKcmD3UmuA+WkNVFXPgo1nAMSkWANM+4Hg4eewMkXkXAosItI0lRVZV6HOWGINMadPVB9zcYfWfa1dRzFDwT/ScXWKCKDA4uhyRMQZVFVanzrKWGwd+3Jin/3x8DjrnZeOwyC0q8a9iDiAAouIyM8ZBhzbYx2wm7HEuiI1P/unz7+ldcxL7FBodR24ujusVJGmRIFFRORiio6eGfeyxNqFVHm6+piHv3Wm3thh0D4ZvAIcVqZIY6fAIiJyucpLYP8a2LXIGmKKj1YfM7ta77icfeqoeSvH1SnSCCmwiIhcCYvF+pj02a6jo7vsj4d2rQ4vET017kXkKimwiIjUhuP7rMElY7F14jrDUn3ML/zMuJdh0KYfuGoFeZGaUmAREaltJSdgz3Jr19HeVKgorj7m7mtdG6njcOgwGLwDHVenSAOiwCIiUpcqSuHA2urZdgtzqo+ZXKwz7J596qhFO8fVKeLkFFhEROqLxQI5W6q7jvK22x8P7ngmvAyHyHj42Wr2Ik2dAouIiKOcPFgdXg6uA0tl9TGfEIgdYh330rY/uHk5rEwRZ6DAIiLiDE6fgr0rreFlzwooK6g+5uplHfcSOxRihoBvsMPKFHEUBRYREWdTWW6943J23Et+1s8OmiC695lHpodBcIzDyhSpTwosIiLOzDAgd9uZrqNFkPOD/fEW7asfmY5OArOLY+oUqWMKLCIiDUn+Idi9xLpI4/6vwVJRfcwr0Npl1HEYtB0AHr6Oq1OklimwiIg0VKUFsC/Vevdl9zIoPVV9zMXDOlj37CPTfmGOqlKkViiwiIg0BlWV1hl2z3YdnTxgfzwyvvqR6ZBOWipAGhwFFhGRxsYwrGsb7TqzztGhNPvjAa2sY146DrNOXOfi5pg6RWpAgUVEpLErzLWuLp2xBH5aDZWl1cc8A6xLBMQOhfbJ4Kl/F8U5KbCIiDQl5cWwb5X1kendS6HkePUxsxu06Vu9yrR/lOPqFPkFBRYRkabKUgXZG6u7jo7vsT8e1t26SGPsUOufNe5FHEiBRURErI7tsd552bUYsr4HfvZPfrOo6ieOWvcFV3eHlSlNkwKLiIicq/iY9VHpjMWw7yuoKKk+5u4HHZKtTxx1SAav5o6rU5oMBRYREbm4itPw05rqcS9FedXHzK7Q6trqcS/NWzusTGncFFhEROTyWSxweFN119HRnfbHQ7pYg0vHYRDeE8xmx9QpjY4Ci4iIXLkTP52ZrG4JHPwWjKrqY75hEDvE2nXUph+4eTquTmnwFFhERKR2lJyAPSusM+3uTYXyoupjbj7Q/kZr11GHFPBp4bg6pUFSYBERkdpXWQYH1lq7jTKWQOHh6mMmM0Rfc6braDi0aOe4OqXBUGAREZG6ZRiQs+VM19FiyN1mfzwo5syg3WEQlQBmF4eUKc5NgUVEROrXqUzIWGrtOjrwDVgqq4/5BENMinXcS9v+4O7tsDLFuSiwiIiI45Tmnxn3ssT637L86mOuntB2gPWJo5gh4BviuDrF4RRYRETEOVRVwMF11vCyazHkZ/7soAmiEqvHvQTFaKmAJkaBRUREnI9hQN4O65iXjMVweLP98cC21eNeopPAxdUxdUq9UWARERHnV3C4er6X/Wugqrz6mFfgmXEvQ6HdQPDwdVydUmcUWEREpGEpK7Sub7RrMexZBqdPVh9zcYc2N5xZqHEYNAt3XJ1SqxRYRESk4aqqtK4snbEYdi2Ck/vtj0f0tD5xFDsUQrto3EsDpsAiIiKNg2HA0Ywz416WQPZG4GcfWwEtqxdpbHUduLg5rFSpOQUWERFpnArzrF1GuxbDT6ugsrT6mIc/dBhkfWS6fTJ4+juuTrksCiwiItL4lZdYQ0vGYuukdSXHqo+ZXaH19dVdRwHRjqtTLkiBRUREmhZLFWSnVT8yfWy3/fGwbtWPTIf30LgXJ6HAIiIiTduxvdXjXrK+A8NSfaxZpHWW3Y7DoHVfcPVwXJ1NnAKLiIjIWcXHYM9ya4DZ+xVUFFcfc/eD9gOtd146DALvQMfV2QQpsIiIiJxPRSns/9q6SGPGUijKrT5mcoFW11Y/dRTYxnF1NhEKLCIiIpdisViXBzjbdXRkh/3x4E7WbqPYYRDRC8xmx9TZiCmwiIiI1NSJ/bB7qXWyuoPfglFVfcw39My4l+HQph+4eTmuzkZEgUVERORqnD4Je1Zau472rITywupjbt7Q7kbrnZeYFPAJclydDZwCi4iISG2pLIcDa6sXaizIrj5mMltXlo4dap3zJai94+psgBRYRERE6oJhQO5W60y7GYutf/65Fh2s4aXjcIhKBLOLY+psIBRYRERE6sOpLOu4l4zFsH8tWCqqj3kHWce9xA6FdgPA3cdxdTopBRYREZH6VpoPe1Ot3UZ7llm/PsvVE9r2t4aXmKHgF+qwMp2JAouIiIgjVVVA5vozXUeL4FSm/fHIhOpHpoM7NtmlAhRYREREnIVhwJEfq+d7OZRuf7x5m+rJ6lr2ARdXx9TpAAosIiIizqogp3rcy09roKqs+phngPVR6dhh1iUDPPwcVmZ9UGARERFpCMqKYN9X1jsvu5fC6RPVx1zcrYszdhxmHffiH+m4OuuIAouIiEhDU1UJ2Rusd152LYYT++yPh8dZ77x0HAahXRvFuJeafH5f0cIIr732Gq1bt8bT05OkpCQ2bNhwwbYLFiwgISGBgIAAfHx8iIuL47333rMdr6io4LHHHqNbt274+PgQERHBhAkTOHz48JWUJiIi0jC5uFoXXxz8V5icDvdvhOSnrRPTYYKcLbD6/2DO9TCrOyx+FPatsk5s1wTU+A7Lxx9/zIQJE5gzZw5JSUnMmjWL+fPnk5GRQUhIyDntV69ezcmTJ+nYsSPu7u4sXLiQqVOnsmjRIlJSUsjPz+eWW27hrrvuokePHpw8eZKHHnqIqqoq0tLSLqsm3WEREZFGregI7F5m7Tra9xVUnq4+5uEPHZLPjHtJBq8Ah5VZU3XaJZSUlERiYiKvvvoqABaLhejoaCZPnszjjz9+Wefo1asXw4cP59lnnz3v8Y0bN9K7d28OHjxIy5YtL3k+BRYREWkyyktg/xrrIo27l0Lx0epjZldodV31U0fNWzmuzstQk8/vGj07VV5eTnp6OtOnT7ftM5vNJCcns379+ku+3jAMvvrqKzIyMnj++ecv2C4/Px+TyURAQMB5j5eVlVFWVj2quqCg4PIvQkREpCFz9z6zdtFQsFisj0lnLLLefTm6yxpm9q+BpY9Zx7qcDS8RPRv0uJcaBZZjx45RVVVFaKj9DH2hoaHs2rXrgq/Lz88nMjKSsrIyXFxceP311xk0aNB525aWlvLYY49x2223XTBtzZgxg2eeeaYmpYuIiDQ+ZjNEJ1q35Kfh+L4zizQutk5cl7fdun39d/ALr16ksU1fcPVwdPU1Ui+z0/j5+bFlyxaKiopITU1lypQptG3blv79+9u1q6ioYMyYMRiGwezZsy94vunTpzNlyhTb1wUFBURHR9dV+SIiIg1Di3Zw7QPWreTEmXEvi61LBhTmQNrb1s3dF9rdaF2kscNg8A50dOWXVKPAEhQUhIuLC3l5eXb78/LyCAsLu+DrzGYz7dtbl9yOi4tj586dzJgxwy6wnA0rBw8e5KuvvrpoX5aHhwceHg0rGYqIiNQr70CIu826VZTCgbXVs+0W5sDOL62bycU6w+7ZbqYW7Rxd+XnV6LFmd3d34uPjSU1Nte2zWCykpqbSp0+fyz6PxWKxG4NyNqzs2bOHlStX0qJFi5qUJSIiIhfj5gkdBsGvXoI//gh3rYJ+j1rHuBhVcPAbWP4neKUXvJYEK5+GrI3WMTJOosZdQlOmTGHixIkkJCTQu3dvZs2aRXFxMZMmTQJgwoQJREZGMmPGDMA63iQhIYF27dpRVlbG4sWLee+992xdPhUVFdxyyy1s2rSJhQsXUlVVRW5uLgCBgYG4u7vX1rWKiIiI2QyRvazbjX+Ckwerx70cXGcduHt0F3zzEviEQOwQ68Ddtv3BzcthZdc4sIwdO5ajR4/y5JNPkpubS1xcHEuXLrUNxM3MzMRsrr5xU1xczH333Ud2djZeXl507NiR999/n7FjxwJw6NAhvvzyS8DaXfRzq1atOmeci4iIiNSi5q3gmnus2+mT1vEuuxbB3pVQfAQ2/de6uXrBQz+AX+ilz1kHNDW/iIiInKuy3HrH5ey4FzdveODCM9tfCa0lJCIiIrXHMKD4GPgG1+pp63wtIREREWlCTKZaDys1pcAiIiIiTk+BRURERJyeAouIiIg4PQUWERERcXoKLCIiIuL0FFhERETE6SmwiIiIiNNTYBERERGnp8AiIiIiTk+BRURERJyeAouIiIg4PQUWERERcXoKLCIiIuL0XB1dQG0wDAOwLlMtIiIiDcPZz+2zn+MX0ygCS2FhIQDR0dEOrkRERERqqrCwEH9//4u2MRmXE2ucnMVi4fDhw/j5+WEymWr13AUFBURHR5OVlUWzZs1q9dzOoLFfHzT+a9T1NXyN/Rob+/VB47/Guro+wzAoLCwkIiICs/nio1QaxR0Ws9lMVFRUnX6PZs2aNcofwrMa+/VB479GXV/D19ivsbFfHzT+a6yL67vUnZWzNOhWREREnJ4Ci4iIiDg9BZZL8PDw4KmnnsLDw8PRpdSJxn590PivUdfX8DX2a2zs1weN/xqd4foaxaBbERERadx0h0VEREScngKLiIiIOD0FFhEREXF6CiwiIiLi9JpkYHnttddo3bo1np6eJCUlsWHDhou2nz9/Ph07dsTT05Nu3bqxePFiu+OGYfDkk08SHh6Ol5cXycnJ7Nmzpy4v4aJqcn1vvPEGffv2pXnz5jRv3pzk5ORz2t9+++2YTCa7bciQIXV9GRdUk+t79913z6nd09PTro2zvX9Qs2vs37//OddoMpkYPny4rY0zvYdff/01I0aMICIiApPJxOeff37J16xevZpevXrh4eFB+/bteffdd89pU9Pf67pS0+tbsGABgwYNIjg4mGbNmtGnTx+WLVtm1+bpp58+5/3r2LFjHV7FhdX0+lavXn3en8/c3Fy7ds7y/kHNr/F8v18mk4kuXbrY2jjTezhjxgwSExPx8/MjJCSEUaNGkZGRccnXOfqzsMkFlo8//pgpU6bw1FNPsWnTJnr06EFKSgpHjhw5b/tvv/2W2267jTvuuIPNmzczatQoRo0axfbt221t/v73v/PPf/6TOXPm8P333+Pj40NKSgqlpaX1dVk2Nb2+1atXc9ttt7Fq1SrWr19PdHQ0gwcP5tChQ3bthgwZQk5Ojm376KOP6uNyzlHT6wPrzIw/r/3gwYN2x53p/YOaX+OCBQvsrm/79u24uLgwevRou3bO8h4WFxfTo0cPXnvttctqv3//foYPH86AAQPYsmULDz/8MHfeeafdh/qV/FzUlZpe39dff82gQYNYvHgx6enpDBgwgBEjRrB582a7dl26dLF7/7755pu6KP+Sanp9Z2VkZNjVHxISYjvmTO8f1PwaX375Zbtry8rKIjAw8JzfQWd5D9esWcP999/Pd999x4oVK6ioqGDw4MEUFxdf8DVO8VloNDG9e/c27r//ftvXVVVVRkREhDFjxozzth8zZowxfPhwu31JSUnGH/7wB8MwDMNisRhhYWHGCy+8YDt+6tQpw8PDw/joo4/q4AourqbX90uVlZWGn5+f8Z///Me2b+LEicbIkSNru9QrUtPre+eddwx/f/8Lns/Z3j/DuPr38KWXXjL8/PyMoqIi2z5neg9/DjA+++yzi7Z59NFHjS5dutjtGzt2rJGSkmL7+mr/zurK5Vzf+XTu3Nl45plnbF8/9dRTRo8ePWqvsFpyOde3atUqAzBOnjx5wTbO+v4ZxpW9h5999plhMpmMAwcO2PY563toGIZx5MgRAzDWrFlzwTbO8FnYpO6wlJeXk56eTnJysm2f2WwmOTmZ9evXn/c169evt2sPkJKSYmu/f/9+cnNz7dr4+/uTlJR0wXPWlSu5vl8qKSmhoqKCwMBAu/2rV68mJCSE2NhY7r33Xo4fP16rtV+OK72+oqIiWrVqRXR0NCNHjmTHjh22Y870/kHtvIdvvfUWt956Kz4+Pnb7neE9vBKX+h2sjb8zZ2KxWCgsLDznd3DPnj1ERETQtm1bxo0bR2ZmpoMqvDJxcXGEh4czaNAg1q1bZ9vf2N4/sP4OJicn06pVK7v9zvoe5ufnA5zzM/dzzvBZ2KQCy7Fjx6iqqiI0NNRuf2ho6Dn9qWfl5uZetP3Z/9bknHXlSq7vlx577DEiIiLsfuiGDBnCf//7X1JTU3n++edZs2YNQ4cOpaqqqlbrv5Qrub7Y2FjefvttvvjiC95//30sFgvXXnst2dnZgHO9f3D17+GGDRvYvn07d955p91+Z3kPr8SFfgcLCgo4ffp0rfzcO5OZM2dSVFTEmDFjbPuSkpJ49913Wbp0KbNnz2b//v307duXwsJCB1Z6ecLDw5kzZw6ffvopn376KdHR0fTv359NmzYBtfPvljM5fPgwS5YsOed30FnfQ4vFwsMPP8x1111H165dL9jOGT4LG8VqzVI7nnvuOebOncvq1avtBqbeeuuttj9369aN7t27065dO1avXs3AgQMdUepl69OnD3369LF9fe2119KpUyf+9a9/8eyzzzqwsrrx1ltv0a1bN3r37m23vyG/h03Jhx9+yDPPPMMXX3xhN8Zj6NChtj93796dpKQkWrVqxbx587jjjjscUepli42NJTY21vb1tddey759+3jppZd47733HFhZ3fjPf/5DQEAAo0aNstvvrO/h/fffz/bt2x02nqYmmtQdlqCgIFxcXMjLy7Pbn5eXR1hY2HlfExYWdtH2Z/9bk3PWlSu5vrNmzpzJc889x/Lly+nevftF27Zt25agoCD27t171TXXxNVc31lubm707NnTVrszvX9wdddYXFzM3LlzL+sfP0e9h1fiQr+DzZo1w8vLq1Z+LpzB3LlzufPOO5k3b945t95/KSAggJiYmAbx/p1P7969bbU3lvcPrE/JvP3224wfPx53d/eLtnWG9/CBBx5g4cKFrFq1iqioqIu2dYbPwiYVWNzd3YmPjyc1NdW2z2KxkJqaavd/4T/Xp08fu/YAK1assLVv06YNYWFhdm0KCgr4/vvvL3jOunIl1wfWkd3PPvssS5cuJSEh4ZLfJzs7m+PHjxMeHl4rdV+uK72+n6uqqmLbtm222p3p/YOru8b58+dTVlbG7373u0t+H0e9h1fiUr+DtfFz4WgfffQRkyZN4qOPPrJ7HP1CioqK2LdvX4N4/85ny5Ytttobw/t31po1a9i7d+9l/U+DI99DwzB44IEH+Oyzz/jqq69o06bNJV/jFJ+FtTJ0twGZO3eu4eHhYbz77rvGjz/+aNx9991GQECAkZubaxiGYYwfP954/PHHbe3XrVtnuLq6GjNnzjR27txpPPXUU4abm5uxbds2W5vnnnvOCAgIML744gtj69atxsiRI402bdoYp0+fdvrre+655wx3d3fjk08+MXJycmxbYWGhYRiGUVhYaEybNs1Yv369sX//fmPlypVGr169jA4dOhilpaVOf33PPPOMsWzZMmPfvn1Genq6ceuttxqenp7Gjh07bG2c6f0zjJpf41nXX3+9MXbs2HP2O9t7WFhYaGzevNnYvHmzARgvvviisXnzZuPgwYOGYRjG448/bowfP97W/qeffjK8vb2NRx55xNi5c6fx2muvGS4uLsbSpUttbS71d+bM1/fBBx8Yrq6uxmuvvWb3O3jq1Clbm6lTpxqrV6829u/fb6xbt85ITk42goKCjCNHjjj99b300kvG559/buzZs8fYtm2b8dBDDxlms9lYuXKlrY0zvX+GUfNrPOt3v/udkZSUdN5zOtN7eO+99xr+/v7G6tWr7X7mSkpKbG2c8bOwyQUWwzCMV155xWjZsqXh7u5u9O7d2/juu+9sx2644QZj4sSJdu3nzZtnxMTEGO7u7kaXLl2MRYsW2R23WCzGE088YYSGhhoeHh7GwIEDjYyMjPq4lPOqyfW1atXKAM7ZnnrqKcMwDKOkpMQYPHiwERwcbLi5uRmtWrUy7rrrLof9Q2IYNbu+hx9+2NY2NDTUGDZsmLFp0ya78znb+2cYNf8Z3bVrlwEYy5cvP+dczvYenn3M9Zfb2WuaOHGiccMNN5zzmri4OMPd3d1o27at8c4775xz3ov9ndWnml7fDTfccNH2hmF9jDs8PNxwd3c3IiMjjbFjxxp79+6t3ws7o6bX9/zzzxvt2rUzPD09jcDAQKN///7GV199dc55neX9M4wr+xk9deqU4eXlZfz73/8+7zmd6T0837UBdr9XzvhZaDpTvIiIiIjTalJjWERERKRhUmARERERp6fAIiIiIk5PgUVEREScngKLiIiIOD0FFhEREXF6CiwiIiLi9BRYRKTRMJlMfP75544uQ0TqgAKLiNSK22+/HZPJdM42ZMgQR5cmIo2Aq6MLEJHGY8iQIbzzzjt2+zw8PBxUjYg0JrrDIiK1xsPDg7CwMLutefPmgLW7Zvbs2QwdOhQvLy/atm3LJ598Yvf6bdu2ceONN+Ll5UWLFi24++67KSoqsmvz9ttv06VLFzw8PAgPD+eBBx6wO37s2DFuuukmvL296dChA19++aXt2MmTJxk3bhzBwcF4eXnRoUOHcwKWiDgnBRYRqTdPPPEEN998Mz/88APjxo3j1ltvZefOnQAUFxeTkpJC8+bN2bhxI/Pnz2flypV2gWT27Nncf//93H333Wzbto0vv/yS9u3b232PZ555hjFjxrB161aGDRvGuHHjOHHihO37//jjjyxZsoSdO3cye/ZsgoKC6u8vQESuXK0toygiTdrEiRMNFxcXw8fHx27729/+ZhiGdYXYe+65x+41SUlJxr333msYhmH8+9//Npo3b24UFRXZji9atMgwm822laUjIiKMP/3pTxesATD+/Oc/274uKioyAGPJkiWGYRjGiBEjjEmTJtXOBYtIvdIYFhGpNQMGDGD27Nl2+wIDA21/7tOnj92xPn36sGXLFgB27txJjx498PHxsR2/7rrrsFgsZGRkYDKZOHz4MAMHDrxoDd27d7f92cfHh2bNmnHkyBEA7r33Xm6++WY2bdrE4MGDGTVqFNdee+0VXauI1C8FFhGpNT4+Pud00dQWLy+vy2rn5uZm97XJZMJisQAwdOhQDh48yOLFi1mxYgUDBw7k/vvvZ+bMmbVer4jULo1hEZF68913353zdadOnQDo1KkTP/zwA8XFxbbj69atw2w2Exsbi5+fH61btyY1NfWqaggODmbixIm8//77zJo1i3//+99XdT4RqR+6wyIitaasrIzc3Fy7fa6urraBrfPnzychIYHrr7+eDz74gA0bNvDWW28BMG7cOJ566ikmTpzI008/zdGjR5k8eTLjx48nNDQUgKeffpp77rmHkJAQhg4dSmFhIevWrWPy5MmXVd+TTz5JfHw8Xbp0oaysjIULF9oCk4g4NwUWEak1S5cuJTw83G5fbGwsu3btAqxP8MydO5f77ruP8PBwPvroIzp37gyAt7c3y5Yt46GHHiIxMRFvb29uvvlmXnzxRdu5Jk6cSGlpKS+99BLTpk0jKCiIW2655bLrc3d3Z/r06Rw4cAAvLy/69u3L3Llza+HKRaSumQzDMBxdhIg0fiaTic8++4xRo0Y5uhQRaYA0hkVEREScngKLiIiIOD2NYRGReqHeZxG5GrrDIiIiIk5PgUVEREScngKLiIiIOD0FFhEREXF6CiwiIiLi9BRYRERExOkpsIiIiIjTU2ARERERp6fAIiIiIk7v/wOGBIutWv6koAAAAABJRU5ErkJggg==\n"
          },
          "metadata": {}
        },
        {
          "output_type": "display_data",
          "data": {
            "text/plain": [
              "<Figure size 640x480 with 1 Axes>"
            ],
            "image/png": "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\n"
          },
          "metadata": {}
        }
      ]
    },
    {
      "cell_type": "code",
      "source": [
        "history = model.fit(\n",
        "    ds_train,\n",
        "    epochs=5,\n",
        "    validation_data=ds_test,\n",
        ")"
      ],
      "metadata": {
        "colab": {
          "base_uri": "https://localhost:8080/"
        },
        "id": "hPZSBZERvk8q",
        "outputId": "2f65a8ab-3bb7-4944-c098-6b64e013ffbb"
      },
      "execution_count": null,
      "outputs": [
        {
          "output_type": "stream",
          "name": "stdout",
          "text": [
            "Epoch 1/5\n",
            "\u001b[1m782/782\u001b[0m \u001b[32m━━━━━━━━━━━━━━━━━━━━\u001b[0m\u001b[37m\u001b[0m \u001b[1m133s\u001b[0m 166ms/step - accuracy: 0.8846 - loss: 0.3405 - val_accuracy: 0.9032 - val_loss: 0.3093\n",
            "Epoch 2/5\n",
            "\u001b[1m782/782\u001b[0m \u001b[32m━━━━━━━━━━━━━━━━━━━━\u001b[0m\u001b[37m\u001b[0m \u001b[1m129s\u001b[0m 163ms/step - accuracy: 0.8957 - loss: 0.3091 - val_accuracy: 0.9061 - val_loss: 0.3013\n",
            "Epoch 3/5\n",
            "\u001b[1m782/782\u001b[0m \u001b[32m━━━━━━━━━━━━━━━━━━━━\u001b[0m\u001b[37m\u001b[0m \u001b[1m128s\u001b[0m 162ms/step - accuracy: 0.8972 - loss: 0.2990 - val_accuracy: 0.9092 - val_loss: 0.2870\n",
            "Epoch 4/5\n",
            "\u001b[1m782/782\u001b[0m \u001b[32m━━━━━━━━━━━━━━━━━━━━\u001b[0m\u001b[37m\u001b[0m \u001b[1m128s\u001b[0m 161ms/step - accuracy: 0.9057 - loss: 0.2721 - val_accuracy: 0.9122 - val_loss: 0.2762\n",
            "Epoch 5/5\n",
            "\u001b[1m782/782\u001b[0m \u001b[32m━━━━━━━━━━━━━━━━━━━━\u001b[0m\u001b[37m\u001b[0m \u001b[1m125s\u001b[0m 158ms/step - accuracy: 0.9049 - loss: 0.2712 - val_accuracy: 0.9153 - val_loss: 0.2673\n"
          ]
        }
      ]
    },
    {
      "cell_type": "code",
      "source": [
        "plot_loss_curves(history)"
      ],
      "metadata": {
        "colab": {
          "base_uri": "https://localhost:8080/",
          "height": 927
        },
        "id": "oZ9AO-2Bvq6I",
        "outputId": "d2f3d63e-b9e7-4855-f421-9feff61d0799"
      },
      "execution_count": null,
      "outputs": [
        {
          "output_type": "display_data",
          "data": {
            "text/plain": [
              "<Figure size 640x480 with 1 Axes>"
            ],
            "image/png": "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\n"
          },
          "metadata": {}
        },
        {
          "output_type": "display_data",
          "data": {
            "text/plain": [
              "<Figure size 640x480 with 1 Axes>"
            ],
            "image/png": "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\n"
          },
          "metadata": {}
        }
      ]
    },
    {
      "cell_type": "code",
      "source": [
        "model.save(\"fine_tuned_model.keras\")\n",
        "model.save(\"fine_tuned_model.h5\", save_format='h5')"
      ],
      "metadata": {
        "colab": {
          "base_uri": "https://localhost:8080/"
        },
        "id": "begXGeK3vs1C",
        "outputId": "0637e584-48d1-4c9b-c91b-bbe94742ed81"
      },
      "execution_count": null,
      "outputs": [
        {
          "output_type": "stream",
          "name": "stderr",
          "text": [
            "WARNING:absl:The `save_format` argument is deprecated in Keras 3. We recommend removing this argument as it can be inferred from the file path. Received: save_format=h5\n",
            "WARNING:absl:You are saving your model as an HDF5 file via `model.save()` or `keras.saving.save_model(model)`. This file format is considered legacy. We recommend using instead the native Keras format, e.g. `model.save('my_model.keras')` or `keras.saving.save_model(model, 'my_model.keras')`. \n"
          ]
        }
      ]
    },
    {
      "cell_type": "code",
      "source": [
        "loaded_model = tf.keras.models.load_model(\"fine_tuned_model.keras\")"
      ],
      "metadata": {
        "id": "1qmFOLU3zCOL"
      },
      "execution_count": null,
      "outputs": []
    },
    {
      "cell_type": "code",
      "source": [
        "IMG_SIZE = 96  #matches the training size\n",
        "BATCH_SIZE = 64\n",
        "AUTOTUNE = tf.data.AUTOTUNE"
      ],
      "metadata": {
        "id": "AB-LcoNgz6nD"
      },
      "execution_count": null,
      "outputs": []
    },
    {
      "cell_type": "code",
      "source": [
        "# Load full CIFAR-10 dataset\n",
        "ds_full, ds_info = tfds.load(\n",
        "    'cifar10',\n",
        "    split='train+test',\n",
        "    as_supervised=True,\n",
        "    with_info=True\n",
        ")\n"
      ],
      "metadata": {
        "id": "HgeBrQs70AoH"
      },
      "execution_count": null,
      "outputs": []
    },
    {
      "cell_type": "code",
      "source": [
        "def preprocess(image, label):\n",
        "    image = tf.cast(image, tf.float32)\n",
        "    image = tf.image.resize(image, [IMG_SIZE, IMG_SIZE])\n",
        "    image = preprocess_input(image)\n",
        "    return image, label\n"
      ],
      "metadata": {
        "id": "th63rcgK0Fbt"
      },
      "execution_count": null,
      "outputs": []
    },
    {
      "cell_type": "code",
      "source": [
        "# Prepare dataset (apply preprocessing, batch, and prefetch)\n",
        "ds_full = ds_full.map(preprocess, num_parallel_calls=AUTOTUNE)\n",
        "ds_full = ds_full.batch(BATCH_SIZE).prefetch(AUTOTUNE)"
      ],
      "metadata": {
        "id": "VRIkIGPU0H-5"
      },
      "execution_count": null,
      "outputs": []
    },
    {
      "cell_type": "code",
      "source": [
        "loss, accuracy = model.evaluate(ds_full)\n",
        "loss, accuracy"
      ],
      "metadata": {
        "colab": {
          "base_uri": "https://localhost:8080/"
        },
        "id": "6dNPN5wG0KSc",
        "outputId": "d2ac48bf-9d52-43c6-a5ec-c18c3c0f69dc"
      },
      "execution_count": null,
      "outputs": [
        {
          "output_type": "stream",
          "name": "stdout",
          "text": [
            "\u001b[1m938/938\u001b[0m \u001b[32m━━━━━━━━━━━━━━━━━━━━\u001b[0m\u001b[37m\u001b[0m \u001b[1m27s\u001b[0m 28ms/step - accuracy: 0.9364 - loss: 0.1922\n"
          ]
        },
        {
          "output_type": "execute_result",
          "data": {
            "text/plain": [
              "(0.16968880593776703, 0.9430000185966492)"
            ]
          },
          "metadata": {},
          "execution_count": 39
        }
      ]
    },
    {
      "cell_type": "code",
      "source": [],
      "metadata": {
        "id": "ZeXIhf0M0Ncj"
      },
      "execution_count": null,
      "outputs": []
    }
  ]
}
